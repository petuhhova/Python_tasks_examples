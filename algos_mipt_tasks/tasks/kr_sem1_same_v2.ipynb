{
 "cells": [
  {
   "cell_type": "markdown",
   "id": "96aeb593",
   "metadata": {},
   "source": [
    "Даны координаты точки и радиус круга с центром в начале координат. Определить, принадлежит ли данная точка кругу. Напомним, что круг – это часть плоскости, состоящая из всех точек окружности и всех точек, лежащих внутри окружности.\n",
    "\n",
    "Формат входных данных Три целых числа на одной строке: координата точки по оси x, координата точки по оси y, радиус круга r (r > 0).\n",
    "\n",
    "Формат выходных данных Вывести \"YES\" без кавычек, если точка принадлежит кругу, \"NO\" без кавычек в противном случае."
   ]
  },
  {
   "cell_type": "code",
   "execution_count": 2,
   "id": "609daf9e",
   "metadata": {},
   "outputs": [
    {
     "name": "stdout",
     "output_type": "stream",
     "text": [
      "3 4 5\n",
      "YES\n"
     ]
    }
   ],
   "source": [
    "def check_is_point_in_circle(x:int,y:int,r:int) -> int:\n",
    "    \"\"\" Checks is point in circle with radius r and \n",
    "    Gets x,y -point coordinates and r-circle radius\n",
    "    returns 1 if point in circle, 0 if not, -1 if cicle dosn't exist\n",
    "    >>> check_is_point_in_circle(1,1,1)\n",
    "    0\n",
    "    >>> check_is_point_in_circle(0,0,0)\n",
    "    -1\n",
    "    >>> check_is_point_in_circle(3,4,5)\n",
    "    1\n",
    "    \"\"\"\n",
    "    if r<=0: return -1\n",
    "    if x**2 + y**2 <= r**2:\n",
    "        return 1\n",
    "    return 0\n",
    "\n",
    "def print_is_point_in_circle()-> None:\n",
    "    \"\"\"Reads x,y -point coordinates and r -circle radius from user keyboard input\n",
    "    and prints YES if point in circle, NO if not\n",
    "    x,y,r -natural numbers inputs in one string with separator ' ' \n",
    "    \"\"\"\n",
    "    values=input().split()\n",
    "    n=len(values)\n",
    "    if n!=3: return\n",
    "    for i in range(n):\n",
    "        try:\n",
    "            values[i]=int(values[i])\n",
    "        except ValueError:\n",
    "            return\n",
    "    res=check_is_point_in_circle(*values)\n",
    "    if res!=-1: print(\"YES\" if res else \"NO\")\n",
    "\n",
    "print_is_point_in_circle()  "
   ]
  },
  {
   "cell_type": "markdown",
   "id": "a4e39fe9",
   "metadata": {},
   "source": [
    "#### Сдать решение задачи B-Банковский вклад\n",
    "\n",
    "Вклад в банке составляет x рублей. Ежегодно он увеличивается на p процентов, после чего дробная часть копеек отбрасывается. Каждый год сумма вклада становится больше. Надо определить, через сколько лет вклад составит не менее y рублей.\n",
    "\n",
    "Формат входных данных Три натуральных числа: x, p, y.\n",
    "\n",
    "Формат выходных данных Число лет, через сколько лет вклад составит не менее y рублей."
   ]
  },
  {
   "cell_type": "code",
   "execution_count": 15,
   "id": "b71598aa",
   "metadata": {},
   "outputs": [],
   "source": [
    "import sys\n",
    "sys.path.append(\"../lib\")\n",
    "import input_output_func as in_out"
   ]
  },
  {
   "cell_type": "code",
   "execution_count": 4,
   "id": "0308d4e7",
   "metadata": {},
   "outputs": [
    {
     "name": "stdout",
     "output_type": "stream",
     "text": [
      "100 10 200\n",
      "8\n"
     ]
    }
   ],
   "source": [
    "def count_years_to_save_money(start_deposit:int,year_procent:int,enough_sum:int):\n",
    "    \"\"\"\n",
    "    Count years needs to save enough money\n",
    "    Gets:\n",
    "    start_deposit- start amount of money (in dollars,rubles,etc.)\n",
    "    year_procent-every year increacing procent,deposit fractional part of cents removes\n",
    "    enough_sum- money sum needs to save\n",
    "    Returns count of years enough to save enough sum or -1 if it's impossible\n",
    "    >>> count_years_to_save_money(1,1,2)\n",
    "    100\n",
    "    >>> count_years_to_save_money(1,0,2)\n",
    "    -1\n",
    "    >>> count_years_to_save_money(100,10,200)\n",
    "    8\n",
    "    \"\"\"\n",
    "    one_cent=0.01\n",
    "    if year_procent/100*start_deposit<one_cent:\n",
    "        return -1\n",
    "    incresing_coef=year_procent/100+1.\n",
    "    deposit=start_deposit\n",
    "    years_count=0\n",
    "    while deposit<enough_sum:\n",
    "        deposit*=incresing_coef\n",
    "        deposit=deposit*100//1/100\n",
    "        years_count+=1\n",
    "    return years_count\n",
    "\n",
    "x,p,y=map(int,input().split())\n",
    "res=count_years_to_save_money(x,p,y)\n",
    "if res!=-1:\n",
    "    print(res)"
   ]
  },
  {
   "cell_type": "markdown",
   "id": "7d73a17a",
   "metadata": {},
   "source": [
    "Вводится последовательность, состоящая только из 0 и 1. Необходимо найти максимальное количество 1, идущих подряд (без 0 между ними).\n",
    "\n",
    "Формат входных данных\n",
    "В первой строке задается натуральное N<=10000 , длина массива, далее идут N чисел 0 или 1 -- элементы массива. Каждое число вводится с новой строки.\n",
    "\n",
    "Формат выходных данных\n",
    "Одно число — результат."
   ]
  },
  {
   "cell_type": "code",
   "execution_count": 6,
   "id": "d867a0b1",
   "metadata": {},
   "outputs": [
    {
     "name": "stdout",
     "output_type": "stream",
     "text": [
      "10\n",
      "0\n",
      "0\n",
      "1\n",
      "1\n",
      "1\n",
      "0\n",
      "1\n",
      "1\n",
      "0\n",
      "1\n",
      "3\n"
     ]
    }
   ],
   "source": [
    "def count_max_ones(n:int):\n",
    "    \"\"\"Counts max length of subsequence of ones in sequence of ones and zeroes\n",
    "    each number in sequence reads from input\n",
    "    gets n- sequence length\n",
    "    returns max length of subsequence of ones or -1 if it's impossible\"\"\"\n",
    "    if n<=0:\n",
    "        return -1\n",
    "    count=0\n",
    "    max_ones_count=0\n",
    "    cur_ones_count=0\n",
    "    while count<n:\n",
    "        x=int(input())\n",
    "        if x:\n",
    "            cur_ones_count+=1\n",
    "        else:\n",
    "            max_ones_count=max(max_ones_count,cur_ones_count)\n",
    "            cur_ones_count=0\n",
    "        count+=1\n",
    "    max_ones_count=max(max_ones_count,cur_ones_count)\n",
    "    return max_ones_count\n",
    "\n",
    "n=int(input())\n",
    "res=count_max_ones(n)\n",
    "if res!=-1:\n",
    "    print(res)"
   ]
  },
  {
   "cell_type": "markdown",
   "id": "f6d35fd5",
   "metadata": {},
   "source": [
    "На вход программа получает набор чисел, заканчивающихся решеткой. Вам требуется найти: среднее, максимальное и минимальное число в последовательности. Так же нужно вывести cумму остатков от деления суммы троек на последнее число тройки (каждые 3 введеных числа образуют тройку).\n",
    "\n",
    "Для понимания рассмотрим пример входных данных: 1 2 3 4 5 6 среднее: (1 + 2 + 3 + 4 + 5 + 6) / 6 = 3.5 максимум: 6 минимум: 1 сумма остатков троек: (1 + 2 + 3) mod 3 + (4 + 5 + 6) mod 6 = 6 mod 3 + 15 mod 6 = 0 + 3 = 3\n",
    "\n",
    "Среднее выводить, округлив до трех знаков после запятой. Для этого нужно использовать функцию round(x, 3)\n",
    "\n",
    "Того ваша программа должна вывести: 3.5 6 1 3\n",
    "\n",
    "Подумайте, имеет ли смысл хранить всю последовательность.\n",
    "\n",
    "Формат входных данных\n",
    "Последовательность чисел, заканчивающися '#'. Все числа от 1 до 100. Количество чисел в последовательности кратно трем. Одно число на строку.\n",
    "\n",
    "Формат выходных данных\n",
    "Четыре числа, разделенных пробелом."
   ]
  },
  {
   "cell_type": "code",
   "execution_count": 7,
   "id": "2f7c98bd",
   "metadata": {},
   "outputs": [
    {
     "name": "stdout",
     "output_type": "stream",
     "text": [
      "1\n",
      "2\n",
      "3\n",
      "4\n",
      "5\n",
      "6\n",
      "#\n",
      "3.5 6 1 3\n"
     ]
    }
   ],
   "source": [
    "def calc_sequence_params():\n",
    "    \"\"\"Reads a sequence of natural numbers from input (each number in each string,\n",
    "    end symbol is '#')\n",
    "    Returns min and max number im sequence, average of numbers\n",
    "    and sum of modulos of triples sum on last number in triple\n",
    "    \"\"\"\n",
    "    min_number=float(\"+inf\")\n",
    "    max_number=sequence_sum=triples_sum=one_triple_sum=count=0\n",
    "    x=input()\n",
    "    while x!=\"#\":\n",
    "        x=int(x)\n",
    "        count+=1\n",
    "        min_number=min(min_number,x)\n",
    "        max_number=max(max_number,x)\n",
    "        one_triple_sum+=x\n",
    "        if count%3==0:\n",
    "            triples_sum+=one_triple_sum%x\n",
    "            sequence_sum+=one_triple_sum\n",
    "            one_triple_sum=0\n",
    "        x=input()\n",
    "    return round(sequence_sum/count,3),max_number,min_number,triples_sum\n",
    "print(*calc_sequence_params())"
   ]
  },
  {
   "cell_type": "markdown",
   "id": "93f1d51c",
   "metadata": {},
   "source": [
    "Есть результаты работы студентов в семестре. Студентов выводить в порядке суммы их баллов. Требутеся вывести отсортированные результаты работ для каждого студента.\n",
    "\n",
    "Данные вводятся как: student_id value\n",
    "\n",
    "student_id принимает значения от 0 до N. value от 1 до 10\n",
    "\n",
    "Пример входных данных: 0 3 0 5 1 3 1 2\n",
    "\n",
    "Тут представленны данные о двух студента: 0 и 1. Сумма балов студента 0 - 8. Студента 1 - 5. Значит, сначала должны быть напечатаны результаты 0 студента, затем 1. Таким образом сначала надо вывести отсортированные результаты студента 0, затем студента 1:\n",
    "\n",
    "5 3 3 2\n",
    "\n",
    "Напомним, что у list в питоне есть встроенный метод sort и есть функция sorted. У них есть параметр key, который определяет по каким значениям будет сортироваться объект. Например код ниже будет сортировать лист по длинне его элементов. Так же есть параметр reverse.\n",
    "\n",
    "a = ['###', '@', '??'] a.sort(key=lambda x: len(x)) a ['@', '??', '###'] a.sort(key=lambda x: len(x), reverse=True) ['###', '??', '@']\n",
    "\n",
    "Что такое лямбда функция вы узнаете в дальнейшем (так же всегда есть сайт google). Для выполнения этого задания достаточно понять, на что надо заменить функцию len.\n",
    "\n",
    "Формат входных данных\n",
    "В первой строке N - количество студентов. Далее идет какое-то количество строк (не равное N) с результатами студентов в формате: student_id value. 0 <= student_id < N. Значения разделены пробелом. Ввод заканчивается #.\n",
    "\n",
    "Формат выходных данных\n",
    "Вывести отсортированные результаты студентов в одну строку. Сначала печатаются результаты лучшего по сумме баллов студента, потом второго и так далее. Результаты в одну строку\n"
   ]
  },
  {
   "cell_type": "markdown",
   "id": "33ccfd90",
   "metadata": {},
   "source": [
    "Со встроенной сортировкой все понятно. \\\n",
    "пусть m- кол-во заданных пар оценок \\\n",
    "Тогда сортировка студентов по сумме - max(O(nlogn),O(m)) \\\n",
    "сортировка списков студентов O(mlog(m)) в худшем случае \\\n",
    "Ради интереса ниже представлены попытки улучшить время путем сортировки списка студента сортировкой подсчетом O(m)\n",
    "ну заоодно использована и собственно написанная быстрая сортировка"
   ]
  },
  {
   "cell_type": "code",
   "execution_count": 12,
   "id": "5b5954d3",
   "metadata": {
    "scrolled": true
   },
   "outputs": [
    {
     "name": "stdout",
     "output_type": "stream",
     "text": [
      "[10, 3] 0 13\n",
      "[4, 3, 2] 2 9\n",
      "[] 1 0\n",
      "10 3 4 3 2\n"
     ]
    }
   ],
   "source": [
    "#v1\n",
    "class Student:\n",
    "    def __init__(self, id_:int=0,marks=None):\n",
    "        self.id_ = id_\n",
    "        if marks is None:\n",
    "            marks=[]\n",
    "        self.marks = marks\n",
    "        self.sum_marks = sum(marks) if marks else 0\n",
    "        \n",
    "    def count_sum_marks(self):\n",
    "        self.sum_marks = sum(self.marks) if self.marks else 0\n",
    "        \n",
    "    def __lt__(self, other):\n",
    "        return self.sum_marks < other.sum_marks\n",
    "        \n",
    "    def __gt__(self, other):\n",
    "        return self.sum_marks > other.sum_marks\n",
    "        \n",
    "    def __eq__(self, other):\n",
    "        return self.sum_marks == other.sum_marks\n",
    "        \n",
    "import random\n",
    "def hoar_sort(A:list,min_index=0,max_index=-2,reverse=False):\n",
    "    \"\"\"\n",
    "    Sorts numbers list by hoar sort algo, values increasing\n",
    "    \"\"\"\n",
    "    N=len(A)\n",
    "    max_index=N-1 if max_index==-2 else max_index #N-1 по умолчанию\n",
    "    if max_index-min_index<1:\n",
    "        return\n",
    "    k=random.randint(min_index,max_index)\n",
    "    barr=A[k] #барьерный элемент\n",
    "    A[k],A[min_index]=A[min_index],A[k]\n",
    "    l=i=min_index+1\n",
    "    r=j=max_index\n",
    "    while i<=j:\n",
    "        while i<=max_index and (barr>A[i] if not reverse else barr<A[i]):\n",
    "            i+=1;\n",
    "        while barr<A[j] if not reverse else barr>A[j]:\n",
    "            j-=1;\n",
    "        if i>=j:\n",
    "            break\n",
    "        A[i],A[j]=A[j],A[i]\n",
    "        if barr==A[i]:\n",
    "            A[l],A[i]=A[i],A[l]\n",
    "            l+=1\n",
    "        i+=1\n",
    "        if barr==A[j]:\n",
    "            A[r],A[j]=A[j],A[r]\n",
    "            r-=1\n",
    "        j-=1\n",
    "    k=min_index\n",
    "    while k<l:\n",
    "        A[k],A[j]=A[j],A[k]\n",
    "        j-=1;k+=1\n",
    "    k=r+1\n",
    "    while k<=max_index:\n",
    "        A[k],A[i]=A[i],A[k]\n",
    "        i+=1;k+=1\n",
    "    hoar_sort(A,min_index,j,reverse)\n",
    "    hoar_sort(A,i,max_index,reverse)  \n",
    "\n",
    "def get_number_index(*,number=None,index=None):\n",
    "    \"\"\"Gets mark by index or index by mark\n",
    "    >>> get_number_index(number=1)\n",
    "    0\n",
    "    >>> get_number_index(index=0)\n",
    "    1\n",
    "    >>> get_number_index(number=1,index=1)\n",
    "    \n",
    "    >>> get_number_index()\n",
    "    \n",
    "    \"\"\"\n",
    "    if index is None:\n",
    "        if not number is None:\n",
    "            index=number-1\n",
    "        return index\n",
    "    elif number is None:\n",
    "        number=index+1\n",
    "        return number\n",
    "    \n",
    "def count_sort1(numbers,d_set_length,get_number_index=get_number_index,reverse=False):\n",
    "    \"\"\"Sorst numbers list by index descending\n",
    "    d_set_length-length of discrete set of numbers appearing in list\n",
    "    get_number_index(number,index)\n",
    "    - function wich gets a number by it's index(in range(0,d_set_length))\n",
    "    or an index  by a number\n",
    "    \"\"\"\n",
    "    F=[0]*d_set_length\n",
    "    for x in numbers:\n",
    "        i=get_number_index(number=x)\n",
    "        if i>=d_set_length: return\n",
    "        F[i]+=1\n",
    "    count=0\n",
    "    for i in range(d_set_length) if not reverse else range(d_set_length-1,-1,-1):\n",
    "        for j in range(F[i]):\n",
    "            numbers[count]=get_number_index(index=i)\n",
    "            count+=1\n",
    "    \n",
    "def sort_students1(students,max_mark=10):\n",
    "    \"\"\"Sort student marks by student max sum of marks decreasing first,\n",
    "    each student marks decreasing second\n",
    "    Gets n-number of marks, students-list of students, each student contains list of his marks\n",
    "    returns sorted list students\"\"\"\n",
    "    for i in range(len(students)):\n",
    "        if students[i].marks:\n",
    "            count_sort1(students[i].marks,max_mark,reverse=True)\n",
    "            students[i].count_sum_marks()\n",
    "    hoar_sort(students,reverse=True)\n",
    "\n",
    "\"\"\"n=int(input())\n",
    "string=input()\n",
    "students=[Student(id_=i) for i in range(n)]\n",
    "while string !='#':\n",
    "    id_,mark=map(int,string.split())\n",
    "    if id_ < n:\n",
    "        students[id_].marks.append(mark)\n",
    "    string=input()\n",
    "\"\"\"\n",
    "path_to_data=\"../data/\"\n",
    "A=[\"0 3\",\"0 10\",\"2 3\",\"2 2\",\"2 4\"]\n",
    "n=3\n",
    "in_out.write_numbers_to_file(A,file_name=path_to_data+\"students.txt\",end_symbol='#')\n",
    "data=in_out.input_numbers(file_name=path_to_data+\"students.txt\",n_type=int,end_symbol='#')\n",
    "students=[Student(id_=i) for i in range(n)]\n",
    "for d in data:\n",
    "    id_,mark=d\n",
    "    if id_ < n:\n",
    "        students[id_].marks.append(mark)\n",
    "        #print(students[id_].marks,students[id_].id_)\n",
    "sort_students1(students)\n",
    "for student in students:\n",
    "    print(student.marks,student.id_,student.sum_marks)\n",
    "marks=[]\n",
    "for student in students:\n",
    "    #if not student.marks: break\n",
    "    marks+=student.marks\n",
    "    student.marks=[]\n",
    "print(*marks)"
   ]
  },
  {
   "cell_type": "code",
   "execution_count": 14,
   "id": "e44a8817",
   "metadata": {},
   "outputs": [
    {
     "name": "stdout",
     "output_type": "stream",
     "text": [
      "2\n",
      "0 10\n",
      "0 5\n",
      "1 2\n",
      "1 3\n",
      "1 1\n",
      "#\n",
      "10 5 3 2 1\n"
     ]
    }
   ],
   "source": [
    "#V2\n",
    "       \n",
    "import random\n",
    "def hoar_sort_rev(A:list,min_index=0,max_index=-2):\n",
    "    \"\"\"\n",
    "    Sorts numbers list by hoar sort algo, values decriasing\n",
    "    \"\"\"\n",
    "    N=len(A)\n",
    "    max_index=N-1 if max_index==-2 else max_index #N-1 по умолчанию\n",
    "    if max_index-min_index<1:\n",
    "        return\n",
    "    k=random.randint(min_index,max_index)\n",
    "    barr=A[k] #барьерный элемент\n",
    "    A[k],A[min_index]=A[min_index],A[k]\n",
    "    l=i=min_index+1\n",
    "    r=j=max_index\n",
    "    while i<=j:\n",
    "        while i<=max_index and barr<A[i]:\n",
    "            i+=1;\n",
    "        while barr>A[j]:\n",
    "            j-=1;\n",
    "        if i>=j:\n",
    "            break\n",
    "        A[i],A[j]=A[j],A[i]\n",
    "        if barr==A[i]:\n",
    "            A[l],A[i]=A[i],A[l]\n",
    "            l+=1\n",
    "        i+=1\n",
    "        if barr==A[j]:\n",
    "            A[r],A[j]=A[j],A[r]\n",
    "            r-=1\n",
    "        j-=1\n",
    "    k=min_index\n",
    "    while k<l:\n",
    "        A[k],A[j]=A[j],A[k]\n",
    "        j-=1;k+=1\n",
    "    k=r+1\n",
    "    while k<=max_index:\n",
    "        A[k],A[i]=A[i],A[k]\n",
    "        i+=1;k+=1\n",
    "    hoar_sort_rev(A,min_index,j)\n",
    "    hoar_sort_rev(A,i,max_index) \n",
    "    \n",
    "def count_sort_rev(numbers,d_set_length):\n",
    "    \"\"\"Sorst numbers list by index descending\n",
    "    d_set_length-length of discrete set of numbers appearing in list\n",
    "    returns sum of numbers\n",
    "    \"\"\"\n",
    "    F=[0]*d_set_length\n",
    "    for x in numbers:\n",
    "        i=x-1\n",
    "        F[i]+=1\n",
    "    count=0\n",
    "    for i in range(d_set_length-1,-1,-1):\n",
    "        for j in range(F[i]):\n",
    "            numbers[count]=i+1\n",
    "            count+=1\n",
    "    \n",
    "def sort_students(students,max_mark=10):\n",
    "    \"\"\"Sort student marks by student max sum of marks decreasing first,\n",
    "    each student marks decreasing second\n",
    "    Gets n-number of marks, students-list of students, each student contains list of his marks\n",
    "    returns sorted list students\"\"\"\n",
    "    for i in range(len(students)):\n",
    "        if students[i].marks:\n",
    "            count_sort_rev(students[i].marks,max_mark)\n",
    "            students[i].count_sum_marks()\n",
    "    hoar_sort_rev(students)\n",
    "\n",
    "n=int(input())\n",
    "s=input()\n",
    "students=[Student(id_=i) for i in range(n)]\n",
    "while s !='#':\n",
    "    id_,mark=map(int,s.split())\n",
    "    if id_ < n:\n",
    "        students[id_].marks.append(mark)\n",
    "    s=input()\n",
    "sort_students(students)\n",
    "marks=[]\n",
    "for student in students:\n",
    "    if not student.marks: break\n",
    "    marks+=student.marks\n",
    "    student.marks=[]\n",
    "print(*marks)"
   ]
  },
  {
   "cell_type": "code",
   "execution_count": 16,
   "id": "9aedd7ad",
   "metadata": {},
   "outputs": [],
   "source": [
    "def test_count_sort():\n",
    "    A=[[4,1,2,1,3,3],[7,6,2,1,7],[3,3,1,1],[10,1]]\n",
    "    max_index=[4,4,3,10]\n",
    "    answer=[[1,1,2,3,3,4],[7,6,2,1,7],[1,1,3,3],[1,10]]\n",
    "    for i in range(len(A)):\n",
    "        count_sort(A[i],max_index[i])\n",
    "        print(\"Ok\" if A[i]==answer[i] else \"Fail\",\"Write:\",answer[i],\"Res:\",A[i],sep=\"\\n\")\n",
    "#test_count_sort()"
   ]
  },
  {
   "cell_type": "code",
   "execution_count": 17,
   "id": "bd78a2f7",
   "metadata": {},
   "outputs": [],
   "source": [
    "def sort_students_list(students_list:list):\n",
    "    students_list.sort(key=lambda x:sum(x),reverse=True)\n",
    "    for i in range(len(students_list)):\n",
    "        students_list[i].sort(reverse=True)"
   ]
  },
  {
   "cell_type": "code",
   "execution_count": 18,
   "id": "ac868250",
   "metadata": {},
   "outputs": [
    {
     "name": "stdout",
     "output_type": "stream",
     "text": [
      "File does not exist, do you want to ceate a new one?\n",
      "print yes or no \n",
      "yes\n",
      "Ok\n",
      "[10, 3, 4, 3, 2]\n",
      "Ok\n",
      "[10, 10, 1, 10, 4, 4, 3]\n"
     ]
    }
   ],
   "source": [
    "import time\n",
    "def test_sort_students():\n",
    "    B=[\"0 4\",\"0 10\",\"2 10\",\"0 4\", \"4 3\", \"2 1\", \"2 10\"]\n",
    "    A=[[\"0 3\",\"0 10\",\"2 3\",\"2 2\",\"2 4\"],B]\n",
    "    answer=[[10,3,4,3,2],[10,10,1,10,4,4,3]]\n",
    "    n=[3,5]\n",
    "    for i in range(len(A)):\n",
    "        in_out.write_numbers_to_file(A[i],file_name=\"students.txt\",end_symbol='#')\n",
    "        data=in_out.input_numbers(file_name=\"students.txt\",n_type=int,end_symbol='#')\n",
    "        students=[Student(id_=j) for j in range(n[i])]\n",
    "        for d in data:\n",
    "            id_,mark=d\n",
    "            if id_ < n[i]:\n",
    "                students[id_].marks.append(mark)\n",
    "        sort_students(students)\n",
    "        marks=[]\n",
    "        for student in students:\n",
    "            marks+=student.marks\n",
    "        print(\"Ok\" if marks==answer[i] else \"Fail\",marks,sep=\"\\n\")\n",
    "test_sort_students()"
   ]
  },
  {
   "cell_type": "code",
   "execution_count": 37,
   "id": "9a85e68b",
   "metadata": {
    "scrolled": true
   },
   "outputs": [
    {
     "name": "stdout",
     "output_type": "stream",
     "text": [
      "1,2 - sorts with count sort, 3 - sort with sort() method\n",
      "Test1: 1:0.00010466575622558594, 2: 9.703636169433594e-05,3: 2.6226043701171875e-05\n",
      "marks size: 10, n students: 100\n",
      "Test2: 1:0.0002605915069580078, 2: 0.0002446174621582031,3: 2.6941299438476562e-05\n",
      "marks size: 100, n students: 100\n",
      "Test3: 1:0.0006492137908935547, 2: 0.0004572868347167969,3: 5.173683166503906e-05\n",
      "marks size: 1000, n students: 100\n",
      "Test4: 1:0.0030841827392578125, 2: 0.0011546611785888672,3: 0.00038743019104003906\n",
      "marks size: 10000, n students: 100\n",
      "Test5: 1:0.2293853759765625, 2: 0.09836220741271973,3: 0.04544472694396973\n",
      "marks size: 1000000, n students: 100\n"
     ]
    }
   ],
   "source": [
    "def compare_sort_students(n,marks_sizes):\n",
    "    print(\"1,2 - sorts with count sort, 3 - sort with sort() method\")\n",
    "    for k,marks_size in enumerate(marks_sizes):\n",
    "        students_list=[[] for j in range(n)]\n",
    "        students=[Student(id_=j) for j in range(n)]\n",
    "        for j in range(marks_size):\n",
    "            mark=random.randint(1,10)\n",
    "            id_=random.randint(0,n-1)\n",
    "            students[id_].marks.append(mark)\n",
    "            students_list[id_].append(mark)\n",
    "        students_copy=[0 for j in range(n)]\n",
    "        for i in range(len(students)):\n",
    "            students_copy[i]=students[i]\n",
    "        time1_start=time.time()\n",
    "        sort_students1(students)\n",
    "        time1_end=time.time()\n",
    "        time2_start=time.time()\n",
    "        sort_students(students_copy)\n",
    "        time2_end=time.time()\n",
    "        time3_start=time.time()\n",
    "        sort_students_list(students_list)\n",
    "        time3_end=time.time()\n",
    "        print(\"Test{}: 1:{}, 2: {},3: {}\".format(k+1,time1_end-time1_start,time2_end-time2_start,time3_end-time3_start))\n",
    "        print(\"marks size: {}, n students: {}\".format(marks_size,n))\n",
    "n=100\n",
    "marks_sizes=[10,100,1000,10000,1000000]\n",
    "compare_sort_students(n,marks_sizes)"
   ]
  },
  {
   "cell_type": "code",
   "execution_count": 38,
   "id": "9774ca3b",
   "metadata": {},
   "outputs": [
    {
     "name": "stdout",
     "output_type": "stream",
     "text": [
      "1,2 - sorts with count sort, 3 - sort with sort() method\n",
      "Test1: 1:0.008884906768798828, 2: 0.00439143180847168,3: 0.0009632110595703125\n",
      "marks size: 10000, n students: 100\n"
     ]
    }
   ],
   "source": [
    "%load_ext line_profiler\n",
    "%lprun -f sort_students1 -f sort_students -f sort_students_list compare_sort_students(100,[10000])"
   ]
  },
  {
   "cell_type": "markdown",
   "id": "f2d9c88e",
   "metadata": {},
   "source": [
    "Как итог - время не улучшилось, даже при m>>n, надо оптимизировать алгоритмы(в первую очередь сортировки подсчетом, да и отдельный класс студентов наверное не имело смысла писать)."
   ]
  },
  {
   "cell_type": "code",
   "execution_count": 25,
   "id": "e67bb325",
   "metadata": {},
   "outputs": [
    {
     "data": {
      "text/plain": [
       "TestResults(failed=0, attempted=10)"
      ]
     },
     "execution_count": 25,
     "metadata": {},
     "output_type": "execute_result"
    }
   ],
   "source": [
    "import doctest\n",
    "doctest.testmod()"
   ]
  }
 ],
 "metadata": {
  "kernelspec": {
   "display_name": "Python 3 (ipykernel)",
   "language": "python",
   "name": "python3"
  },
  "language_info": {
   "codemirror_mode": {
    "name": "ipython",
    "version": 3
   },
   "file_extension": ".py",
   "mimetype": "text/x-python",
   "name": "python",
   "nbconvert_exporter": "python",
   "pygments_lexer": "ipython3",
   "version": "3.8.10"
  },
  "varInspector": {
   "cols": {
    "lenName": 16,
    "lenType": 16,
    "lenVar": 40
   },
   "kernels_config": {
    "python": {
     "delete_cmd_postfix": "",
     "delete_cmd_prefix": "del ",
     "library": "var_list.py",
     "varRefreshCmd": "print(var_dic_list())"
    },
    "r": {
     "delete_cmd_postfix": ") ",
     "delete_cmd_prefix": "rm(",
     "library": "var_list.r",
     "varRefreshCmd": "cat(var_dic_list()) "
    }
   },
   "types_to_exclude": [
    "module",
    "function",
    "builtin_function_or_method",
    "instance",
    "_Feature"
   ],
   "window_display": false
  }
 },
 "nbformat": 4,
 "nbformat_minor": 5
}
