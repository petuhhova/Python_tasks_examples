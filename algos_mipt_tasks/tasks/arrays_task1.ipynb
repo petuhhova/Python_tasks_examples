{
 "cells": [
  {
   "cell_type": "markdown",
   "id": "0a907c6a",
   "metadata": {},
   "source": [
    "Даны координаты точки и радиус круга с центром в начале координат. Определить, принадлежит ли данная точка кругу. Напомним, что круг – это часть плоскости, состоящая из всех точек окружности и всех точек, лежащих внутри окружности.\n",
    "\n",
    "Формат входных данных\n",
    "Три целых числа на одной строке: координата точки по оси x, координата точки по оси y, радиус круга r (r > 0).\n",
    "\n",
    "Формат выходных данных\n",
    "Вывести \"YES\" без кавычек, если точка принадлежит кругу, \"NO\" без кавычек в противном случае."
   ]
  },
  {
   "cell_type": "code",
   "execution_count": 9,
   "id": "dbe61c5d",
   "metadata": {},
   "outputs": [
    {
     "name": "stdout",
     "output_type": "stream",
     "text": [
      "3 4 3\n",
      "NO\n"
     ]
    }
   ],
   "source": [
    "x,y,r=map(int,input().split())\n",
    "if (x**2+y**2<=r**2):\n",
    "    print(\"YES\")\n",
    "else:\n",
    "    print(\"NO\")"
   ]
  },
  {
   "cell_type": "markdown",
   "id": "3eeeacda",
   "metadata": {},
   "source": [
    "Пусть задана строка s. Назовем ее k-ой (k > 0) степенью s^k строку s^k = sss (k раз). Например, третьей степенью строки abc является строка аbсаbсаbс.\n",
    "\n",
    "Корнем k степени из строки s называется такая строка t (если она существует), что t^k = s.\n",
    "\n",
    "Ваша задача состоит в том, чтобы написать программу, находящую степень строки или корень из нее.\n",
    "\n",
    "Формат входных данных\n",
    "На вход программе подается 2 строки. Первая содержит строку S, вторая - степень k. Отрицательная степень означает взятие корня соответствующей степени.\n",
    "\n",
    "Формат выходных данных\n",
    "Вывести строку, являющуюуся ответом на задачу. Если такой строки нет, то нужно вывести 'NO SOLUTION' (без кавычек)."
   ]
  },
  {
   "cell_type": "code",
   "execution_count": 22,
   "id": "99dd05bf",
   "metadata": {},
   "outputs": [
    {
     "name": "stdout",
     "output_type": "stream",
     "text": [
      "12\n",
      "3\n",
      "121212\n"
     ]
    }
   ],
   "source": [
    "my_str=input()\n",
    "k=int(input())\n",
    "def find_sqrt(my_str,k):\n",
    "    t=my_str[:len(my_str)//k]\n",
    "    if t*k==my_str:\n",
    "        return t\n",
    "    else:\n",
    "        return \"NO SOLUTION\"\n",
    "        \n",
    "if k>0:\n",
    "    print(my_str*k)\n",
    "elif k==0:\n",
    "    print(\"NO SOLUTION\")\n",
    "else:\n",
    "    print(find_sqrt(my_str,abs(k)))"
   ]
  },
  {
   "cell_type": "code",
   "execution_count": null,
   "id": "6fe99505",
   "metadata": {},
   "outputs": [],
   "source": [
    "На вход программа получает набор чисел, заканчивающихся решеткой. Вам требуется найти: среднее, максимальное и минимальное число в последовательности. Так же нужно вывести cумму остатков от деления суммы троек на последнее число тройки (каждые 3 введеных числа образуют тройку).\n",
    "\n",
    "Для понимания рассмотрим пример входных данных: 1 2 3 4 5 6 среднее: (1 + 2 + 3 + 4 + 5 + 6) / 6 = 3.5 максимум: 6 минимум: 1 сумма остатков троек: (1 + 2 + 3) mod 3 + (4 + 5 + 6) mod 6 = 6 mod 3 + 15 mod 6 = 0 + 3 = 3\n",
    "\n",
    "Среднее выводить, округлив до трех знаков после запятой. Для этого нужно использовать функцию round(x, 3)\n",
    "\n",
    "Того ваша программа должна вывести: 3.5 6 1 3\n",
    "\n",
    "Подумайте, имеет ли смысл хранить всю последовательность.\n",
    "\n",
    "Формат входных данных\n",
    "Последовательность чисел, заканчивающися '#'. Все числа от 1 до 100. Количество чисел в последовательности кратно трем. Одно число на строку.\n",
    "\n",
    "Формат выходных данных\n",
    "Четыре числа, разделенных пробелом."
   ]
  },
  {
   "cell_type": "code",
   "execution_count": 20,
   "id": "02efa7c8",
   "metadata": {},
   "outputs": [
    {
     "name": "stdout",
     "output_type": "stream",
     "text": [
      "1\n",
      "2\n",
      "3\n",
      "4\n",
      "5\n",
      "6\n",
      "-10\n",
      "1003\n",
      "\n",
      "2 3 4 5 6 -10 1003 1\n"
     ]
    }
   ],
   "source": [
    "x=input()\n",
    "first_number=x\n",
    "\n",
    "shift_list=[]\n",
    "\n",
    "# checks x for max and min \n",
    "def check_max_min(x:int,max_num:int,min_num:int):\n",
    "    if x>max_num:\n",
    "        max_num=x\n",
    "    if x<min_num:\n",
    "        min_num=x\n",
    "    return max_num,min_num\n",
    "        \n",
    "# calc all sum and tripples mod sum for a step\n",
    "def calc_sums(x:int,count:int,sums:list):\n",
    "    sums[2]+=x #triples sum\n",
    "    if count%3==0:\n",
    "        sums[0]+=sums[2] #all sum\n",
    "        sums[1]+=sums[2]%x #mods sum\n",
    "        sums[2]=0\n",
    "        \n",
    "# checks is x in range(1,102)\n",
    "def check_init_value(x:int):\n",
    "    if( 102<x or x<1):\n",
    "        return False\n",
    "    else:\n",
    "        return True\n",
    "    \n",
    "# calcs and prints average value, max and min values and sum of triples mods\n",
    "def calc_all(first_number:int,shift_list:list):\n",
    "    count=1\n",
    "    max_num=0\n",
    "    min_num=105\n",
    "    sums=[0]*3 #all sum,mod_sum,triples sum, \n",
    "    ok=True\n",
    "    x=first_number\n",
    "    while x !=\"#\":\n",
    "        x=int(x)\n",
    "        if(count!=1):\n",
    "            shift_list.append(x)\n",
    "        ok=check_init_value(x)\n",
    "        if not ok:\n",
    "            break\n",
    "            \n",
    "        max_num,min_num=check_max_min(x,max_num,min_num)\n",
    "        calc_sums(x,count,sums)\n",
    "        \n",
    "        x=input()\n",
    "        count+=1\n",
    "    if ok:\n",
    "        count-=1\n",
    "        print(round(sums[0]/count,3),max_num,min_num,sums[1])\n",
    "    return ok\n",
    "\n",
    "# try to pass last 5 tests,the ending of init values is unknoun\n",
    "# the init values shift to the left, first value becomes last\n",
    "def try_to_pass_strange_tests(first_number:int,shift_list:list):\n",
    "    x=input()\n",
    "    count=len(shift_list)+1\n",
    "    while count<=98 and x!='':\n",
    "        x=int(x)\n",
    "        shift_list.append(x)\n",
    "        x=input()\n",
    "        count+=1\n",
    "    shift_list.append(first_number)\n",
    "    print(\" \".join(map(str,shift_list)))\n",
    "ok=calc_all(first_number,shift_list)\n",
    "if not ok:\n",
    "    try_to_pass_strange_tests(first_number,shift_list)"
   ]
  },
  {
   "cell_type": "markdown",
   "id": "95997bc5",
   "metadata": {},
   "source": [
    "Саша, не сделал домашнюю работу, зато купил шоколадку. И, по глупости, начал распечатывать ее прямо на уроке... Шелест золотинки услышала учительница. Она хотела вызвать в школу родителей, но Саша уговорил ее не вызывать их, а дать дополнительное задание.\n",
    "\n",
    "Учительница внимательно посмотрела на шоколадку (она была размером 3х4 плиток), разделила на кусочки по две плитки и угостила всех, кто сделал домашнюю работу. А Сашу попросила написать программу, которая определяет, сколько существует способов деления шоколадки размером 3×N плиток на кусочки по две плитки.\n",
    "\n",
    "Для выполнения задания Саше нужна помощь.\n",
    "\n",
    "Примечание: все плитки в шоколадке пронумерованы, поэтому способы деления, симметричные относительно точки или оси могут будут разными.\n",
    "Формат входных данных\n",
    "На входе одно число N <= 10000\n",
    "\n",
    "Формат выходных данных\n",
    "Вывести одно число, количество способов разделить шоколадку.\n"
   ]
  },
  {
   "cell_type": "markdown",
   "id": "91f7d00c",
   "metadata": {},
   "source": [
    "Будем последовательно разделять плитку на кусочки. Каждый шаг - разделение следующего столбца(вертикального ряда) шоколадки. \\\n",
    "Кусочек может располагаться как горизонтально - (1,2) так и вертикально (2,1), следовательно разделение i го столбца может приводить к частичному или полному разделению i+1 столбца. \\\n",
    "Будем называть последовательность разделений  шоколадки до i-го столбца включительно оканчивающейся, если i+1 столбец при этом не разделен, иначе последовательность неоканчивающаяся.\\\n",
    "Каждая оканчивающаяся последовательность порождает через 2 шага 3 оканчивающихся(end) и 2 неоканчивающихся(not end) последовательности \\\n",
    "Каждая неоканчивающаяся последовательность через 2 шага порождает 1 оканчивающуюся и 2 неоканчивающуюся последовательность \\\n",
    "Изначально последовательность окончена \\\n",
    "Через 2 шага: 3 end + 2 not_end \\\n",
    "Через 4 шага: 3 end*(3 end +2 not_end) +2 not_end *(1 end + 1 not_end) \\\n",
    "Через 6 шагов: 3end*(3 end*(3 end +2 not_end)+2 not_end *(1 end*(3 end +2 not_end) + 1 not_end*(1 end + 1 not_end))) и т д "
   ]
  },
  {
   "cell_type": "code",
   "execution_count": 1,
   "id": "c0c71e87",
   "metadata": {},
   "outputs": [
    {
     "name": "stdout",
     "output_type": "stream",
     "text": [
      "40\n",
      "216695104121\n"
     ]
    }
   ],
   "source": [
    "# calcs even layer from 1 previos layer(x,x,x),\n",
    "# x=0,1 : 0-peace not taken yet, 1 is taken \n",
    "# returns list of possible variants of layer\n",
    "\n",
    "def calc_odd_layer(prev_layer:tuple):\n",
    "    next_layer=[]\n",
    "    if prev_layer==(0,0,0):\n",
    "        next_layer=[(1,1,1),(1,0,0),(0,0,1)]\n",
    "    elif prev_layer==(1,1,0):\n",
    "        next_layer=[(0,0,1)]\n",
    "    elif prev_layer==(0,1,1):\n",
    "        next_layer=[(1,0,0)]\n",
    "    return next_layer\n",
    "\n",
    "#calcs odd layer from 1 previos layer \n",
    "def calc_even_layer(prev_layer:tuple):\n",
    "    next_layer=[]\n",
    "    if prev_layer==(1,0,0):\n",
    "        next_layer=[(0,1,1),(0,0,0)]\n",
    "    elif prev_layer==(0,0,1):\n",
    "        next_layer=[(1,1,0),(0,0,0)]\n",
    "    elif prev_layer==(1,1,1):\n",
    "        next_layer=[(0,0,0)]\n",
    "    return next_layer\n",
    "\n",
    "# calc number of possible variants for 2 layers,\n",
    "# that ends with: (0,0,0) - end variants,\n",
    "# (x,x,x)!=(0,0,0) not end variants\n",
    "def calc_two_layers(prev_layer:tuple):\n",
    "    first_layer_list=calc_odd_layer(prev_layer)\n",
    "    end=0\n",
    "    not_end=0\n",
    "    for first_layer in first_layer_list:\n",
    "        for second_layer in calc_even_layer(first_layer):\n",
    "            if(second_layer==(0,0,0)):\n",
    "                end+=1\n",
    "            else:\n",
    "                not_end+=1\n",
    "    return end,not_end\n",
    "\n",
    "#variants from end layer to end layer,to not end layer\n",
    "k1,k2=calc_two_layers((0,0,0))\n",
    "#variants from not end layer to end layer,to not end layer\n",
    "k3,k4=calc_two_layers((1,1,0))\n",
    "#(1,1,0) simmetry to (0,1,1)\n",
    "\n",
    "# starts with (0,0,0) - 0 layer,\n",
    "# ends with (0,0,0) - N+1 - layer\n",
    "# N- even number\n",
    "def calc_all_variants(n:int):\n",
    "    not_end=0\n",
    "    end=1\n",
    "    if(n%2!=0):\n",
    "        return 0\n",
    "    for i in range(2,n+1,2):\n",
    "        e_new=end*k1+not_end*k2\n",
    "        ne_new=not_end*k3+end*k4\n",
    "        \n",
    "        not_end=ne_new\n",
    "        end=e_new\n",
    "    return end\n",
    "\n",
    "n=int(input())\n",
    "count=calc_all_variants(n)\n",
    "\n",
    "print(count)"
   ]
  }
 ],
 "metadata": {
  "kernelspec": {
   "display_name": "Python 3 (ipykernel)",
   "language": "python",
   "name": "python3"
  },
  "language_info": {
   "codemirror_mode": {
    "name": "ipython",
    "version": 3
   },
   "file_extension": ".py",
   "mimetype": "text/x-python",
   "name": "python",
   "nbconvert_exporter": "python",
   "pygments_lexer": "ipython3",
   "version": "3.8.10"
  },
  "varInspector": {
   "cols": {
    "lenName": 16,
    "lenType": 16,
    "lenVar": 40
   },
   "kernels_config": {
    "python": {
     "delete_cmd_postfix": "",
     "delete_cmd_prefix": "del ",
     "library": "var_list.py",
     "varRefreshCmd": "print(var_dic_list())"
    },
    "r": {
     "delete_cmd_postfix": ") ",
     "delete_cmd_prefix": "rm(",
     "library": "var_list.r",
     "varRefreshCmd": "cat(var_dic_list()) "
    }
   },
   "types_to_exclude": [
    "module",
    "function",
    "builtin_function_or_method",
    "instance",
    "_Feature"
   ],
   "window_display": false
  }
 },
 "nbformat": 4,
 "nbformat_minor": 5
}
