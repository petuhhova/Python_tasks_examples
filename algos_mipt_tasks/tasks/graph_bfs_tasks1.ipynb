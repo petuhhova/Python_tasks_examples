{
 "cells": [
  {
   "cell_type": "markdown",
   "id": "56aea03a",
   "metadata": {},
   "source": [
    "#### Замечание\n",
    "Ввод значений для удобства из файла\\\n",
    "Для ввода с клавиатуры использовать методы print_< current_task >(input)."
   ]
  },
  {
   "cell_type": "code",
   "execution_count": 1,
   "id": "233e9e09",
   "metadata": {},
   "outputs": [],
   "source": [
    "import sys\n",
    "from pathlib import Path\n",
    "sys.path.append(\"../lib\")\n",
    "path_to_data=Path(\"../data/\")\n",
    "from input_output_func import write_to_file"
   ]
  },
  {
   "cell_type": "markdown",
   "id": "b7ea9aa1",
   "metadata": {},
   "source": [
    "####  A-Поиск кратчайшего пути между двумя узлами невзвешенного графа\n",
    "\n",
    "Формат входных данных\n",
    "На вход программе в первой строке подаются через пробел четыре числа: n, m, x, y. Число n (2 <= n <= 1000) - количество вершин в графе, m (1 <= m <= 20000) - количество ребер. x и y - начальная и конечная вершины соответственно (0 <= x,y < n). В следующих m строках задаются ребра, по два числа в каждой строке - номера соединенных вершин.\n",
    "\n",
    "Формат выходных данных\n",
    "Требутеся распечатать одно число - расстояние от вершины x до вершины y .\n",
    "\n"
   ]
  },
  {
   "cell_type": "code",
   "execution_count": 3,
   "id": "4c0425fb",
   "metadata": {},
   "outputs": [
    {
     "name": "stdout",
     "output_type": "stream",
     "text": [
      "file A.txt exists\n"
     ]
    }
   ],
   "source": [
    "text=\"\"\"8 10 5 2\n",
    "4 7\n",
    "5 1\n",
    "0 1\n",
    "3 1\n",
    "0 2\n",
    "3 5\n",
    "3 4\n",
    "0 4\n",
    "4 6\n",
    "5 4\"\"\"\n",
    "path=path_to_data.joinpath(\"graph/bfs/A.txt\")\n",
    "write_to_file(text,path)"
   ]
  },
  {
   "cell_type": "code",
   "execution_count": 4,
   "id": "0a53d322",
   "metadata": {},
   "outputs": [
    {
     "name": "stdout",
     "output_type": "stream",
     "text": [
      "3\n"
     ]
    }
   ],
   "source": [
    "from get_graph import get_graph_from_edges\n",
    "from collections import deque\n",
    "\n",
    "def bfs_min_distance(graph,start,end):\n",
    "    \"\"\"Calc minimun distance between vertexes start and end in graph\n",
    "    Return distance or None if weres no graph\"\"\"\n",
    "    if start==end:\n",
    "        return 0\n",
    "    distance={start:0}\n",
    "    queue=deque([start])\n",
    "    while queue:\n",
    "        v=queue.popleft()\n",
    "        for u in graph[v]:\n",
    "            if u not in distance:\n",
    "                distance[u]=distance[v]+1\n",
    "                if u==end: return distance[u]\n",
    "                queue.append(u)\n",
    "                \n",
    "def print_distance(read_line):\n",
    "    n,m,start,end=map(int,read_line().split())\n",
    "    graph=get_graph_from_edges(read_line,n,m)\n",
    "    res=bfs_min_distance(graph,start,end)\n",
    "    if not res is None:\n",
    "        print(res)\n",
    "        \n",
    "#print_distance(input)\n",
    "\n",
    "path=path_to_data.joinpath(\"graph/bfs/A.txt\")        \n",
    "with path.open(\"r\") as file:\n",
    "    print_distance(file.readline)"
   ]
  },
  {
   "cell_type": "markdown",
   "id": "05f9ef41",
   "metadata": {},
   "source": [
    "#### B-Поиск расстояний от заданной вершины до всех остальных\n",
    "\n",
    "Дан невзвешенный неориентированный связный граф. Вершины пронумерованы от 0. Трeбуется с помощью обхода в ширину найти расстояния от 0-й до всех остальных вершин.\n",
    "\n",
    "Формат входных данных\n",
    "На вход программе в первой строке подаются через пробел два числа: n (2 <= n <= 1000) — число вершин в графе и m (1 <= m <= 20000) — число рёбер. В следующих m строках задаются ребра: по два числа в каждой строке — номера соединённых вершин.\n",
    "\n",
    "Формат выходных данных\n",
    "Требуется распечатать n чисел, каждое на новой строке. В первой строке — расстояния от 0-й вершины до 0-й, во второй - от 0-й до 1-й, в третьей — от 0-й до 2-й и т.д."
   ]
  },
  {
   "cell_type": "code",
   "execution_count": 5,
   "id": "30cdacb0",
   "metadata": {},
   "outputs": [
    {
     "name": "stdout",
     "output_type": "stream",
     "text": [
      "file B.txt exists\n"
     ]
    }
   ],
   "source": [
    "text=\"\"\"6 7\n",
    "2 3\n",
    "2 0\n",
    "5 2\n",
    "1 0\n",
    "1 2\n",
    "5 1\n",
    "4 1\"\"\"\n",
    "path=path_to_data.joinpath(\"graph/bfs/B.txt\")\n",
    "write_to_file(text,path)"
   ]
  },
  {
   "cell_type": "code",
   "execution_count": 6,
   "id": "4cfa3e16",
   "metadata": {},
   "outputs": [
    {
     "name": "stdout",
     "output_type": "stream",
     "text": [
      "1\n",
      "1\n",
      "0\n",
      "1\n",
      "2\n",
      "1\n"
     ]
    }
   ],
   "source": [
    "from get_graph import get_graph_from_edges\n",
    "from pathlib import Path\n",
    "from collections import deque\n",
    "\n",
    "def bfs_calc_distances(graph,start):\n",
    "    \"\"\"Calc distances between vertexes and start vertex in graph\n",
    "    vertexes are numbers in range(0,n)\n",
    "    Return distances, distance is None if were's no path\"\"\"\n",
    "    n=len(graph.keys())\n",
    "    distance=[0 if i==start else None for i in range(n)]\n",
    "    queue=deque([start])\n",
    "    while queue:\n",
    "        v=queue.popleft()\n",
    "        for u in graph[v]:\n",
    "            if distance[u] is None:\n",
    "                distance[u]=distance[v]+1\n",
    "                queue.append(u)\n",
    "    return distance\n",
    "\n",
    "def print_distances(read_line,start):\n",
    "    graph=get_graph_from_edges(read_line)\n",
    "    res=bfs_calc_distances(graph,start)\n",
    "    print(*res,sep=\"\\n\")\n",
    "    \n",
    "#print_distances(input,0)\n",
    "\n",
    "path=path_to_data.joinpath(\"graph/bfs/B.txt\")\n",
    "with path.open(\"r\") as file:\n",
    "    print_distances(file.readline,2)"
   ]
  },
  {
   "cell_type": "markdown",
   "id": "5d476c56",
   "metadata": {},
   "source": [
    "#### C-Поиск расстояния на прямоугольном поле\n",
    "\n",
    "Дано прямоугольное поле размера n строк на m столбцов. Некоторые ячейки поля непроходимы. Требуется найти расстояние между двумя заданными ячейками.\n",
    "\n",
    "Формат входных данных\n",
    "В первой строке два числа — n и m (1 <= n,m <= 500) . Во второй — номер строки и столбца начальной ячейки, в третьей — номер строки и столбца конечной ячейки. В остальных n строках задано поле. Каждая строка поля содержит m символов, X задает непроходимую ячейку, «пробел» — проходимую.\n",
    "\n",
    "Формат выходных данных\n",
    "Вывести одно число — расстояние между указанными ячейками (ходить можно только по горизонтали или вертикали). Если пути между этими ячейками нет, выведите \"INF\" без кавычек."
   ]
  },
  {
   "cell_type": "code",
   "execution_count": 7,
   "id": "8fe58195",
   "metadata": {},
   "outputs": [
    {
     "name": "stdout",
     "output_type": "stream",
     "text": [
      "file C1.txt exists\n",
      "file C2.txt exists\n"
     ]
    }
   ],
   "source": [
    "text=\"\"\"5 7\n",
    "3 5\n",
    "1 1\n",
    "XXXXXXX\n",
    "X X   X\n",
    "X X X X\n",
    "X   X X\n",
    "XXXXXXX\"\"\"\n",
    "path=path_to_data.joinpath(\"graph/bfs/C1.txt\")\n",
    "write_to_file(text,path)\n",
    "text=\"\"\"5 7\n",
    "3 5\n",
    "1 1\n",
    "XXXXXXX\n",
    "X X   X\n",
    "X XXX X\n",
    "X   X X\n",
    "XXXXXXX\"\"\"\n",
    "path=path_to_data.joinpath(\"graph/bfs/C2.txt\")\n",
    "write_to_file(text,path)"
   ]
  },
  {
   "cell_type": "code",
   "execution_count": 8,
   "id": "879fc863",
   "metadata": {},
   "outputs": [
    {
     "name": "stdout",
     "output_type": "stream",
     "text": [
      "10\n"
     ]
    }
   ],
   "source": [
    "from collections import deque\n",
    "\n",
    "def get_graph_from_field(read_line,n,m):\n",
    "    \"\"\"Gets graph as dict of adjacency lists from field size n*m,\n",
    "    vertexes- cells of field (i,j),i-string,j-column,\n",
    "    neighbour vertexes- neighbour cells wich can be passed\n",
    "    reading from a stream by read_line method\n",
    "    n strings: m cells, 'X'-not can be pass, ' ' - can be pass\n",
    "    Returns graph\"\"\"\n",
    "    graph={}\n",
    "    for i in range(n):\n",
    "        string=read_line()\n",
    "        for j in range(m):\n",
    "            if string[j]==' ':\n",
    "                graph[(i,j)]=set()\n",
    "                add_neighbours(graph,i,j)\n",
    "    return graph\n",
    "\n",
    "def add_neighbours(graph,i,j):\n",
    "    possible_neighbours=((i-1,j),(i,j-1))\n",
    "    for x,y in possible_neighbours:\n",
    "        if (x,y) in graph:\n",
    "            graph[(x,y)].add((i,j))\n",
    "            graph[(i,j)].add((x,y))\n",
    "\n",
    "def bfs_min_distance(graph,start,end):\n",
    "    \"\"\"Calc minimun distance between vertexes start and end in graph\n",
    "    Return distance or None if weres no path\"\"\"\n",
    "    if start==end:\n",
    "        return 0\n",
    "    if start not in graph or end not in graph: return\n",
    "    distance={start:0}\n",
    "    queue=deque([start])\n",
    "    while queue:\n",
    "        v=queue.popleft()\n",
    "        for u in graph[v]:\n",
    "            if u not in distance:\n",
    "                distance[u]=distance[v]+1\n",
    "                if u==end: return distance[u]\n",
    "                queue.append(u)\n",
    "                \n",
    "def print_field_distance(read_line):\n",
    "    n,m=map(int,read_line().split())\n",
    "    start=tuple(map(int,read_line().split()))\n",
    "    end=tuple(map(int,read_line().split()))\n",
    "    graph=get_graph_from_field(read_line,n,m)\n",
    "    distance=bfs_min_distance(graph,start,end)\n",
    "    print(distance if not distance is None else \"INF\")\n",
    "    \n",
    "#print_field_distance(input)\n",
    "\n",
    "path=path_to_data.joinpath(\"graph/bfs/C1.txt\")        \n",
    "with path.open(\"r\") as file:\n",
    "    print_field_distance(file.readline)"
   ]
  },
  {
   "cell_type": "markdown",
   "id": "59b16d5d",
   "metadata": {},
   "source": [
    "### D-Путь коня\n",
    "На шахматной доске заданы координатами 2 различных точек. В первой из них находится конь, во вторую точку ему надо попасть. Выведите координаты клеток, через которые надо прочти коню, чтобы попасть во вторую точку. Путь должен быть кратчайшим, среди имеющихся.\n",
    "\n",
    "Формат входных данных\n",
    "Координаты двух клеток, каждая в отдельной строке. Координаты клеток задаются в виде буквы (от a до h) и цифры (от 1 до 8) без пробелов.\n",
    "\n",
    "Формат выходных данных\n",
    "Программа должна вывести путь коня, начинающийся и заканчивающийся в данных клетках и содержащий наименьшее число клеток."
   ]
  },
  {
   "cell_type": "code",
   "execution_count": 10,
   "id": "def83f52",
   "metadata": {},
   "outputs": [
    {
     "name": "stdout",
     "output_type": "stream",
     "text": [
      "a1\n",
      "h8\n",
      "a1\n",
      "c2\n",
      "b4\n",
      "c6\n",
      "e7\n",
      "g6\n",
      "h8\n"
     ]
    }
   ],
   "source": [
    "from collections import deque\n",
    "\n",
    "def get_graph_from_chessboad_knight():\n",
    "    \"\"\"Gets graph as dict of adjacency lists from chessboard,\n",
    "    vertexes- cells ,\n",
    "    neighbour vertexes- neighbour cells for knight move\n",
    "    Returns graph\"\"\"\n",
    "    letters='abcdefgh'\n",
    "    numbers='12345678'\n",
    "    moves=[(-2,-1),(-1,-2),(-1,2),(-2,1)]\n",
    "    graph={}\n",
    "    for i,l in enumerate(letters):\n",
    "        for j,n in enumerate(numbers):\n",
    "            graph[l+n]=set()\n",
    "            add_neighbours(graph,moves,i,j,letters,numbers)\n",
    "    return graph\n",
    "\n",
    "def add_neighbours(graph,moves,i,j,letters,numbers):\n",
    "    curr_cell=letters[i]+numbers[j]\n",
    "    for k,l in moves:\n",
    "        x=i+k;y=j+l;\n",
    "        if 0<=x<8 and 0<=y<8:\n",
    "            nb_cell=letters[x]+numbers[y];\n",
    "            graph[nb_cell].add(curr_cell)\n",
    "            graph[curr_cell].add(nb_cell)\n",
    "\n",
    "def bfs_parents(graph,start,end):\n",
    "    \"\"\"Get minimun path between vertexes start and end in graph\n",
    "    Return distance or None if weres no path\"\"\"\n",
    "    if start not in graph or end not in graph: return\n",
    "    parents={start:None}\n",
    "    if start==end: return parents\n",
    "    queue=deque([start])\n",
    "    while queue:\n",
    "        v=queue.popleft()\n",
    "        for u in graph[v]:\n",
    "            if u not in parents:\n",
    "                parents[u]=v\n",
    "                if u==end: return parents\n",
    "                queue.append(u)\n",
    "                \n",
    "def find_shortest_path(parents,end):\n",
    "    path=[end]\n",
    "    parent=parents[end]\n",
    "    while not parent is None:\n",
    "        path.append(parent)\n",
    "        parent=parents[parent]\n",
    "    return path[::-1]\n",
    "                \n",
    "def print_knight_path(read_line):\n",
    "    start=read_line().rstrip('\\n')\n",
    "    end=read_line().rstrip('\\n')\n",
    "    graph=get_graph_from_chessboad_knight()\n",
    "    parents=bfs_parents(graph,start,end)\n",
    "    path= find_shortest_path(parents,end) if not parents is None else None\n",
    "    if not path is None:\n",
    "        print(*path,sep='\\n')\n",
    "    \n",
    "print_knight_path(input)\n"
   ]
  },
  {
   "cell_type": "markdown",
   "id": "2b0e48bc",
   "metadata": {},
   "source": [
    "#### E-Построить остовное дерево обходом в ширину\n",
    "Дан невзвешенный неориентированный связный граф. Вершины пронумерованы от 0. Трeбуется с помощью обхода в ширину построить остовное дерево.\n",
    "\n",
    "Формат входных данных\n",
    "На вход программе в первой строке подаются через пробел два числа: n (2 <= n <= 1000) — число вершин в графе и m (1 <= m <= 20000) — число рёбер. В следующих m строках задаются ребра: по два числа в каждой строке — номера соединённых вершин.\n",
    "\n",
    "Формат выходных данных\n",
    "Требуется распечатать n-1 пару чисел, каждyю на новой строке. Каждая пара задаёт ребро в остовном дереве."
   ]
  },
  {
   "cell_type": "code",
   "execution_count": 11,
   "id": "237b6df6",
   "metadata": {},
   "outputs": [
    {
     "name": "stdout",
     "output_type": "stream",
     "text": [
      "file E.txt is written\n"
     ]
    }
   ],
   "source": [
    "text=\"\"\"6 7\n",
    "2 3\n",
    "2 0\n",
    "5 2\n",
    "1 0\n",
    "1 2\n",
    "5 1\n",
    "4 1\"\"\"\n",
    "path=path_to_data.joinpath(\"graph/bfs/E.txt\")\n",
    "write_to_file(text,path)"
   ]
  },
  {
   "cell_type": "code",
   "execution_count": 12,
   "id": "ce8827dc",
   "metadata": {},
   "outputs": [
    {
     "name": "stdout",
     "output_type": "stream",
     "text": [
      "0 1\n",
      "0 2\n",
      "1 4\n",
      "1 5\n",
      "2 3\n"
     ]
    }
   ],
   "source": [
    "from collections import deque\n",
    "def print_spanning_tree_bfs(graph):\n",
    "    queue=deque([0])\n",
    "    v=0\n",
    "    used={v}\n",
    "    #sp_tree=[]\n",
    "    while queue:\n",
    "        v=queue.popleft()\n",
    "        for u in graph[v]:\n",
    "            if not u in used:\n",
    "                print(v,u)\n",
    "                used.add(u)\n",
    "                queue.append(u)\n",
    "                \n",
    "with path.open() as file:\n",
    "    graph=get_graph_from_edges(file.readline)\n",
    "print_spanning_tree_bfs(graph)"
   ]
  },
  {
   "cell_type": "code",
   "execution_count": 13,
   "id": "f7af6c0f",
   "metadata": {},
   "outputs": [
    {
     "data": {
      "image/png": "[encoded data removed]",
      "text/plain": [
       "<Figure size 640x480 with 1 Axes>"
      ]
     },
     "metadata": {},
     "output_type": "display_data"
    }
   ],
   "source": [
    "from matplotlib import pyplot as plt\n",
    "import networkx as nx\n",
    "G=nx.Graph(graph)\n",
    "nx.draw(G,with_labels=True)\n",
    "plt.show()"
   ]
  },
  {
   "cell_type": "markdown",
   "id": "25bc7d25",
   "metadata": {},
   "source": [
    "### F-Таблица\n",
    "\n",
    "Дана таблица, состоящая из N строк и M столбцов. В каждой клетке таблицы записано одно из чисел: 0 или 1. Расстоянием между клетками (x1, y1) и (x2, y2) назовем сумму |x1-x2|+|y1-y2|. Вам необходимо построить таблицу, в клетке (i, j) которой будет записано минимальное расстояние между клеткой (i, j) начальной таблицы и клеткой, в которой записана 1. Гарантируется, что хотя бы одна 1 в таблице есть.\n",
    "\n",
    "Формат входных данных\n",
    "В первой строке вводятся два натуральных числа N и M, не превосходящих 500. Далее идут N строк по M чисел - элементы таблицы.\n",
    "\n",
    "Формат выходных данных\n",
    "Требуется вывести N строк по M чисел - элементы искомой таблицы.\n",
    "\n"
   ]
  },
  {
   "cell_type": "code",
   "execution_count": 3,
   "id": "77e9c106",
   "metadata": {},
   "outputs": [
    {
     "name": "stdout",
     "output_type": "stream",
     "text": [
      "file F.txt exists\n",
      "file F2.txt exists\n"
     ]
    }
   ],
   "source": [
    "text=\"\"\"2 3\n",
    "0 0 1\n",
    "1 0 0\"\"\"\n",
    "path=path_to_data.joinpath(\"graph/bfs/F.txt\")\n",
    "write_to_file(text,path)\n",
    "text=\"\"\"10 10\n",
    "0 0 0 0 0 1 0 0 1 0\n",
    "0 0 0 0 1 0 0 1 1 0\n",
    "0 0 0 0 0 0 0 0 0 0\n",
    "0 0 0 0 1 0 0 0 1 0\n",
    "0 0 0 0 0 0 0 0 0 0\n",
    "0 0 0 0 0 0 0 1 0 0\n",
    "0 0 0 0 0 0 0 0 1 0\n",
    "0 0 0 0 0 0 0 0 0 1\n",
    "0 0 0 0 0 0 0 0 0 0\n",
    "0 0 0 0 0 0 0 0 0 0\"\"\"\n",
    "path=path_to_data.joinpath(\"graph/bfs/F2.txt\")\n",
    "write_to_file(text,path)"
   ]
  },
  {
   "cell_type": "markdown",
   "id": "982a0930",
   "metadata": {},
   "source": [
    "Вариант 1\\\n",
    "Для каждой клетки ij поиск расстояния до 1 обходом в ширину"
   ]
  },
  {
   "cell_type": "code",
   "execution_count": 4,
   "id": "e34b73ab",
   "metadata": {},
   "outputs": [
    {
     "name": "stdout",
     "output_type": "stream",
     "text": [
      "5 4 3 2 1 0 1 1 0 1\n",
      "4 3 2 1 0 1 1 0 0 1\n",
      "5 4 3 2 1 2 2 1 1 2\n",
      "4 3 2 1 0 1 2 1 0 1\n",
      "5 4 3 2 1 2 2 1 1 2\n",
      "6 5 4 3 2 2 1 0 1 2\n",
      "7 6 5 4 3 3 2 1 0 1\n",
      "8 7 6 5 4 4 3 2 1 0\n",
      "9 8 7 6 5 5 4 3 2 1\n",
      "10 9 8 7 6 6 5 4 3 2\n"
     ]
    }
   ],
   "source": [
    "from collections import deque\n",
    "\n",
    "def get_table(read_line):\n",
    "    \"\"\"Read a table of 0 and 1 size n strings m columns from stream\n",
    "    n,m in first line\n",
    "    next n lines strings len m\n",
    "    Returns set of ones coordinates(i,j)\n",
    "    \"\"\"\n",
    "    n,m=map(int,read_line().split())\n",
    "    table=set()\n",
    "    for i in range(n):\n",
    "        s=map(int,read_line().split())\n",
    "        for j,x in enumerate(s):\n",
    "            if x and j<m:\n",
    "                table.add((i,j))\n",
    "    return n,m,table\n",
    "                \n",
    "def get_neighbours(i,j,n,m):\n",
    "    nb=set()\n",
    "    possible_nb=((i-1,j),(i+1,j),(i,j-1),(i,j+1))\n",
    "    for x,y in possible_nb:\n",
    "        if 0<=x<n and 0<=y<m:\n",
    "            nb.add((x,y))\n",
    "    return nb\n",
    "            \n",
    "def bfs_min_distance(graph,table,i,j):\n",
    "    \"\"\"Calcs min distance from cell ij to one in table\"\"\"\n",
    "    start=(i,j)\n",
    "    if start in table: return 0\n",
    "    queue=deque([start])\n",
    "    distances={start:0}\n",
    "    while queue:\n",
    "        v=queue.popleft()\n",
    "        for u in graph[v]:\n",
    "            if u not in distances:\n",
    "                distances[u]=distances[v]+1\n",
    "                if u in table: return distances[u]\n",
    "                queue.append(u)\n",
    "        \n",
    "def get_table_distances(n,m,table):\n",
    "    graph={(i,j):get_neighbours(i,j,n,m) if i==0 or j==0 or i==n-1 or j==m-1\n",
    "           else {(i-1,j),(i+1,j),(i,j-1),(i,j+1)}\n",
    "           for i in range(n) for j in range(m) }\n",
    "    min_distances=[[0 if (i,j) in table else m*n for j in range(m)] for i in range(n)]\n",
    "    for i in range(n):\n",
    "        #s=[None for j in range(m)]\n",
    "        for j in range(m):\n",
    "            if (i,j) not in table:\n",
    "                min_distances[i][j]=bfs_min_distance(graph,table,i,j)\n",
    "    return min_distances\n",
    "        #print(*s)\n",
    "        \n",
    "with path.open('r') as file:\n",
    "    n,m,table=get_table(file.readline)\n",
    "#n,m,table=get_table(input)\n",
    "min_distances=get_table_distances(n,m,table)\n",
    "for i in range(n):\n",
    "    print(*min_distances[i])"
   ]
  },
  {
   "cell_type": "markdown",
   "id": "c5e5be7a",
   "metadata": {},
   "source": [
    "Версия 2\\\n",
    "Для каждой клетки ij находим минимальный путь до 1, для всех клеток пути также записываем расстояния (потом не персчитываем)"
   ]
  },
  {
   "cell_type": "code",
   "execution_count": 5,
   "id": "1ec5976f",
   "metadata": {
    "scrolled": true
   },
   "outputs": [
    {
     "name": "stdout",
     "output_type": "stream",
     "text": [
      "5 4 3 2 1 0 1 1 0 1\n",
      "4 3 2 1 0 1 1 0 0 1\n",
      "5 4 3 2 1 2 2 1 1 2\n",
      "4 3 2 1 0 1 2 1 0 1\n",
      "5 4 3 2 1 2 2 1 1 2\n",
      "6 5 4 3 2 2 1 0 1 2\n",
      "7 6 5 4 3 3 2 1 0 1\n",
      "8 7 6 5 4 4 3 2 1 0\n",
      "9 8 7 6 5 5 4 3 2 1\n",
      "10 9 8 7 6 6 5 4 3 2\n"
     ]
    }
   ],
   "source": [
    "def bfs_min_distances_on_path(graph,table,used,min_distances,i,j):\n",
    "    \"\"\"Calcs min distances on min path from cell ij to one in table\"\"\"\n",
    "    start=(i,j)\n",
    "    queue=deque([start])\n",
    "    distances={start:0}\n",
    "    parents={start:None}\n",
    "    end=None\n",
    "    while queue and end not in table:\n",
    "        v=queue.popleft()\n",
    "        for u in graph[v]:\n",
    "            if u not in distances:\n",
    "                distances[u]=distances[v]+1\n",
    "                parents[u]=v\n",
    "                if u in table:\n",
    "                    end=u\n",
    "                    break\n",
    "                queue.append(u)\n",
    "\n",
    "    parent=parents[end]\n",
    "    path_len=distances[end]\n",
    "    while not parent is None :\n",
    "        if parent not in used:\n",
    "            used.add(parent)\n",
    "            min_distances[parent[0]][parent[1]]=path_len-distances[parent]\n",
    "        parent=parents[parent]\n",
    "        \n",
    "def get_table_distances_fast(n,m,table):\n",
    "    graph={(i,j):get_neighbours(i,j,n,m) if i==0 or j==0 or i==n-1 or j==m-1\n",
    "           else {(i-1,j),(i+1,j),(i,j-1),(i,j+1)}\n",
    "           for i in range(n) for j in range(m) }\n",
    "    min_distances=[[0 if (i,j) in table else m*n for j in range(m)] for i in range(n)]\n",
    "    used=table.copy()\n",
    "    for i in range(n):\n",
    "        for j in range(m):\n",
    "            if (i,j) not in used:\n",
    "                bfs_min_distances_on_path(graph,table,used,min_distances,i,j)\n",
    "    return min_distances\n",
    "\n",
    "with path.open('r') as file:\n",
    "    n,m,table=get_table(file.readline)\n",
    "#n,m,table=get_table(input)\n",
    "min_distances=get_table_distances_fast(n,m,table)\n",
    "for i in range(n):\n",
    "    print(*min_distances[i])"
   ]
  },
  {
   "cell_type": "markdown",
   "id": "bb54c20b",
   "metadata": {},
   "source": [
    "Версия 3 (для проверки тестов)\\\n",
    "Считаем методом перебора -  для каждой ij минимальное из расстояний до всех единиц "
   ]
  },
  {
   "cell_type": "code",
   "execution_count": 6,
   "id": "e0672b5b",
   "metadata": {},
   "outputs": [
    {
     "data": {
      "text/plain": [
       "[[5, 4, 3, 2, 1, 0, 1, 1, 0, 1],\n",
       " [4, 3, 2, 1, 0, 1, 1, 0, 0, 1],\n",
       " [5, 4, 3, 2, 1, 2, 2, 1, 1, 2],\n",
       " [4, 3, 2, 1, 0, 1, 2, 1, 0, 1],\n",
       " [5, 4, 3, 2, 1, 2, 2, 1, 1, 2],\n",
       " [6, 5, 4, 3, 2, 2, 1, 0, 1, 2],\n",
       " [7, 6, 5, 4, 3, 3, 2, 1, 0, 1],\n",
       " [8, 7, 6, 5, 4, 4, 3, 2, 1, 0],\n",
       " [9, 8, 7, 6, 5, 5, 4, 3, 2, 1],\n",
       " [10, 9, 8, 7, 6, 6, 5, 4, 3, 2]]"
      ]
     },
     "execution_count": 6,
     "metadata": {},
     "output_type": "execute_result"
    }
   ],
   "source": [
    "def get_table_distances_bf(n,m,table):\n",
    "    \"\"\"Calcs table of minimum distances from cell (i,j)to ones by brute-force method\n",
    "    for testing\"\"\"\n",
    "    min_distances=[[0 if (i,j) in table else m*n for j in range(m)] for i in range(n)]\n",
    "    for i in range(n):\n",
    "        for j in range(m):\n",
    "            for x,y in table:\n",
    "                min_distances[i][j]=min(min_distances[i][j],abs(i-x)+abs(j-y))\n",
    "    return min_distances\n",
    "        \n",
    "with path.open('r') as file:\n",
    "    n,m,table=get_table(file.readline)\n",
    "get_table_distances_bf(n,m,table)"
   ]
  },
  {
   "cell_type": "code",
   "execution_count": 9,
   "id": "5a69ba1b",
   "metadata": {},
   "outputs": [],
   "source": [
    "import time\n",
    "import random\n",
    "def write_table_to_file(table,res,method,n,m):\n",
    "    mname=method.__name__.replace(\"get_table_distances\",\"gtd\")\n",
    "    name=\"graph/table_{}x{}fail{}{}{}.txt\".format(n,m,res[0],res[1],mname)\n",
    "    path_to_data=Path(\"../data\")\n",
    "    path=path_to_data.joinpath(name)\n",
    "    with path.open('w') as file:\n",
    "        file.write(\"{} {}\\n\".format(n,m))\n",
    "        for i in range(n):\n",
    "            s=[0 for j in range(m)]\n",
    "            for j in range(m):\n",
    "                if (i,j) in table:\n",
    "                    s[j]=1\n",
    "            file.write(\" \".join(map(str,s))+\"\\n\")\n",
    "\n",
    "def compare_tables(min_distances,answer,n,m):\n",
    "    for i in range(n):\n",
    "        for j in range(m):\n",
    "            if min_distances[i][j]!=answer[i][j]:\n",
    "                return i,j\n",
    "            \n",
    "def test_min_distances():\n",
    "    methods=(get_table_distances_bf,get_table_distances,get_table_distances_fast)\n",
    "    nm=[(random.randint(50,60),random.randint(40,60)),\n",
    "        (random.randint(120,200),random.randint(20,30)),\n",
    "       (random.randint(100,120),random.randint(200,300))]\n",
    "    for n,m in nm:\n",
    "        my_range=random.randrange(1,m*n)\n",
    "        print(\"Test {} strings {} columns\".format(n,m))\n",
    "        answer=[[None for j in range(m)]for i in range(n)]\n",
    "        table={(random.randrange(n),random.randrange(m))\n",
    "               for i in range(1,my_range) }\n",
    "        for method in methods:\n",
    "            time_start=time.time()\n",
    "            min_distances=method(n,m,table)\n",
    "            time_end=time.time()\n",
    "            #for i in range (n):\n",
    "            #    print(*min_distances[i])\n",
    "            if method==get_table_distances_bf:\n",
    "                for i in range(n):\n",
    "                    answer[i]=min_distances[i][:]\n",
    "            else:\n",
    "                print(method.__name__,\"Time:{}\".format(time_end-time_start),sep=\"\\n\")\n",
    "                res=compare_tables(min_distances,answer,n,m)\n",
    "                if res is None:\n",
    "                    print(\"Ok\")\n",
    "                else:\n",
    "                    print(answer[res[0]][res[1]],min_distances[res[0]][res[1]],res)\n",
    "                    print(\"Fail in cell {}\".format(res))\n",
    "                    write_table_to_file(table,res,method.__name__,n,m)\n",
    "        print(\"\\n\")"
   ]
  },
  {
   "cell_type": "code",
   "execution_count": 10,
   "id": "4de9b2a9",
   "metadata": {},
   "outputs": [
    {
     "name": "stdout",
     "output_type": "stream",
     "text": [
      "Test 57 strings 45 columns\n",
      "get_table_distances\n",
      "Time:1.1893482208251953\n",
      "Ok\n",
      "get_table_distances_fast\n",
      "Time:0.9794285297393799\n",
      "Ok\n",
      "\n",
      "\n",
      "Test 179 strings 30 columns\n",
      "get_table_distances\n",
      "Time:0.011924266815185547\n",
      "Ok\n",
      "get_table_distances_fast\n",
      "Time:0.010555505752563477\n",
      "Ok\n",
      "\n",
      "\n",
      "Test 107 strings 291 columns\n",
      "get_table_distances\n",
      "Time:0.09814000129699707\n",
      "Ok\n",
      "get_table_distances_fast\n",
      "Time:0.19437789916992188\n",
      "Ok\n",
      "\n",
      "\n"
     ]
    }
   ],
   "source": [
    "test_min_distances()"
   ]
  }
 ],
 "metadata": {
  "kernelspec": {
   "display_name": "Python 3 (ipykernel)",
   "language": "python",
   "name": "python3"
  },
  "language_info": {
   "codemirror_mode": {
    "name": "ipython",
    "version": 3
   },
   "file_extension": ".py",
   "mimetype": "text/x-python",
   "name": "python",
   "nbconvert_exporter": "python",
   "pygments_lexer": "ipython3",
   "version": "3.8.10"
  },
  "varInspector": {
   "cols": {
    "lenName": 16,
    "lenType": 16,
    "lenVar": 40
   },
   "kernels_config": {
    "python": {
     "delete_cmd_postfix": "",
     "delete_cmd_prefix": "del ",
     "library": "var_list.py",
     "varRefreshCmd": "print(var_dic_list())"
    },
    "r": {
     "delete_cmd_postfix": ") ",
     "delete_cmd_prefix": "rm(",
     "library": "var_list.r",
     "varRefreshCmd": "cat(var_dic_list()) "
    }
   },
   "types_to_exclude": [
    "module",
    "function",
    "builtin_function_or_method",
    "instance",
    "_Feature"
   ],
   "window_display": false
  }
 },
 "nbformat": 4,
 "nbformat_minor": 5
}
