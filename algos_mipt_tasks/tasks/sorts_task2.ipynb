{
 "cells": [
  {
   "cell_type": "markdown",
   "id": "290b7069",
   "metadata": {},
   "source": [
    "Задача I: Матпомощь\n",
    "Студентов надо построить в шеренгу от самого легкого до самого тяжелого. Кто мало весит - тем выдать матпомощь..\n",
    "При одинаковом весе сначала идет студент с большим ростом (тощий).\n",
    "\n",
    "Формат входных данных\n",
    "Целое число N, 0 < N < 100, - количество студентов. Затем N пар чисел (float) через пробел - рост в метрах и вес в килограммах одного студента.\n",
    "\n",
    "Формат результата\n",
    "Рост и вес (печатать рост с точностью до сантиметров, а вес - до граммов) по одному студенту на строку от первого студента в шеренге к последнему"
   ]
  },
  {
   "cell_type": "code",
   "execution_count": 2,
   "id": "bb5be7db",
   "metadata": {},
   "outputs": [
    {
     "name": "stdout",
     "output_type": "stream",
     "text": [
      "3\n",
      "1.8 70\n",
      "1.75 70\n",
      "1.69 69.5\n",
      "1.69 69.500\n",
      "1.80 70.000\n",
      "1.75 70.000\n"
     ]
    }
   ],
   "source": [
    "def compare_students(student1:tuple,student2:tuple,parametr=\"h\"):\n",
    "    \"\"\"Compares 2 student by height or weight,\n",
    "    gets 2 students with (height,weight), parametr \"h\"-height or 'w'-weight\n",
    "    returns 1 if student1 parametr is grater than student2,\n",
    "    0,if is eqal,-1 else\"\"\"\n",
    "    if parametr=='w':\n",
    "        if student1[1]>student2[1]:\n",
    "            return 1\n",
    "        elif student1[1]==student2[1]:\n",
    "            return 0\n",
    "        else: return -1\n",
    "    if parametr=='h':\n",
    "        if student1[0]>student2[0]:\n",
    "            return 1\n",
    "        elif student1[0]==student2[0]:\n",
    "            return 0\n",
    "        else: return -1\n",
    "    return (\"wrong_parametr\")\n",
    "        \n",
    "def check_parametrs(parametrs:list):\n",
    "    \"\"\"checks are parametrs available\n",
    "    returns list of available from inserted list\"\"\"\n",
    "    available_parametrs=['h','w']\n",
    "    n=len(parametrs)\n",
    "    i=0\n",
    "    while i<n:\n",
    "        if not parametrs[i] in available_parametrs:\n",
    "            parametrs.pop(i)\n",
    "            n-=1\n",
    "        else:\n",
    "            i+=1\n",
    "    \n",
    "def sort_students(students_list:list,parametrs:list=['w','h'],ascending:list=[True,False]):\n",
    "    \"\"\"Sorts students by parametrs,\n",
    "    gets list of students- parametrs list in comparison order,ascending list for parametrs\"\"\"\n",
    "    \n",
    "    check_parametrs(parametrs)\n",
    "    if not parametrs:\n",
    "        return\n",
    "    n=len(students_list)\n",
    "    if n<=1:\n",
    "        return\n",
    "    L=[];M=[];R=[]\n",
    "    barrier=students_list[0]\n",
    "    for student in students_list:\n",
    "        result=compare_students(barrier,student,parametrs[0])*(ascending[0]*2-1)\n",
    "        if result==1:\n",
    "            L.append(student)\n",
    "        elif result==0:\n",
    "            M.append(student)\n",
    "        else:\n",
    "            R.append(student)\n",
    "\n",
    "    sort_students(L,parametrs,ascending)\n",
    "    sort_students(M,parametrs[1:],ascending[1:])\n",
    "    sort_students(R,parametrs,ascending)\n",
    "    k=0\n",
    "    for student in L+M+R:\n",
    "        students_list[k]=student\n",
    "        k+=1\n",
    "    return\n",
    "\n",
    "n=int(input())\n",
    "students_list=[0]*n\n",
    "for i in range(n):\n",
    "    students_list[i]=tuple(map(float,input().split()))\n",
    "sort_students(students_list)\n",
    "for student in students_list:\n",
    "    print('{:.2f}'.format(student[0])+\" {:.3f}\".format(student[1]))"
   ]
  },
  {
   "cell_type": "code",
   "execution_count": null,
   "id": "831a2c0e",
   "metadata": {},
   "outputs": [],
   "source": [
    "\"\"\"3\n",
    "1.8 70\n",
    "1.75 70\n",
    "1.8 69.5\"\"\""
   ]
  },
  {
   "cell_type": "code",
   "execution_count": 6,
   "id": "d529015c",
   "metadata": {},
   "outputs": [],
   "source": [
    "def test_compare_students(compare_algo):\n",
    "    print(\"Test\",compare_algo.__name__)\n",
    "    print(\"Test1:\")\n",
    "    print(\"Ok\" if compare_algo((1.8,70),(1.75,70),'h')==1 else \"Fail\")\n",
    "    \n",
    "    print(\"Test2:\")\n",
    "    print(\"Ok\" if compare_algo((1.8,70),(1.75,70),'w')==0 else \"Fail\")\n",
    "    \n",
    "    print(\"Test3:\")\n",
    "    print(\"Ok\" if compare_algo((1.8,70),(1.75,70),'t')==\"wrong_parametr\" else \"Fail\")\n",
    "    \n",
    "    print(\"Test4:\")\n",
    "    print(\"Ok\" if compare_algo((1.75,70),(1.8,70),'h')==-1 else \"Fail\")\n",
    "    \n",
    "def test_check_parametrs(check_algo):\n",
    "    print(\"Test\",check_algo.__name__)\n",
    "    print(\"Test1:\")\n",
    "    params=[\"w\",'t','h', 9]\n",
    "    write_params=['w','h']\n",
    "    check_algo(params)\n",
    "    print(\"Ok\" if params==write_params else \"Fail\")\n",
    "    \n",
    "    print(\"Test2:\")\n",
    "    params=[\"h\",'t','t','h']\n",
    "    write_params=['h','h']\n",
    "    check_algo(params)\n",
    "    print(\"Ok\" if params==write_params else \"Fail\")\n",
    "    \n",
    "    print(\"Test3:\")\n",
    "    params=['t','t']\n",
    "    write_params=[]\n",
    "    check_algo(params)\n",
    "    print(\"Ok\" if params==write_params else \"Fail\")\n",
    "    \n",
    "def test_sort_students(sort_algo):\n",
    "    print(\"Test\",sort_algo.__name__)\n",
    "    print(\"Test1:\")\n",
    "    list_=[(1.78,1.56),(1.78,60),(1.78,1.56),(1.56,56)]\n",
    "    sorted_list=[(1.78,1.56),(1.78,1.56),(1.56,56),(1.78,60)]\n",
    "    sort_algo(list_)\n",
    "    print(\"Ok\" if list_==sorted_list else \"Fail\")\n",
    "    \n",
    "    print(\"Test2:\")\n",
    "    list_=[(1.8,70),(1.75,70),(1.8,69.5)]\n",
    "    sorted_list=[(1.8,69.5),(1.8,70),(1.75,70)]\n",
    "    sort_algo(list_)\n",
    "    print(\"Ok\" if list_==sorted_list else \"Fail\")\n",
    "    \n",
    "    print(\"Test3:\")\n",
    "    list_=[(1,2),(3,3),(3,1),(4,5)]\n",
    "    sorted_list=[(3,1),(1,2),(3,3),(4,5)]\n",
    "    sort_algo(list_)\n",
    "    print(\"Ok\" if list_==sorted_list else \"Fail\")"
   ]
  },
  {
   "cell_type": "code",
   "execution_count": 7,
   "id": "65795497",
   "metadata": {},
   "outputs": [
    {
     "name": "stdout",
     "output_type": "stream",
     "text": [
      "Test compare_students\n",
      "Test1:\n",
      "Ok\n",
      "Test2:\n",
      "Ok\n",
      "Test3:\n",
      "Ok\n",
      "Test4:\n",
      "Ok\n",
      "Test check_parametrs\n",
      "Test1:\n",
      "Ok\n",
      "Test2:\n",
      "Ok\n",
      "Test3:\n",
      "Ok\n",
      "Test sort_students\n",
      "Test1:\n",
      "Ok\n",
      "Test2:\n",
      "Ok\n",
      "Test3:\n",
      "Ok\n"
     ]
    }
   ],
   "source": [
    "test_compare_students(compare_students)\n",
    "test_check_parametrs(check_parametrs)\n",
    "test_sort_students(sort_students)"
   ]
  }
 ],
 "metadata": {
  "kernelspec": {
   "display_name": "Python 3 (ipykernel)",
   "language": "python",
   "name": "python3"
  },
  "language_info": {
   "codemirror_mode": {
    "name": "ipython",
    "version": 3
   },
   "file_extension": ".py",
   "mimetype": "text/x-python",
   "name": "python",
   "nbconvert_exporter": "python",
   "pygments_lexer": "ipython3",
   "version": "3.8.10"
  },
  "varInspector": {
   "cols": {
    "lenName": 16,
    "lenType": 16,
    "lenVar": 40
   },
   "kernels_config": {
    "python": {
     "delete_cmd_postfix": "",
     "delete_cmd_prefix": "del ",
     "library": "var_list.py",
     "varRefreshCmd": "print(var_dic_list())"
    },
    "r": {
     "delete_cmd_postfix": ") ",
     "delete_cmd_prefix": "rm(",
     "library": "var_list.r",
     "varRefreshCmd": "cat(var_dic_list()) "
    }
   },
   "types_to_exclude": [
    "module",
    "function",
    "builtin_function_or_method",
    "instance",
    "_Feature"
   ],
   "window_display": false
  }
 },
 "nbformat": 4,
 "nbformat_minor": 5
}
