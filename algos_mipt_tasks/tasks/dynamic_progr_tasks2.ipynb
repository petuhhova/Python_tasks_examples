{
 "cells": [
  {
   "cell_type": "markdown",
   "id": "7f32e8b4",
   "metadata": {},
   "source": [
    "http://judge2.vdi.mipt.ru/cgi-bin/new-client?contest_id=731112"
   ]
  },
  {
   "cell_type": "markdown",
   "id": "ea941c1e",
   "metadata": {},
   "source": [
    "Вам даны 2 координаты 2 клеток на шахматном поле. Нужно ответить на вопрос, можно ли попасть из одной клетки в другую за не более чем 2 хода конем. В случае, если попасть возможно, надо вывести количество ходов, за которое это можно сделать. Если попасть невозможно, следует вернуть -1.\n",
    "\n",
    "Формат входных данных\n",
    "На вход подаются числа от 1 до 8 в 4 строках. Первые 2 строки задают координаты начальной клетки, вторые 2 -- координаты конечной клетки.\n",
    "\n",
    "Формат выходных данных\n",
    "Одно число — количество ходов, за которые можно попасть из из одной клетки во вторую. Если невозможно -- вывести -1.\n"
   ]
  },
  {
   "cell_type": "code",
   "execution_count": 2,
   "id": "9dad14c9",
   "metadata": {},
   "outputs": [
    {
     "name": "stdout",
     "output_type": "stream",
     "text": [
      "1\n",
      "1\n",
      "4\n",
      "4\n",
      "2\n"
     ]
    }
   ],
   "source": [
    "def generate_one_knights_move():\n",
    "    moves=[]\n",
    "    a=[-2,-1,1,2]\n",
    "    for i in a:\n",
    "        for j in a:\n",
    "            if abs(i)!=abs(j): moves.append((i,j))\n",
    "    return moves\n",
    "\n",
    "def calc_knights_move(x1,y1,x2,y2):\n",
    "    \"\"\"Calcs moves of knight needed to get from chessboard cell x1y1 to cell x2y2\n",
    "    returns moves count if it's <=2 else -1\"\"\"\n",
    "    if x1==x2 and y1==y2:\n",
    "        return 0;\n",
    "    cb=[[0 for i in range(8)]for j in range(8)]\n",
    "    moves=generate_one_knights_move()\n",
    "    #Calc posiible moves from (x1,y1)\n",
    "    for move in moves:\n",
    "        i=x1-1+move[0]\n",
    "        j=y1-1+move[1]\n",
    "        if -1<i<8 and -1<j<8:\n",
    "            if i==x2-1 and j==y2-1:\n",
    "                return 1\n",
    "            cb[i][j]=1\n",
    "            \n",
    "    #Cheks moves to (x2,y2)\n",
    "    for move in moves:\n",
    "        i=x2-1+move[0]\n",
    "        j=y2-1+move[1]\n",
    "        if -1<i<8 and -1<j<8 and cb[i][j]==1:\n",
    "            return 2\n",
    "    return -1\n",
    "x=[int(input()) for i in range(4)]\n",
    "print(calc_knights_move(*x))"
   ]
  },
  {
   "cell_type": "code",
   "execution_count": 8,
   "id": "8c9cd7a1",
   "metadata": {},
   "outputs": [
    {
     "name": "stdout",
     "output_type": "stream",
     "text": [
      "[(-2, -1), (-2, 1), (-1, -2), (-1, 2), (1, -2), (1, 2), (2, -1), (2, 1)]\n"
     ]
    },
    {
     "data": {
      "text/plain": [
       "1"
      ]
     },
     "execution_count": 8,
     "metadata": {},
     "output_type": "execute_result"
    }
   ],
   "source": [
    "print(generate_one_knights_move())\n",
    "calc_knights_move(7,6,8,8)"
   ]
  },
  {
   "cell_type": "markdown",
   "id": "0b306f11",
   "metadata": {},
   "source": [
    "Герою компьютерной игры нужно перебраться от одного края экрана к другому, перепрыгивая по платформам. При этом при прыжке с одной платформы на соседнюю, у героя уходит |y2-y1| единиц энергии, где y1 и y2 – высоты, на которых расположены эти платформы. Кроме того, у героя есть суперприем, который позволяет перескочить через платформу, но на это затрачивается 3*|y3-y1| единиц энергии. Конечно же, энергию следует расходовать максимально экономно.\n",
    "\n",
    "Вам известны высоты всех платформ в порядке от левого края до правого. Необходимо найти, какое минимальное количество энергии потребуется герою, чтобы добраться с первой платформы до последней.\n",
    "\n",
    "Формат входных данных\n",
    "В первой строке - количество платформ (0 < n <= 30000). Далее на каждой из n строк записана высота , на которой расположена очередная платформа.\n",
    "\n",
    "Формат выходных данных\n",
    "Одно число — минимальное количество энергии, которую должен потратить герой на преодоление платформ.\n",
    "\n",
    "Y=[0,n-1] \\\n",
    "Из последней либо на предыдущую , либо на предпредыдущую \\\n",
    "E[i]=min(abs(Y[i-1]-Y[i-2])+E[i-1],3*abs(Y[i-1]-Y[i-3])+E[i-2]) \\\n",
    "Крайний случай: \\\n",
    "E[0]=float(\"inf\")\\\n",
    "E[1]=0 \\\n",
    "E[2]=Y[1]-Y[0] "
   ]
  },
  {
   "cell_type": "code",
   "execution_count": 10,
   "id": "1bb36ea5",
   "metadata": {},
   "outputs": [
    {
     "name": "stdout",
     "output_type": "stream",
     "text": [
      "4\n",
      "20\n",
      "30\n",
      "10\n",
      "5\n",
      "35\n"
     ]
    }
   ],
   "source": [
    "def calc_min_energy(n,Y):\n",
    "    \"\"\"Calcs min energy wich hero needs to get from platform 1 to platform n\n",
    "    gets n-number of last platform, Y-list of platform heights\n",
    "    hero steps-from i-1 to i:energy |y(i)-y(i-1)|\n",
    "    from i-2 to i:energy 3*|y(i)-y(i-2)|\"\"\"\n",
    "    if n==1:\n",
    "        return 0\n",
    "    E=[float(\"inf\"),0,abs(Y[1]-Y[0])]+[0 for i in range(2,n)]\n",
    "    for i in range(3,n+1):\n",
    "        E[i]=min(abs(Y[i-1]-Y[i-2])+E[i-1],3*abs(Y[i-1]-Y[i-3])+E[i-2])\n",
    "    return E[n]\n",
    "n=int(input())\n",
    "Y=[int(input()) for i in range(n)]\n",
    "print(calc_min_energy(n,Y))"
   ]
  },
  {
   "cell_type": "code",
   "execution_count": 4,
   "id": "2a7366b6",
   "metadata": {},
   "outputs": [
    {
     "data": {
      "text/plain": [
       "6"
      ]
     },
     "execution_count": 4,
     "metadata": {},
     "output_type": "execute_result"
    }
   ],
   "source": [
    "calc_min_energy(2,[20,14])"
   ]
  },
  {
   "cell_type": "markdown",
   "id": "fd7907a2",
   "metadata": {},
   "source": [
    "На шахматной доске стоят белый король и черный конь. Конь неподвижен, король может ходить на одну клетку вправо, на одну клетку вверх или наискосок вправо-вверх. Посчитайте, сколькими способами король может дойти до клетки h8, начав с клетки a1. Королю нельзя попадать под атаку коня. Самого коня есть тоже нельзя.\n",
    "\n",
    "Строки шахматной доски пронумерованы числами от 1 до 8, столбцы буквами от a до h. Строка 1 - самая нижняя, столбец a - самый левый.\n",
    "\n",
    "Формат входных данных\n",
    "В единственной строке - позиция коня. Позиция - это два символа, буква столбца и номер строки, например a3.\n",
    "\n",
    "Формат выходных данных\n",
    "\n",
    "Одно число — результат.\n",
    "\n",
    "K[0..8][0..8]\\\n",
    "$ K_{ij}=K_{i-1,j}+K_{i,j-1}+K_{i-1,j-1}$ \\\n",
    "Крайний случай:\\\n",
    "$K_{0j}=K_{i0}=0, K_{11}=1$\\\n",
    "K(ходы_коня)=0"
   ]
  },
  {
   "cell_type": "code",
   "execution_count": 11,
   "id": "86c90fd5",
   "metadata": {},
   "outputs": [
    {
     "name": "stdout",
     "output_type": "stream",
     "text": [
      "a3\n",
      "5703\n"
     ]
    }
   ],
   "source": [
    "def get_cell_coordinates_from_string(knights_move:str):\n",
    "    col=[\"a\",\"b\",\"c\",\"d\",\"e\",\"f\",\"g\",\"h\"]\n",
    "    i=1\n",
    "    for letter in col:\n",
    "        if knights_move[0]==letter:\n",
    "            return (i,int(knights_move[1]))\n",
    "        i+=1\n",
    "    \n",
    "def generate_one_knights_move():\n",
    "    moves=[]\n",
    "    a=[-2,-1,1,2]\n",
    "    for i in a:\n",
    "        for j in a:\n",
    "            if abs(i)!=abs(j): moves.append((i,j))\n",
    "    return moves \n",
    "def count_kings_traj(x:int,y:int):\n",
    "    \"\"\"Count tragectories how wight king can move from point(1,1)of chessboard to (8,8)\n",
    "    if black knight stays on cell (x,y)\n",
    "    King moves on 1 cell (i,j->(i+1,j),(i,j+1),(i+1,j+1))\"\"\"\n",
    "    n=8\n",
    "    K=[[0 if j*i==0 else -1 for j in range(n+1)]for i in range(n+1)]\n",
    "    K[1][1]=1\n",
    "    # Calc protected cells:\n",
    "    K[x][y]=0\n",
    "    moves=generate_one_knights_move()\n",
    "    for move in moves:\n",
    "        i=x+move[0]\n",
    "        j=y+move[1]\n",
    "        if 0<i<n+1 and 0<j<n+1:\n",
    "            K[i][j]=0\n",
    "    # Calc trajectories \n",
    "    # fill diagonally\n",
    "    for k in range(2,n+1):\n",
    "        i=k;j=1\n",
    "        while i>0:\n",
    "            if K[i][j]!=0:\n",
    "                K[i][j]=K[i-1][j-1]+K[i-1][j]+K[i][j-1]\n",
    "            i-=1;j+=1\n",
    "    for k in range(2,n+1):\n",
    "        i=n;j=k\n",
    "        while j<9:\n",
    "            if K[i][j]!=0:\n",
    "                K[i][j]=K[i-1][j-1]+K[i-1][j]+K[i][j-1]\n",
    "            i-=1;j+=1\n",
    "    return K[n][n]\n",
    "knights_move=input()\n",
    "x,y=get_cell_coordinates_from_string(knights_move)\n",
    "print(count_kings_traj(x,y))"
   ]
  },
  {
   "cell_type": "markdown",
   "id": "425b9623",
   "metadata": {},
   "source": [
    "Задача I-Размен денег \\\n",
    "Написать функцию make_exchange(money, coins), которая принимает сумму денег (целое число) и массив номиналов разменных монет (целых чисел) (возможно пустой) и возвращает количество способов произвести размен. Считаем, что разменных монет бесконечное множество.\n",
    "\n",
    "Формат выходных данных\n",
    "Число способов произвести размен. Способы 1+2 и 2+1 считаем тождественными. \\\n",
    "\n",
    "$Coins=[0,n]$ \\\n",
    "$C[i][j]=C[i][j-1]$ \\\n",
    "$C[i][j]+=C[i-coins[j-1]][j]$ \\\n",
    "Крайний случай:\\\n",
    "$C[0][j]=1$ \\\n",
    "Можно взять только 2 столбца и считать по ним"
   ]
  },
  {
   "cell_type": "code",
   "execution_count": 16,
   "id": "0d0014e2",
   "metadata": {},
   "outputs": [],
   "source": [
    "def chek_coins(money, coins):\n",
    "    #сам список не обязательно должен быть отсортирован\n",
    "    #но обязательно должны быть удалены повторяющиеся элементы\n",
    "    # и отрицательные \n",
    "    M=len(coins)\n",
    "    #min_step=money\n",
    "    j=0\n",
    "    for i in range(M):\n",
    "        if coins[i]<=0:\n",
    "            j=i+1\n",
    "        if coins[i]>=money:\n",
    "            coins=coins[j:i]\n",
    "            M=i-j\n",
    "            break\n",
    "    i=1\n",
    "    while(i<M):\n",
    "        if coins[i]==coins[i-1]:\n",
    "            coins.pop(i)\n",
    "            M-=1\n",
    "            continue\n",
    "        i+=1\n",
    "    return(coins)\n",
    "\n",
    "def make_exchange(money, coins):\n",
    "    if coins==[]:\n",
    "        return 0\n",
    "    coins=chek_coins(money, coins)\n",
    "    N=money+1\n",
    "    M=len(coins)+1\n",
    "    C=[[1 if i==0 else 0 for j in range(M) ]for i in range(N)]\n",
    "    for i in range(1,N):\n",
    "        for j in range(1,M):\n",
    "            C[i][j]=C[i][j-1]\n",
    "            if i-coins[j-1]>=0:\n",
    "                C[i][j]+=C[i-coins[j-1]][j]\n",
    "    return C[N-1][M-1]"
   ]
  },
  {
   "cell_type": "code",
   "execution_count": 17,
   "id": "14f8cb6a",
   "metadata": {},
   "outputs": [],
   "source": [
    "def make_exchange2(money, coins):\n",
    "    if coins==[]:\n",
    "        return 0\n",
    "    N=money+1\n",
    "    M=len(coins)\n",
    "    C=[[1 if i==0 else 0 for i in range(N)] for j in range(2)] \n",
    "    j=1\n",
    "    for j in range(M):\n",
    "        if coins[j]<=0 or coins[j]>money:\n",
    "            continue\n",
    "        is_calced=False\n",
    "        for k in range(j):\n",
    "            if coins[k]==coins[j]:\n",
    "                is_calced=True\n",
    "                break\n",
    "        if is_calced:\n",
    "            continue\n",
    "        for i in range(1,N):\n",
    "            C[1][i]=C[0][i]\n",
    "            if i-coins[j]>=0:\n",
    "                C[1][i]+=C[1][i-coins[j]]\n",
    "        for i in range(1,N):\n",
    "            C[0][i]=C[1][i]\n",
    "    return C[1][N-1]"
   ]
  },
  {
   "cell_type": "code",
   "execution_count": 22,
   "id": "4a228b72",
   "metadata": {},
   "outputs": [
    {
     "name": "stdout",
     "output_type": "stream",
     "text": [
      "0 0 10 []\n",
      "7 7 12 [1, 2, 13]\n",
      "4 4 10 [5, 2, 3]\n",
      "0 1 1 [1, 2]\n",
      "7 46262 100 [3, 5, 106, 5, -25, 4, 2, 1]\n",
      "0 0 10 [4, 7]\n",
      "530 530 20 [1, 2, 3, 4, 5, 6, 7, 8, 9, 10]\n",
      "530 530 20 [1, 2, 3, 4, 5, 6, 7, 8, 9, 10]\n"
     ]
    }
   ],
   "source": [
    "coins=[[],[1,2,13], [5,2,3],[1,2],[3,5,106,5,-25,4,2,1],[4,7],list(range(1,11)),[1,2,3,4,5,6,7,8,9,10]]\n",
    "money=[10,12,10,1,100,10,20,20]\n",
    "for c,m in zip(coins,money):\n",
    "    print(make_exchange(m,c),make_exchange2(m,c),m,c)"
   ]
  },
  {
   "cell_type": "markdown",
   "id": "2a87360d",
   "metadata": {},
   "source": [
    "J-Задача о рюкзаке\n",
    "Дано N предметов. Каждый из них имеет вес w i и стоимость p i . Также имеется рюкзак вместимостью W. От вас требуется найти такой набор предметов, что их суммарная стоимость максимальна, а суммарный вес не превосходит вместимость рюкзака. Ответом на задау надо будет вывести стоимость такого набора.\n",
    "\n",
    "Формат входных данных\n",
    "На первых двух строках даны натуральные числа N и W, не превосходящие 100. На следующих 2*M строках даны пары чисел натуральных w i ≤ 100 и p i ≤ 1000.\n",
    "\n",
    "Формат выходных данных\n",
    "Одно число - стоимость набора."
   ]
  },
  {
   "cell_type": "markdown",
   "id": "94ee4bd1",
   "metadata": {},
   "source": [
    "Для каждого следующего эл-та из набора:\n",
    "Проходився по всем весам до w_max-максимального веса рюкзака\\\n",
    "2 варианта: \\\n",
    "1)Если вес элемента wi>w-текущего максимального веса рюкзака-, не кладем эл-т в рюкзак \\\n",
    "Тогда максиммальная стоимоть равняется максимальной стоимости набора из предыдущих эл-тов\\\n",
    "P[i,w]=P[i-1,w] \\\n",
    "2) Вес не превышен, тогда выбираем максимум из стоимости предыдущего набора  и стоимости\n",
    "предыдущего набора, но с весом не превышающим w-wi +стоимость нашего эл-та  \\\n",
    "Те либо кладем элемент если это выгодно, либо нет \\\n",
    "P[i][w]=max(P[i-1][w],P[i-1][w-wi]+pi) \\\n",
    "Крайний случай: \\\n",
    "Стоимость 0 эл-то в рюкзаке 0:\\\n",
    "P[0,w]=0 \\\n",
    "В целом реализация несколько похожа на задачу про деньги \\"
   ]
  },
  {
   "cell_type": "code",
   "execution_count": 23,
   "id": "72ff8994",
   "metadata": {},
   "outputs": [
    {
     "name": "stdout",
     "output_type": "stream",
     "text": [
      "1\n",
      "20\n",
      "20\n",
      "10\n",
      "10\n"
     ]
    }
   ],
   "source": [
    "def calc_max_rucksack_price(w_max,items:list):\n",
    "    \"\"\"Calc max rucksack price,\n",
    "    gets- w_max-maximum weight of rucksak\n",
    "    -list of items, item format is(item_weight,item_price)\n",
    "    every item can be used only ones\n",
    "    returns max price\"\"\"\n",
    "    if w_max<0:\n",
    "        return 0\n",
    "    P=[[0 for w in range(w_max+1)]for i in range(2)]\n",
    "    for item in items:\n",
    "        w_i=item[0] #item weight\n",
    "        p_i=item[1] #item price\n",
    "        if w_i>w_max or w_i<0: #if wi>w_max or incorrect,gel balloons not accepted!\n",
    "            continue\n",
    "        for w in range(1,w_max+1):\n",
    "            P[1][w]= max(P[0][w],P[0][w-w_i]+p_i) if w_i<=w else P[0][w]\n",
    "        for w in range(1,w_max+1):\n",
    "            P[0][w]=P[1][w]\n",
    "    return P[1][w_max]\n",
    "\n",
    "n=int(input())\n",
    "w_max=int(input())\n",
    "items=[]\n",
    "for i in range(n):\n",
    "    w=int(input())\n",
    "    p=int(input())\n",
    "    items.append((w,p))\n",
    "print(calc_max_rucksack_price(w_max,items))"
   ]
  },
  {
   "cell_type": "code",
   "execution_count": 85,
   "id": "4e2d7d21",
   "metadata": {},
   "outputs": [
    {
     "name": "stdout",
     "output_type": "stream",
     "text": [
      "Ok 13 13 [(3, 1), (4, 6), (5, 4), (8, 7), (9, 6)]\n",
      "Ok 0 0 [(0, 22)]\n",
      "Ok 0 20 [(-1, 22)]\n",
      "Ok 0 -10 [(1, 2), (1, 2)]\n",
      "Ok 0 11 [(2, -10)]\n",
      "Ok 0 1 []\n",
      "Ok 7 3 [(2, 3), (5, 10), (1, 4)]\n"
     ]
    }
   ],
   "source": [
    "def test_rucksack_task():\n",
    "    w_max=[13,0,20,-10,11,1,3]\n",
    "    res_ok=[13,0,0,0,0,0,7]\n",
    "    items=[[(3,1),(4,6),(5,4),(8,7),(9,6)],[(0,22)],[(-1,22)],[(1,2),(1,2)],\n",
    "          [(2,-10)],[],[(2,3),(5,10),(1,4)]]\n",
    "    for i in range(len(w_max)):\n",
    "        res=calc_max_rucksack_price(w_max[i],items[i])\n",
    "        print(\"Ok\" if res==res_ok[i] else \"Fail\",res,w_max[i],items[i])\n",
    "test_rucksack_task()"
   ]
  }
 ],
 "metadata": {
  "kernelspec": {
   "display_name": "Python 3 (ipykernel)",
   "language": "python",
   "name": "python3"
  },
  "language_info": {
   "codemirror_mode": {
    "name": "ipython",
    "version": 3
   },
   "file_extension": ".py",
   "mimetype": "text/x-python",
   "name": "python",
   "nbconvert_exporter": "python",
   "pygments_lexer": "ipython3",
   "version": "3.8.10"
  },
  "varInspector": {
   "cols": {
    "lenName": 16,
    "lenType": 16,
    "lenVar": 40
   },
   "kernels_config": {
    "python": {
     "delete_cmd_postfix": "",
     "delete_cmd_prefix": "del ",
     "library": "var_list.py",
     "varRefreshCmd": "print(var_dic_list())"
    },
    "r": {
     "delete_cmd_postfix": ") ",
     "delete_cmd_prefix": "rm(",
     "library": "var_list.r",
     "varRefreshCmd": "cat(var_dic_list()) "
    }
   },
   "types_to_exclude": [
    "module",
    "function",
    "builtin_function_or_method",
    "instance",
    "_Feature"
   ],
   "window_display": false
  }
 },
 "nbformat": 4,
 "nbformat_minor": 5
}
