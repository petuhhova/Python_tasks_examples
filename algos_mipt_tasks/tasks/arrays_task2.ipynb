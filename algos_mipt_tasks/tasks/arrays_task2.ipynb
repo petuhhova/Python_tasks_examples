{
 "cells": [
  {
   "cell_type": "markdown",
   "id": "778923ed",
   "metadata": {},
   "source": [
    "Вклад в банке составляет x рублей. Ежегодно он увеличивается на p процентов, после чего дробная часть копеек отбрасывается. Каждый год сумма вклада становится больше. Надо определить, через сколько лет вклад составит не менее y рублей.\n",
    "\n",
    "Формат входных данных\n",
    "Три натуральных числа: x, p, y.\n",
    "\n",
    "Формат выходных данных\n",
    "Число лет, через сколько лет вклад составит не менее y рублей."
   ]
  },
  {
   "cell_type": "code",
   "execution_count": 10,
   "id": "1a4df765",
   "metadata": {},
   "outputs": [
    {
     "name": "stdout",
     "output_type": "stream",
     "text": [
      "0\n",
      "0\n",
      "0\n"
     ]
    }
   ],
   "source": [
    "#x,p,y=map(int,input().split())\n",
    "\n",
    "def calc_year(x,p,y):\n",
    "    year=0\n",
    "    while x<y:\n",
    "        x*=100+p\n",
    "        x=int(x)/100\n",
    "        year+=1\n",
    "    return year\n",
    "\n",
    "str=input().split()\n",
    "if(len(str)==3):\n",
    "    x,p,y=map(int,str)\n",
    "    print(calc_year(x,p,y))\n",
    "else:\n",
    "    int(input())\n",
    "    print(0)\n",
    "    "
   ]
  },
  {
   "cell_type": "markdown",
   "id": "a203defb",
   "metadata": {},
   "source": [
    "Вводится последовательность, состоящая только из 0 и 1. Необходимо найти максимальное количество 1, идущих подряд (без 0 между ними).\n",
    "\n",
    "Формат входных данных\n",
    "В первой строке задается натуральное N<=10000 , длина массива, далее идут N чисел 0 или 1 -- элементы массива. Каждое число вводится с новой строки.\n",
    "\n",
    "Формат выходных данных\n",
    "Одно число — результат.\n",
    "\n"
   ]
  },
  {
   "cell_type": "code",
   "execution_count": 16,
   "id": "d8693af4",
   "metadata": {},
   "outputs": [
    {
     "name": "stdout",
     "output_type": "stream",
     "text": [
      "6\n",
      "1\n",
      "1\n",
      "0\n",
      "1\n",
      "1\n",
      "1\n",
      "3\n"
     ]
    }
   ],
   "source": [
    "n=int(input())\n",
    "\n",
    "def find_max_111(n:int):\n",
    "    max_111=0\n",
    "    curr_111=0\n",
    "    for i in range(n):\n",
    "        x=int(input())\n",
    "        if x==1:\n",
    "            curr_111+=1\n",
    "            if curr_111>max_111:\n",
    "                max_111=curr_111\n",
    "        if x==0:\n",
    "            curr_111=0\n",
    "    return(max_111)\n",
    "\n",
    "print(find_max_111(n))"
   ]
  },
  {
   "cell_type": "markdown",
   "id": "eca17938",
   "metadata": {},
   "source": [
    "Есть результаты работы студентов в семестре. Студентов выводить в порядке суммы их баллов. Требутеся вывести отсортированные результаты работ для каждого студента.\n",
    "\n",
    "Данные вводятся как: student_id value\n",
    "\n",
    "student_id принимает значения от 0 до N. value от 1 до 10\n",
    "\n",
    "Пример входных данных: 0 3\\ 0 5\\ 1 3\\ 1 2\\\n",
    "\n",
    "Тут представленны данные о двух студента: 0 и 1. Сумма балов студента 0 - 8. Студента 1 - 5. Значит, сначала должны быть напечатаны результаты 0 студента, затем 1. Таким образом сначала надо вывести отсортированные результаты студента 0, затем студента 1:\n",
    "\n",
    "5 3 3 2\n",
    "\n",
    "Напомним, что у list в питоне есть встроенный метод sort и есть функция sorted. У них есть параметр key, который определяет по каким значениям будет сортироваться объект. Например код ниже будет сортировать лист по длинне его элементов. Так же есть параметр reverse.\n",
    "\n",
    "a = ['###', '@', '??'] a.sort(key=lambda x: len(x)) a ['@', '??', '###'] a.sort(key=lambda x: len(x), reverse=True) ['###', '??', '@']\n",
    "\n",
    "Что такое лямбда функция вы узнаете в дальнейшем (так же всегда есть сайт google). Для выполнения этого задания достаточно понять, на что надо заменить функцию len.\n",
    "\n",
    "Формат входных данных\n",
    "В первой строке N - количество студентов. Далее идет какое-то количество строк (не равное N) с результатами студентов в формате: student_id value. 0 <= student_id < N. Значения разделены пробелом. Ввод заканчивается #.\n",
    "\n",
    "Формат выходных данных\n",
    "Вывести отсортированные результаты студентов в одну строку. Сначала печатаются результаты лучшего по сумме баллов студента, потом второго и так далее. Результаты в одну строку"
   ]
  },
  {
   "cell_type": "code",
   "execution_count": 2,
   "id": "33188b8f",
   "metadata": {},
   "outputs": [
    {
     "name": "stdout",
     "output_type": "stream",
     "text": [
      "2\n",
      "0 3\n",
      "0 5\n",
      "1 3\n",
      "1 2\n",
      "#\n",
      "5 3 3 2\n"
     ]
    }
   ],
   "source": [
    "n=int(input())\n",
    "def read_students_list(n:int):\n",
    "    students_list=[[] for i in range(n)]\n",
    "    input_str=input()\n",
    "    while input_str !='#':\n",
    "        student_id,value=map(int,input_str.split())\n",
    "        students_list[student_id].append(value)\n",
    "        input_str=input()\n",
    "    return students_list\n",
    "\n",
    "def sort_students_list(students_list:list):\n",
    "    new_list=[]\n",
    "    students_list.sort(key=lambda x:sum(x),reverse=True)\n",
    "    for student in students_list:\n",
    "        student.sort(reverse=True)\n",
    "        new_list+=student\n",
    "    return new_list\n",
    "\n",
    "students_list=read_students_list(n)\n",
    "students_list=sort_students_list(students_list)\n",
    "print(\" \".join(map(str,students_list)))"
   ]
  },
  {
   "cell_type": "code",
   "execution_count": 4,
   "id": "069aa00c",
   "metadata": {},
   "outputs": [
    {
     "name": "stdout",
     "output_type": "stream",
     "text": [
      "10 3 4 3 2\n"
     ]
    }
   ],
   "source": [
    "students_list=[[3,10],[],[3,2,4] ]\n",
    "students_list=sort_students_list(students_list)\n",
    "print(\" \".join(map(str,students_list)))"
   ]
  }
 ],
 "metadata": {
  "kernelspec": {
   "display_name": "Python 3 (ipykernel)",
   "language": "python",
   "name": "python3"
  },
  "language_info": {
   "codemirror_mode": {
    "name": "ipython",
    "version": 3
   },
   "file_extension": ".py",
   "mimetype": "text/x-python",
   "name": "python",
   "nbconvert_exporter": "python",
   "pygments_lexer": "ipython3",
   "version": "3.8.10"
  },
  "varInspector": {
   "cols": {
    "lenName": 16,
    "lenType": 16,
    "lenVar": 40
   },
   "kernels_config": {
    "python": {
     "delete_cmd_postfix": "",
     "delete_cmd_prefix": "del ",
     "library": "var_list.py",
     "varRefreshCmd": "print(var_dic_list())"
    },
    "r": {
     "delete_cmd_postfix": ") ",
     "delete_cmd_prefix": "rm(",
     "library": "var_list.r",
     "varRefreshCmd": "cat(var_dic_list()) "
    }
   },
   "types_to_exclude": [
    "module",
    "function",
    "builtin_function_or_method",
    "instance",
    "_Feature"
   ],
   "window_display": false
  }
 },
 "nbformat": 4,
 "nbformat_minor": 5
}
