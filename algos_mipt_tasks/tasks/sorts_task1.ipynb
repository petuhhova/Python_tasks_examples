{
 "cells": [
  {
   "cell_type": "markdown",
   "id": "69fe2206",
   "metadata": {},
   "source": [
    "Напечатайте входную строку, отсортировав ее по возрастанию ASCII кода символов.\n",
    "\n",
    "Входные данные\n",
    "\n",
    "Строка, заканчивающаяся точкой, длиной не более 1000 символов. Точку сортировать не нужно. Все, что находится после первой точки - игнорировать.\n",
    "\n",
    "Выходные данные\n",
    "\n",
    "Отсортированная строка с точкой на конце."
   ]
  },
  {
   "cell_type": "code",
   "execution_count": 4,
   "id": "b3035e1b",
   "metadata": {},
   "outputs": [
    {
     "name": "stdout",
     "output_type": "stream",
     "text": [
      "bcda.bac\n",
      "abcd.\n"
     ]
    }
   ],
   "source": [
    "def get_first_end_string(my_string:str):\n",
    "    \"\"\"returns first string ends with '.' in my_string\"\"\"\n",
    "    index=0\n",
    "    for char in my_string:\n",
    "        if char=='.':\n",
    "            break\n",
    "        index+=1\n",
    "    return my_string[:index] if len(my_string)!=index else \"\"\n",
    "\n",
    "# Каждый символ ascii кодируется 7 битами всего 2^7=128 символов(если не брать расширенную версию)\n",
    "# ascii совпадает с unicode (ну понятно с первыми 128 символами)\n",
    "# ord(x) возвращает код символа в unicode,chr(x) возвращает символ по unicode\n",
    "\n",
    "def sort_string_ascii(my_string:str):\n",
    "    \"\"\"Sorts ascii string in ascending order,\n",
    "    if symbol isn't ascii it's missed\n",
    "    returns sorted string\"\"\"\n",
    "    my_string=get_first_end_string(my_string)\n",
    "    if not my_string:\n",
    "        return \"\"\n",
    "    \n",
    "    symbol_in_ascii=128 #всего символов в ascii\n",
    "    count=[0]*symbol_in_ascii\n",
    "    for char in my_string:\n",
    "        code=ord(char)\n",
    "        if code<symbol_in_ascii:\n",
    "            count[code]+=1 \n",
    "    my_string=''\n",
    "    for i in range(symbol_in_ascii):\n",
    "        my_string+=chr(i)*count[i]\n",
    "    return my_string+'.'\n",
    "\n",
    "my_string=input()\n",
    "my_string=sort_string_ascii(my_string)\n",
    "print(my_string)"
   ]
  },
  {
   "cell_type": "code",
   "execution_count": 5,
   "id": "422672df",
   "metadata": {},
   "outputs": [],
   "source": [
    "def test_sorting_ascii_string(sort_algorithm):\n",
    "    print(\"Test1:\")\n",
    "    string=\"qwe Rty5, yu! Mama.\"\n",
    "    sorted_string=\"   !,5MRaaemqtuwyy.\"\n",
    "    print(\"OK\" if sort_algorithm(string)==sorted_string else \"Fail\")\n",
    "    \n",
    "    print(\"Test2:\")\n",
    "    string=\"ииbbaa11.adasd.asd\"\n",
    "    sorted_string=\"11aabb.\"\n",
    "    print(\"OK\" if sort_algorithm(string)==sorted_string else \"Fail\")\n",
    "    \n",
    "    print(\"Test2:\")\n",
    "    string=\"ииbbaa11adasdasd\"\n",
    "    sorted_string=\"\"\n",
    "    print(\"OK\" if sort_algorithm(string)==sorted_string else \"Fail\")"
   ]
  },
  {
   "cell_type": "code",
   "execution_count": 6,
   "id": "b14bb90d",
   "metadata": {},
   "outputs": [
    {
     "name": "stdout",
     "output_type": "stream",
     "text": [
      "Test1:\n",
      "OK\n",
      "Test2:\n",
      "OK\n",
      "Test2:\n",
      "OK\n"
     ]
    }
   ],
   "source": [
    "test_sorting_ascii_string(sort_string_ascii)"
   ]
  },
  {
   "cell_type": "markdown",
   "id": "5a5c8ab9",
   "metadata": {},
   "source": [
    "Напечатайте входную последовательность натуральных чисел, отсортировав ее по возрастанию сначала единиц, потом десятков, потом сотен и тп.\n",
    "\n",
    "Входные данные\n",
    "\n",
    "Целое число 0 < N ≤ 1000. Затем N натуральных чисел, не превышающих 30000, через пробел.\n",
    "\n",
    "Выходные данные\n",
    "\n",
    "Числа по возрастанию единиц, при равных единиц - по возрастанию десятков, при равных единицах и десятков - по возрастанию сотен и тп."
   ]
  },
  {
   "cell_type": "code",
   "execution_count": 8,
   "id": "2d0f0fad",
   "metadata": {},
   "outputs": [
    {
     "name": "stdout",
     "output_type": "stream",
     "text": [
      "1\n",
      "1\n",
      "1\n"
     ]
    }
   ],
   "source": [
    "N= int(input())\n",
    "numbers=list(map(int,input().split()))\n",
    "\n",
    "def find_max_place(numbers_list:list):\n",
    "    \"\"\"Finds max place of numbers in numbers list\"\"\"\n",
    "    max_number=max(numbers_list)\n",
    "    max_place=-1\n",
    "    while max_number!=0:\n",
    "        max_number//=10\n",
    "        max_place+=1\n",
    "    return max_place\n",
    "\n",
    "def sort_numbers_for_place(numbers_list:list,place:int=0):\n",
    "    \"\"\"Sorts numbers from begin to end in list of numbers by place in acsending order\"\"\"\n",
    "    N=len(numbers_list)\n",
    "    sorted_lists=[[],[],[],[],[],[],[],[],[],[]]\n",
    "    if N<=1:\n",
    "        return\n",
    "    max_place=find_max_place(numbers_list)\n",
    "    if place>max_place:\n",
    "        return\n",
    "    for number in numbers_list:\n",
    "        digit=number%10**(place+1)//10**place\n",
    "        sorted_lists[digit].append(number)\n",
    "    for list_ in sorted_lists:\n",
    "        sort_numbers_for_place(list_,place+1)\n",
    "        \n",
    "    #writes to numbers list\n",
    "    k=0\n",
    "    for list_ in sorted_lists:\n",
    "        for number in list_:\n",
    "            numbers_list[k]=number\n",
    "            k+=1\n",
    "    return\n",
    "sort_numbers_for_place(numbers)\n",
    "print(*numbers)"
   ]
  },
  {
   "cell_type": "code",
   "execution_count": 13,
   "id": "26673230",
   "metadata": {},
   "outputs": [],
   "source": [
    "def test_sort_numbers(sort_algo):\n",
    "    print(\"Test1:\")\n",
    "    list_=[5,23,3,43,123]\n",
    "    sorted_list=[3,23,123,43,5]\n",
    "    sort_algo(list_)\n",
    "    print(\"Ok\" if list_==sorted_list else \"Fail\")\n",
    "    \n",
    "    print(\"Test2:\")\n",
    "    list_=[99,88,12345,67,323]\n",
    "    sorted_list=[323,12345,67,88,99]\n",
    "    sort_algo(list_)\n",
    "    print(\"Ok\" if list_==sorted_list else \"Fail\")\n",
    "    \n",
    "    print(\"Test3:\")\n",
    "    list_=[i for i in range(13,0,-1)]\n",
    "    sorted_list=[10,1,11,2,12,3,13,4,5,6,7,8,9]\n",
    "    sort_algo(list_)\n",
    "    print(\"Ok\" if list_==sorted_list else \"Fail\")\n",
    "\n",
    "def test_find_max_place(find_max_algo):\n",
    "    print(\"Test1:\")\n",
    "    list_=[5,23,3,43,123]\n",
    "    sorted_list=[3,23,123,43,5]\n",
    "    print(\"Ok\" if find_max_algo(list_)==2 else \"Fail\")\n",
    "    \n",
    "    print(\"Test2:\")\n",
    "    list_=[99,88,12345,67,323]\n",
    "    sorted_list=[323,12345,67,88,99]\n",
    "    print(\"Ok\" if find_max_algo(list_)==4 else \"Fail\")\n",
    "    \n",
    "    print(\"Test3:\")\n",
    "    list_=[i for i in range(13,0,-1)]\n",
    "    sorted_list=[10,1,11,2,12,3,13,4,5,6,7,8,9]\n",
    "    print(\"Ok\" if find_max_algo(list_)==1 else \"Fail\")"
   ]
  },
  {
   "cell_type": "code",
   "execution_count": 14,
   "id": "ddcbf80c",
   "metadata": {},
   "outputs": [
    {
     "name": "stdout",
     "output_type": "stream",
     "text": [
      "Test1:\n",
      "Ok\n",
      "Test2:\n",
      "Ok\n",
      "Test3:\n",
      "Ok\n"
     ]
    }
   ],
   "source": [
    "test_find_max_place(find_max_place)"
   ]
  },
  {
   "cell_type": "code",
   "execution_count": 15,
   "id": "140c54cb",
   "metadata": {},
   "outputs": [
    {
     "name": "stdout",
     "output_type": "stream",
     "text": [
      "Test1:\n",
      "Ok\n",
      "Test2:\n",
      "Ok\n",
      "Test3:\n",
      "Ok\n"
     ]
    }
   ],
   "source": [
    "test_sort_numbers(sort_numbers_for_place)"
   ]
  }
 ],
 "metadata": {
  "kernelspec": {
   "display_name": "Python 3 (ipykernel)",
   "language": "python",
   "name": "python3"
  },
  "language_info": {
   "codemirror_mode": {
    "name": "ipython",
    "version": 3
   },
   "file_extension": ".py",
   "mimetype": "text/x-python",
   "name": "python",
   "nbconvert_exporter": "python",
   "pygments_lexer": "ipython3",
   "version": "3.8.10"
  },
  "varInspector": {
   "cols": {
    "lenName": 16,
    "lenType": 16,
    "lenVar": 40
   },
   "kernels_config": {
    "python": {
     "delete_cmd_postfix": "",
     "delete_cmd_prefix": "del ",
     "library": "var_list.py",
     "varRefreshCmd": "print(var_dic_list())"
    },
    "r": {
     "delete_cmd_postfix": ") ",
     "delete_cmd_prefix": "rm(",
     "library": "var_list.r",
     "varRefreshCmd": "cat(var_dic_list()) "
    }
   },
   "types_to_exclude": [
    "module",
    "function",
    "builtin_function_or_method",
    "instance",
    "_Feature"
   ],
   "window_display": false
  }
 },
 "nbformat": 4,
 "nbformat_minor": 5
}
