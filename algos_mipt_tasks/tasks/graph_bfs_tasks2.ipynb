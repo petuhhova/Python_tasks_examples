{
 "cells": [
  {
   "cell_type": "markdown",
   "id": "6740f721",
   "metadata": {},
   "source": [
    "#### G-Числа\n",
    "Витя хочет придумать новую игру с числами. В этой игре от игроков требуется преобразовывать четырехзначные числа не содержащие нулей при помощи следующего разрешенного набора действий:\n",
    "\n",
    "Можно увеличить первую цифру числа на 1, если она не равна 9.\n",
    "Можно уменьшить последнюю цифру на 1, если она не равна 1.\n",
    "Можно циклически сдвинуть все цифры на одну вправо.\n",
    "Можно циклически сдвинуть все цифры на одну влево.\n",
    "Например, применяя эти правила к числу 1234 можно получить числа 2234, 1233, 4123 и 2341 соответственно. Точные правила игры Витя пока не придумал, но пока его интересует вопрос, как получить из одного числа другое за минимальное количество операций."
   ]
  },
  {
   "cell_type": "markdown",
   "id": "75bc02b8",
   "metadata": {},
   "source": [
    "Формат входных данных\n",
    "Во входном файле содержится два различных четырехзначных числа, каждое из которых не содержит нулей.\n",
    "\n",
    "Формат выходных данных\n",
    "Программа должна вывести последовательность четырехзначных чисел, не содержащих нулей. Последовательность должна начинаться первым из данных чисел и заканчиваться вторым из данных чисел, каждое последующее число в последовательности должно быть получено из предыдущего числа применением одного из правил. Количество чисел в последовательности должно быть минимально возможным."
   ]
  },
  {
   "cell_type": "code",
   "execution_count": 1,
   "id": "fa6d2929",
   "metadata": {},
   "outputs": [
    {
     "name": "stdout",
     "output_type": "stream",
     "text": [
      "1234\n",
      "4321\n",
      "1234\n",
      "1233\n",
      "1232\n",
      "2321\n",
      "3321\n",
      "4321\n"
     ]
    }
   ],
   "source": [
    "from collections import deque\n",
    "\n",
    "def get_neighbours(number):\n",
    "    nb_numbers=set()\n",
    "    first_digit=number//1000\n",
    "    last_digit=number%10\n",
    "    if first_digit!=9:\n",
    "        nb_numbers.add(1000+number)\n",
    "    if last_digit!=1:\n",
    "        nb_numbers.add(number-1)\n",
    "    nb_numbers.add(number%1000*10+first_digit)\n",
    "    nb_numbers.add(last_digit*1000+number//10)\n",
    "    nb_numbers.discard(number)\n",
    "    return nb_numbers\n",
    "\n",
    "def bfs_find_parents(start,end):\n",
    "    queue=deque([start])\n",
    "    #used={start}\n",
    "    parents={start:None}\n",
    "    #print(queue,used)\n",
    "    while queue:\n",
    "        v=queue.popleft()\n",
    "        for nb in get_neighbours(v):\n",
    "            if nb not in parents:\n",
    "                parents[nb]=v\n",
    "                if nb==end:\n",
    "                    return parents\n",
    "                queue.append(nb)\n",
    "\n",
    "def find_min_path(end,parents):\n",
    "    path=[end]\n",
    "    parent=parents[end]\n",
    "    while parent is not None:\n",
    "        path.append(parent)\n",
    "        parent=parents[parent]\n",
    "    return path[::-1]\n",
    "\n",
    "def get_path(start,end):\n",
    "    if '0' in str(start) or '0' in str(end) or start==end:\n",
    "        return False\n",
    "    ldigit=[start//1000,end//1000]\n",
    "    for ld in ldigit:\n",
    "        if ld<1 or ld>9:\n",
    "            return False\n",
    "    parents=bfs_find_parents(start,end)\n",
    "    path=find_min_path(end,parents)\n",
    "    return path\n",
    "\n",
    "start=int(input())\n",
    "end=int(input())\n",
    "path=get_path(start,end)\n",
    "if path:\n",
    "    for number in path:\n",
    "        print(number)\n",
    "    #print(*path,sep='\\n')"
   ]
  },
  {
   "cell_type": "code",
   "execution_count": null,
   "id": "a0ad28fa",
   "metadata": {},
   "outputs": [],
   "source": [
    "import time\n",
    "import random\n",
    "from tqdm import tqdm\n",
    "\n",
    "def get_rand_number():\n",
    "    number=0\n",
    "    for i in range(4):\n",
    "        number+=random.randrange(1,10)*10**i\n",
    "    return number\n",
    "        \n",
    "def test_rand_numbers(posfail):\n",
    "    tries=10000\n",
    "    sum_time=0\n",
    "    max_path_len=0\n",
    "    for i in tqdm(range(tries)):\n",
    "        start=get_rand_number()\n",
    "        end=get_rand_number()\n",
    "        st=time.time()\n",
    "        path=get_path(start,end)\n",
    "        et=time.time()\n",
    "        sum_time+=et-st\n",
    "        rev_path=get_path(end,start)\n",
    "        if not path and not rev_path:\n",
    "            continue\n",
    "        if not path or not rev_path:\n",
    "            posfail.append((start,end))\n",
    "            continue\n",
    "        max_path_len=max(max_path_len,len(path))\n",
    "        if path[0]!=start or path[-1]!=end or len(path)>36 or len(rev_path)!=len(path):\n",
    "            posfail.append((start,end))\n",
    "    return sum_time/tries,max_path_len\n",
    "posfail=[]\n",
    "print(test_rand_numbers(posfail))\n",
    "#posfail"
   ]
  },
  {
   "cell_type": "code",
   "execution_count": null,
   "id": "7d580e23",
   "metadata": {
    "scrolled": true
   },
   "outputs": [],
   "source": [
    "def test_game(fail):\n",
    "    for i in tqdm(range(1111,5000)):\n",
    "        if ('0' in str(i)):\n",
    "            continue\n",
    "        for j in range(1111,1123):\n",
    "            if (i==j) or ('0' in str(j)):\n",
    "                continue\n",
    "            #print(\"start {} end{}\".format(i,j))\n",
    "            time.sleep(0.0001)\n",
    "            path=get_path(i,j)\n",
    "            if path[0]!=i or path[-1]!=j or len(path)>36:\n",
    "                fail.append((i,j))\n",
    "fail=[]\n",
    "test_game(fail)\n",
    "fail"
   ]
  },
  {
   "cell_type": "code",
   "execution_count": null,
   "id": "322c3687",
   "metadata": {},
   "outputs": [],
   "source": [
    "len(get_path(9798, 1211))"
   ]
  },
  {
   "cell_type": "markdown",
   "id": "164e7b6c",
   "metadata": {},
   "source": [
    "### H-Нахождение кратчайшего цикла в ориентированном невзвешенном графе\n",
    "\n",
    "Дан ориентированный граф. Вершины пронумерованы от 0. Трeбуется с помощью обхода в ширину найти цикл минимальной длины.\n",
    "\n",
    "Формат входных данных\n",
    "На вход программе в первой строке подаются через пробел два числа: n (2 <= n <= 1000) - число вершин в графе и m (1 <= m <= 20000) - число ребер. В следующих m строках задаются ребра, по два числа в каждой строке - номера соединенных вершин (соответствующее ребро идет из первой вершины во вторую).\n",
    "\n",
    "Формат выходных данных\n",
    "Требуется распечатать номера вершин, задающих минимальный цикл в графе. Номера вершин нужно вывести в порядке следования по циклу. Если минимальных циклов несколько вывести любой. Если циклов нет вывести строку \"NO CYCLES\" без кавычек."
   ]
  },
  {
   "cell_type": "code",
   "execution_count": 2,
   "id": "1ee23d85",
   "metadata": {},
   "outputs": [],
   "source": [
    "import sys\n",
    "from pathlib import Path\n",
    "sys.path.append(\"../lib\")\n",
    "path_to_data=Path(\"../data\")"
   ]
  },
  {
   "cell_type": "code",
   "execution_count": 3,
   "id": "5c4cdcd5",
   "metadata": {},
   "outputs": [
    {
     "name": "stdout",
     "output_type": "stream",
     "text": [
      "2 1\n",
      "1 0\n",
      "NO CYCLES\n"
     ]
    }
   ],
   "source": [
    "from get_graph import get_digraph_from_edges\n",
    "from collections import deque\n",
    "\n",
    "def bfs_find_circle(digraph,start):\n",
    "    queue=deque([start])\n",
    "    parents={start:None}\n",
    "    end=None\n",
    "    while queue and end is None:\n",
    "        v=queue.popleft()\n",
    "        for nb in digraph[v]:\n",
    "            if not nb in parents:\n",
    "                parents[nb]=v\n",
    "                queue.append(nb)\n",
    "            elif nb==start:\n",
    "                end=v\n",
    "                break\n",
    "                    \n",
    "    if end is None: return False\n",
    "    \n",
    "    cycle=[end]\n",
    "    parent=parents[end]\n",
    "    while not parent is None:\n",
    "        cycle.append(parent)\n",
    "        parent=parents[parent]\n",
    "    return cycle[::-1]\n",
    "\n",
    "def find_min_cycle(digraph):\n",
    "    len_min_cycle=len(digraph.keys())+1\n",
    "    is_cycle=False\n",
    "    for vertex in digraph:\n",
    "        cycle=bfs_find_circle(digraph,vertex)\n",
    "        if cycle and len(cycle)<len_min_cycle:\n",
    "            min_cycle=cycle[:]\n",
    "            len_min_cycle=len(min_cycle)\n",
    "            is_cycle=True\n",
    "    return min_cycle if is_cycle else False\n",
    "\n",
    "digraph=get_digraph_from_edges(input)\n",
    "res=find_min_cycle(digraph)\n",
    "if res:\n",
    "    print(*res)\n",
    "else:\n",
    "    print(\"NO CYCLES\")"
   ]
  },
  {
   "cell_type": "code",
   "execution_count": 4,
   "id": "c3105ade",
   "metadata": {},
   "outputs": [
    {
     "name": "stdout",
     "output_type": "stream",
     "text": [
      "file H.txt exists\n"
     ]
    }
   ],
   "source": [
    "from pathlib import Path\n",
    "from input_output_func import write_to_file\n",
    "text=\"\"\"8 8\n",
    "7 3\n",
    "3 1\n",
    "5 2\n",
    "6 4\n",
    "6 7\n",
    "4 7\n",
    "1 6\n",
    "1 2\"\"\"\n",
    "path=path_to_data.joinpath(\"graph/bfs/H.txt\")\n",
    "write_to_file(text,path)"
   ]
  },
  {
   "cell_type": "code",
   "execution_count": 5,
   "id": "11e77fae",
   "metadata": {},
   "outputs": [
    {
     "name": "stdout",
     "output_type": "stream",
     "text": [
      "[1, 6, 7, 3]\n"
     ]
    }
   ],
   "source": [
    "with path.open('r') as file:\n",
    "    digraph=get_digraph_from_edges(file.readline)\n",
    "print(find_min_cycle(digraph))"
   ]
  },
  {
   "cell_type": "code",
   "execution_count": 8,
   "id": "dd5f7f81",
   "metadata": {},
   "outputs": [
    {
     "data": {
      "image/png": "[encoded data removed]",
      "text/plain": [
       "<Figure size 640x480 with 1 Axes>"
      ]
     },
     "metadata": {},
     "output_type": "display_data"
    }
   ],
   "source": [
    "import networkx as nx\n",
    "from matplotlib import pyplot as plt\n",
    "my_graph=nx.DiGraph(digraph)\n",
    "nx.draw(my_graph,with_labels=True)\n",
    "plt.show()"
   ]
  },
  {
   "cell_type": "markdown",
   "id": "8392e37e",
   "metadata": {},
   "source": [
    "#### I-Два коня\n",
    "\n",
    "На стандартной шахматной доске (8х8) живут 2 шахматных коня: Красный и Зеленый. Обычно они беззаботно скачут по просторам доски, пощипывая шахматную травку, но сегодня особенный день: у Зеленого коня День Рождения. Зеленый конь решил отпраздновать это событие вместе с Красным. Но для осуществления этого прекрасного плана им нужно оказаться на одной клетке. Заметим, что Красный и Зеленый шахматные кони сильно отличаются от черного с белым: они ходят не по очереди, а одновременно,и если оказываются на одной клетке, никто никого не съедает. Сколько ходов им потребуется, чтобы насладиться праздником?\n",
    "\n",
    "Формат входных данных\n",
    "На вход программы поступают координаты коней, записанные по стандартным шахматным правилам (т.е. двумя символами - маленькая латинская буква (от a до h) и цифра (от 1 до 8), задающие столбец и строку соответственно).\n",
    "\n",
    "Формат выходных данных\n",
    "Требуется вывести наименьшее необходимое количество ходов, либо число -1, если кони не могут встретиться."
   ]
  },
  {
   "cell_type": "code",
   "execution_count": 9,
   "id": "31aa5882",
   "metadata": {},
   "outputs": [
    {
     "name": "stdout",
     "output_type": "stream",
     "text": [
      "a1 h8\n",
      "3\n"
     ]
    }
   ],
   "source": [
    "from collections import deque\n",
    "\n",
    "def get_graph_from_chessboad_2knights():\n",
    "    \"\"\"Gets graph as dict of adjacency lists from chessboard,\n",
    "    vertexes- cells ,\n",
    "    neighbour vertexes- neighbour cells for knight move\n",
    "    Returns graph\"\"\"\n",
    "    letters='abcdefgh'\n",
    "    numbers='12345678'\n",
    "    moves=[(-2,-1),(-1,-2),(-1,2),(-2,1)]\n",
    "    graph={}\n",
    "    for i,l in enumerate(letters):\n",
    "        for j,n in enumerate(numbers):\n",
    "            for parity in ('e','o'):\n",
    "                graph[l+n+parity]=set()\n",
    "            add_neighbours(graph,moves,i,j,letters,numbers)\n",
    "    return graph\n",
    "\n",
    "def add_neighbours(graph,moves,i,j,letters,numbers):\n",
    "    curr_cell=letters[i]+numbers[j]\n",
    "    for k,l in moves:\n",
    "        x=i+k;y=j+l;\n",
    "        if 0<=x<8 and 0<=y<8:\n",
    "            nb_cell=letters[x]+numbers[y];\n",
    "            for parity,nb_parity in ('e','o'),('o','e'):\n",
    "                graph[nb_cell+nb_parity].add(curr_cell+parity)\n",
    "                graph[curr_cell+parity].add(nb_cell+nb_parity)\n",
    "\n",
    "def bfs_distance(graph,start,end):\n",
    "    \"\"\"Get minimun path between vertexes start and end in graph\n",
    "    Return distance or None if weres no path\"\"\"\n",
    "    if start not in graph or end not in graph: return\n",
    "    distance={start:0}\n",
    "    if start==end: return 0\n",
    "    queue=deque([start])\n",
    "    while queue:\n",
    "        v=queue.popleft()\n",
    "        for u in graph[v]:\n",
    "            if u not in distance:\n",
    "                distance[u]=distance[v]+1\n",
    "                if u==end: return distance[u]\n",
    "                queue.append(u)\n",
    "                \n",
    "start,end=input().split()\n",
    "graph=get_graph_from_chessboad_2knights()\n",
    "knights_moves=bfs_distance(graph,start+'o',end+'o')\n",
    "print(knights_moves//2 if not knights_moves is None and knights_moves%2==0 else -1)"
   ]
  }
 ],
 "metadata": {
  "kernelspec": {
   "display_name": "Python 3 (ipykernel)",
   "language": "python",
   "name": "python3"
  },
  "language_info": {
   "codemirror_mode": {
    "name": "ipython",
    "version": 3
   },
   "file_extension": ".py",
   "mimetype": "text/x-python",
   "name": "python",
   "nbconvert_exporter": "python",
   "pygments_lexer": "ipython3",
   "version": "3.8.10"
  },
  "varInspector": {
   "cols": {
    "lenName": 16,
    "lenType": 16,
    "lenVar": 40
   },
   "kernels_config": {
    "python": {
     "delete_cmd_postfix": "",
     "delete_cmd_prefix": "del ",
     "library": "var_list.py",
     "varRefreshCmd": "print(var_dic_list())"
    },
    "r": {
     "delete_cmd_postfix": ") ",
     "delete_cmd_prefix": "rm(",
     "library": "var_list.r",
     "varRefreshCmd": "cat(var_dic_list()) "
    }
   },
   "types_to_exclude": [
    "module",
    "function",
    "builtin_function_or_method",
    "instance",
    "_Feature"
   ],
   "window_display": false
  }
 },
 "nbformat": 4,
 "nbformat_minor": 5
}
