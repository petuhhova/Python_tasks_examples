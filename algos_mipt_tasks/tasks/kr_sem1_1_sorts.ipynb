{
 "cells": [
  {
   "cell_type": "markdown",
   "id": "ff86e9d3",
   "metadata": {},
   "source": [
    "Больше-меньше\n",
    "Вам дано выражение вида \"a x b\", где a и b - натуральные числа, а x - знак сравнения, '<' или '>'. Истинно ли данное выражение?\n",
    "\n",
    "Формат входных данных\n",
    "В первой строке число a, во второй знак сравнения, в третьей - число b. Оба числа - натуральные.\n",
    "\n",
    "Формат выходных данных\n",
    "Если выражение истинно, выведите YES, иначе NO"
   ]
  },
  {
   "cell_type": "code",
   "execution_count": 17,
   "id": "e642dc3f",
   "metadata": {},
   "outputs": [
    {
     "name": "stdout",
     "output_type": "stream",
     "text": [
      "2\n",
      ">\n",
      "3\n",
      "NO\n"
     ]
    }
   ],
   "source": [
    "def is_expression_true(a:int,b:int,operator:str):\n",
    "    \"\"\"Checks a operator b is True, \n",
    "    a,b- natural numbers,possible operators < >\n",
    "    returns -1 if operator isn't possible\n",
    "    >>> is_expression_true(1,3,\"<\")\n",
    "    True\n",
    "    >>> is_expression_true(3,3,\">\")\n",
    "    False\n",
    "    >>> is_expression_true(3,3,\"==\")\n",
    "    \"\"\"\n",
    "    if operator=='>':\n",
    "        return a>b\n",
    "    elif operator=='<':\n",
    "        return a<b\n",
    "\n",
    "a=int(input())\n",
    "operator=input()\n",
    "b=int(input())\n",
    "print(\"YES\" if is_expression_true(a,b,operator) else \"NO\")"
   ]
  },
  {
   "cell_type": "markdown",
   "id": "13a55277",
   "metadata": {},
   "source": [
    "Количество элементов, не равных максимальному \\\n",
    "На вход вашей программе подается последовательность целых чисел, заканчивающаяся нулем.\n",
    "Необходимо найти количество элементов этой последовательности, не равных максимальному значению в ней. Длина последовательности не превосходит 10 6 . Сами числа по модулю не превосходят 1000. Гарантируется, что последовательность содержит хотя бы один элемент.\n",
    "\n",
    "Формат входных данных \\\n",
    "На вход подается последовательность целых чисел. Каждое число подается с новой строки. Последовательность оканчивается нулем.\n",
    "\n",
    "Формат выходных данных \\\n",
    "Одно число — количество элементов последовательности, не равных максимальному."
   ]
  },
  {
   "cell_type": "code",
   "execution_count": 2,
   "id": "743a901d",
   "metadata": {},
   "outputs": [
    {
     "name": "stdout",
     "output_type": "stream",
     "text": [
      "2\n",
      "3\n",
      "7\n",
      "5\n",
      "6\n",
      "7\n",
      "0\n",
      "4\n"
     ]
    }
   ],
   "source": [
    "def count_not_max_numbers():\n",
    "    \"\"\"Count number of not maximum numbers of sequence\n",
    "    every number gets from input,ends with 0\n",
    "    \"\"\"\n",
    "    max_number=x=int(input())\n",
    "    i=count=0\n",
    "    while x!=0:\n",
    "        if x>max_number:\n",
    "            max_number=x\n",
    "            count=1\n",
    "        elif x==max_number:\n",
    "            count+=1\n",
    "        i+=1\n",
    "        x=int(input())\n",
    "    return i-count\n",
    "print(count_not_max_numbers())"
   ]
  },
  {
   "cell_type": "markdown",
   "id": "a7da27f7",
   "metadata": {},
   "source": [
    "Оттепель \\\n",
    "Зима не успела начаться, а студгородок МФТИ уже устал от снега. Студенты решили узнать, какой была самая длинная оттепель в это время года. Они обратились к синоптикам, а те, в свою очередь, занялись исследованиями статистики за прошлые годы. Оттепелью они называют период, в который среднесуточная температура ежедневно превышала 0 градусов Цельсия. Напишите программу, помогающую синоптикам в работе.\n",
    "\n",
    "Формат входных данных \\\n",
    "На первой строке одно число N - количество дней (1 <= N <= 100). На второй строке - N чисел, разделенных пробелами. Каждое число - среднесуточная температура в соответствующий день (-50 <= t <= 50)\n",
    "\n",
    "Формат выходных данных \\\n",
    "Одно число — длина самой продолжительной оттепели, т.е. максимальное кол-во последовательных дней, когда среднесуточная температура была выше 0 градусов.\n",
    "\n"
   ]
  },
  {
   "cell_type": "code",
   "execution_count": 4,
   "id": "64576c37",
   "metadata": {},
   "outputs": [
    {
     "name": "stdout",
     "output_type": "stream",
     "text": [
      "10\n",
      "-3 2 0 2 3 -5 5 6 7 -7\n"
     ]
    },
    {
     "data": {
      "text/plain": [
       "3"
      ]
     },
     "execution_count": 4,
     "metadata": {},
     "output_type": "execute_result"
    }
   ],
   "source": [
    "def count_longest_thaw(temperature:list):\n",
    "    \"\"\"Counts lotgest thaw (temperature above zero)\n",
    "    gets list of numbers - avarage daily temperature per day,\n",
    "    n-number of days\n",
    "    returns number of days in longest thaw\n",
    "    >>> count_longest_thaw([-1,-3,0,1,2,-5,0,2,1,2,-1])\n",
    "    3\n",
    "    >>> count_longest_thaw([-1,0,-3,-4])\n",
    "    0\n",
    "    >>> count_longest_thaw([10,20,30])\n",
    "    3\n",
    "    \"\"\"\n",
    "    current_thaw=longest_thaw=day=0\n",
    "    for day_t in temperature:\n",
    "        if day_t>0:\n",
    "            current_thaw+=1\n",
    "        elif current_thaw:\n",
    "            longest_thaw=max(longest_thaw,current_thaw)\n",
    "            current_thaw=0\n",
    "    return max(longest_thaw,current_thaw)\n",
    "int(input())\n",
    "temperature=list(map(int,input().split()))\n",
    "count_longest_thaw(temperature)"
   ]
  },
  {
   "cell_type": "markdown",
   "id": "825752f0",
   "metadata": {},
   "source": [
    "В одном государстве произошла реформа избирательной системы. С момента ее введения все избиратели государства делятся на K, возможно не равных по объему, групп. Внутри каждой группы проходит голосования \"за\" или \"против\". Если больше половины группы проголосовала \"за\", то общий голос группы считался \"за\", иначе - \"против\". Любой вопрос решался положительно, если больше половины групп проголосовало \"за\". Все бы ничего, но в такой системе есть недостаток. Партия, устроившая такую систему, получила возможность решать вопросы в свою пользу. Для этого они поместили в группы своих стронников. Например, для групп численностью 5, 5 и 7 человек достаточно иметь по три своих человека в первых двух группах. Всего 6 человек смогут решить вопрос в пользу партии. От Вас потребуется посчитать, какое минимальное количество сторонников надо иметь партии для заданного разбиения на группы.\n",
    "\n",
    "Формат входных данных \\\n",
    "На первой строке дано натуральное число K ≤ 10000. На следующей строке вводится K натуральных чисел через пробел.\n",
    "\n",
    "Формат выходных данных \\\n",
    "Одно число — минимальное количество сторонников партии."
   ]
  },
  {
   "cell_type": "code",
   "execution_count": 5,
   "id": "e44e539a",
   "metadata": {},
   "outputs": [
    {
     "name": "stdout",
     "output_type": "stream",
     "text": [
      "3\n",
      "10 5 20\n",
      "9\n"
     ]
    }
   ],
   "source": [
    "def count_min_party_supporters(k:int,group:list):\n",
    "    \"\"\" Counts minimum number of party supporters needed to win\n",
    "    win if in more than 50% groups more than 50% party supporters \n",
    "    gets list of number of people in each group, k-number of groups\n",
    "    returns minimum number of party supporters needed to win\n",
    "    >>> count_min_party_supporters(3,[5,5,7])\n",
    "    6\n",
    "    >>> count_min_party_supporters(1,[7])\n",
    "    4\n",
    "    >>> count_min_party_supporters(20,list(range(40,1,-2)))\n",
    "    77\n",
    "    >>> count_min_party_supporters(5,[4, 2, 1, 3, 7])\n",
    "    5\n",
    "    \"\"\"\n",
    "    for i in range(k):\n",
    "        group[i]=group[i]//2+1\n",
    "    supporters_count=0\n",
    "    for j in range(k//2+1):\n",
    "        for i in range(-2,-k+j-1,-1):\n",
    "            if group[i+1]<group[i]:\n",
    "                group[i+1],group[i]=group[i],group[i+1]\n",
    "        supporters_count+=group[j]\n",
    "    return supporters_count\n",
    "k=int(input())\n",
    "groups=(list(map(int,input().split())))\n",
    "print(count_min_party_supporters(k,groups))"
   ]
  },
  {
   "cell_type": "code",
   "execution_count": 18,
   "id": "1bf5707a",
   "metadata": {},
   "outputs": [
    {
     "name": "stdout",
     "output_type": "stream",
     "text": [
      "10\n",
      "2 32 7 11 10 32 12 1 23 10 \n",
      "25\n"
     ]
    }
   ],
   "source": [
    "def merge_sort(A:list,min_index=0,max_index=-1):\n",
    "    \"\"\"Sort list by merge sort algorithm\"\"\"\n",
    "    N=len(A)\n",
    "    max_index=N if max_index==-1 else max_index\n",
    "    if max_index-min_index<=1:\n",
    "        return\n",
    "    index=(max_index+min_index)//2\n",
    "    merge_sort(A,min_index,index)\n",
    "    merge_sort(A,index,max_index)\n",
    "    i=min_index\n",
    "    j=index\n",
    "    k=0\n",
    "    B=[0]*(max_index-min_index)\n",
    "    while i<index and j<max_index:\n",
    "        if(A[i]<=A[j]):\n",
    "            B[k]=A[i]\n",
    "            i+=1\n",
    "        else:\n",
    "            B[k]=A[j]\n",
    "            j+=1\n",
    "        k+=1\n",
    "    while i<index:\n",
    "        B[k]=A[i]\n",
    "        k+=1;i+=1\n",
    "    while j<max_index:\n",
    "        B[k]=A[j]\n",
    "        k+=1;j+=1\n",
    "    for k in range(len(B)):\n",
    "        A[min_index+k]=B[k]\n",
    "\n",
    "def count_min_party_supporters(k:int,group:list):\n",
    "    \"\"\" Counts minimum number of party supporters needed to win\n",
    "    win if in more than 50% groups more than 50% party supporters \n",
    "    gets list of number of people in each group, k-number of groups\n",
    "    returns minimum number of party supporters needed to win\n",
    "    >>> count_min_party_supporters(3,[5,5,7])\n",
    "    6\n",
    "    >>> count_min_party_supporters(1,[7])\n",
    "    4\n",
    "    >>> count_min_party_supporters(20,list(range(40,1,-2)))\n",
    "    77\n",
    "    >>> count_min_party_supporters(5,[4, 2, 1, 3, 7])\n",
    "    5\n",
    "    \"\"\"\n",
    "    for i in range(k):\n",
    "        group[i]=group[i]//2+1\n",
    "    supporters_count=0\n",
    "    merge_sort(group)\n",
    "    for j in range(k//2+1):\n",
    "        supporters_count+=group[j]\n",
    "    return supporters_count\n",
    "k=int(input())\n",
    "groups=(list(map(int,input().split())))\n",
    "print(count_min_party_supporters(k,groups))"
   ]
  },
  {
   "cell_type": "code",
   "execution_count": 8,
   "id": "a8f7511c",
   "metadata": {},
   "outputs": [
    {
     "data": {
      "text/plain": [
       "-0.023827552795410156"
      ]
     },
     "execution_count": 8,
     "metadata": {},
     "output_type": "execute_result"
    }
   ],
   "source": [
    "import time\n",
    "start=time.time()\n",
    "count_min_party_supporters(10000,list(range(10000,0,-1)))\n",
    "end=time.time()\n",
    "start-end"
   ]
  },
  {
   "cell_type": "markdown",
   "id": "cc390b25",
   "metadata": {},
   "source": [
    "Дан список целых чисел. Отсортировать его так, чтобы сначала шли чётные по возрастанию, потом — нечётные во возрастанию.\n",
    "\n",
    "Формат входных данных\n",
    "Одна строка — список чисел через пробел. Длина списка не превосходит 10000. \\\n",
    "Быстрая сортировка -пример \\\n",
    "[4 2 6 3 1 4 5] \\\n",
    "[2,4,6 3 1 4 5] \\\n",
    "[2,3,4,4,1,5,6] \\\n",
    "[2,3,1,4,4,5,6] и тд"
   ]
  },
  {
   "cell_type": "markdown",
   "id": "c247f22b",
   "metadata": {},
   "source": [
    "https://neerc.ifmo.ru/wiki/index.php?title=%D0%91%D1%8B%D1%81%D1%82%D1%80%D0%B0%D1%8F_%D1%81%D0%BE%D1%80%D1%82%D0%B8%D1%80%D0%BE%D0%B2%D0%BA%D0%B0\n",
    "В алгоритме  неоптимальное прохождение по барьерным элементам(меняются сами с собой)?"
   ]
  },
  {
   "cell_type": "code",
   "execution_count": 10,
   "id": "a91bb81a",
   "metadata": {},
   "outputs": [
    {
     "name": "stdout",
     "output_type": "stream",
     "text": [
      "4 2 6 3 1 4 5\n",
      "2 4 4 6 1 3 5\n"
     ]
    }
   ],
   "source": [
    "import random\n",
    "def hoar_sort(A:list,min_index=0,max_index=-2,reverse=False):\n",
    "    \"\"\"\n",
    "    Sorts numbers list by hoar sort algo, values increasing\n",
    "    \"\"\"\n",
    "    N=len(A)\n",
    "    max_index=N-1 if max_index==-2 else max_index #N-1 по умолчанию\n",
    "    if max_index-min_index<1:\n",
    "        return\n",
    "    k=random.randint(min_index,max_index)\n",
    "    barr=A[k] #барьерный элемент\n",
    "    A[k],A[min_index]=A[min_index],A[k]\n",
    "    l=i=min_index+1\n",
    "    r=j=max_index\n",
    "    while i<=j:\n",
    "        while i<=max_index and (barr>A[i] if not reverse else barr<A[i]):\n",
    "            i+=1;\n",
    "        while barr<A[j] if not reverse else barr>A[j]:\n",
    "            j-=1;\n",
    "        if i>=j:\n",
    "            break\n",
    "        A[i],A[j]=A[j],A[i]\n",
    "        if barr==A[i]:\n",
    "            A[l],A[i]=A[i],A[l]\n",
    "            l+=1\n",
    "        i+=1\n",
    "        if barr==A[j]:\n",
    "            A[r],A[j]=A[j],A[r]\n",
    "            r-=1\n",
    "        j-=1\n",
    "    k=min_index\n",
    "    while k<l:\n",
    "        A[k],A[j]=A[j],A[k]\n",
    "        j-=1;k+=1\n",
    "    k=r+1\n",
    "    while k<=max_index:\n",
    "        A[k],A[i]=A[i],A[k]\n",
    "        i+=1;k+=1\n",
    "    hoar_sort(A,min_index,j,reverse)\n",
    "    hoar_sort(A,i,max_index,reverse)\n",
    "\n",
    "def sort_numbers_even_odd(A:list):\n",
    "    \"Sorts numbers first even  increasing, secong odd increasing\"\n",
    "    n=len(A)\n",
    "    i=0\n",
    "    j=n-1\n",
    "    while(i<=j):\n",
    "        while i<n and A[i]%2==0:\n",
    "            i+=1\n",
    "        while j>-1 and A[j]%2==1:\n",
    "            j-=1\n",
    "        if i>=j:\n",
    "            break\n",
    "        A[i],A[j]=A[j],A[i]\n",
    "        i+=1\n",
    "        j-=1\n",
    "        \n",
    "    hoar_sort(A,0,i-1)\n",
    "    hoar_sort(A,j+1,n-1)\n",
    "A=list(map(int,input().split()))\n",
    "sort_numbers_even_odd(A)\n",
    "print(\" \".join(map(str,A)))"
   ]
  },
  {
   "cell_type": "code",
   "execution_count": 14,
   "id": "f971ebed",
   "metadata": {},
   "outputs": [
    {
     "name": "stdout",
     "output_type": "stream",
     "text": [
      "Test hoar_sort increasing\n",
      "Test1:\n",
      " ОК 2.0742416381835938e-05\n",
      "Test2:\n",
      " ОК 0.01627182960510254\n",
      "Test3:\n",
      " ОК 1.9073486328125e-06\n",
      "Test4:\n",
      " ОК 0.013574838638305664\n",
      "Test5:\n",
      " ОК 5.9604644775390625e-06\n",
      "Test6:\n",
      " ОК 1.0728836059570312e-05\n",
      "Test hoar_sort decreasing\n",
      "Test1:\n",
      " ОК 1.811981201171875e-05\n",
      "Test2:\n",
      " ОК 0.020118236541748047\n",
      "Test3:\n",
      " ОК 1.9073486328125e-06\n",
      "Test4:\n",
      " ОК 0.013880491256713867\n",
      "Test5:\n",
      " ОК 5.7220458984375e-06\n",
      "Test6:\n",
      " ОК 9.298324584960938e-06\n"
     ]
    }
   ],
   "source": [
    "import time\n",
    "def test_sort_algo(sort_algo,reverse=False):\n",
    "    print(\"Test {} {}\".format(sort_algo.__name__,\"decreasing\" if reverse else \"increasing\"))\n",
    "    A=[[4, 2, 6, 3, 1, 4, 5],list(range(10000,0,-1)),[67],list(range(1,10001)),[1,1,1,1,1],[4,4,2,2,2,3,3,3,5,5]]\n",
    "    sort_A=[[1,2,3,4,4,5,6],list(range(1,10001)),[67],list(range(1,10001)),[1,1,1,1,1],[2,2,2,3,3,3,4,4,5,5]]\n",
    "    reverse_A=[[6,5,4,4,3,2,1],list(range(10000,0,-1)),[67],list(range(10000,0,-1)),[1,1,1,1,1],[5, 5, 4, 4, 3, 3, 3, 2, 2, 2]]\n",
    "    if reverse: sort_A=reverse_A\n",
    "    for i in range(len(A)):\n",
    "        start=time.time()\n",
    "        sort_algo(A[i],reverse=reverse)\n",
    "        end=time.time()\n",
    "        print(\"Test%d:\\n\" % (i+1),\"ОК\" if sort_A[i]==A[i] else \"Fail\",end-start)\n",
    "test_sort_algo(hoar_sort,reverse=False)\n",
    "test_sort_algo(hoar_sort,reverse=True)"
   ]
  },
  {
   "cell_type": "code",
   "execution_count": 19,
   "id": "93a92384",
   "metadata": {},
   "outputs": [],
   "source": [
    "if __name__== \"__main__\":\n",
    "    import doctest\n",
    "    doctest.testmod()"
   ]
  }
 ],
 "metadata": {
  "kernelspec": {
   "display_name": "Python 3 (ipykernel)",
   "language": "python",
   "name": "python3"
  },
  "language_info": {
   "codemirror_mode": {
    "name": "ipython",
    "version": 3
   },
   "file_extension": ".py",
   "mimetype": "text/x-python",
   "name": "python",
   "nbconvert_exporter": "python",
   "pygments_lexer": "ipython3",
   "version": "3.8.10"
  },
  "varInspector": {
   "cols": {
    "lenName": 16,
    "lenType": 16,
    "lenVar": 40
   },
   "kernels_config": {
    "python": {
     "delete_cmd_postfix": "",
     "delete_cmd_prefix": "del ",
     "library": "var_list.py",
     "varRefreshCmd": "print(var_dic_list())"
    },
    "r": {
     "delete_cmd_postfix": ") ",
     "delete_cmd_prefix": "rm(",
     "library": "var_list.r",
     "varRefreshCmd": "cat(var_dic_list()) "
    }
   },
   "types_to_exclude": [
    "module",
    "function",
    "builtin_function_or_method",
    "instance",
    "_Feature"
   ],
   "window_display": false
  }
 },
 "nbformat": 4,
 "nbformat_minor": 5
}
