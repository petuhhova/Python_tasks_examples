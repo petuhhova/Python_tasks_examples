{
 "cells": [
  {
   "cell_type": "code",
   "execution_count": 2,
   "id": "d44c5823",
   "metadata": {},
   "outputs": [],
   "source": [
    "import sys\n",
    "from pathlib import Path\n",
    "sys.path.append(\"../lib\")\n",
    "path_to_data=Path(\"../data/\")\n",
    "from input_output_func import write_to_file"
   ]
  },
  {
   "cell_type": "markdown",
   "id": "a33e5abd",
   "metadata": {},
   "source": [
    "### Алгоритм Флойда-Уоршалла\n",
    "Для начала рассмотрим алгоритм Флойда (Флойда-Уоршалла). Его отличительной особенностью является то, что он умеет находить кратчайшие расстояния между всеми парами вершин. Но за это приходится платить временем работы, О(N^3). Идея заключается в следующем: мы будем перебирать все возможные тройки вершин (i, j, k) и пытаться улучшить путь из i в j, проходя через k.\n",
    "\n",
    "     #Считываем граф, преобразуем его в матрицу смежности, которую храним в d\n",
    "     #Отсутствие ребра помечаем каким-нибудь заведомо большим числом\n",
    "    # Считаем, что n - кол-во вершин, вершины #пронумерованы от 0\n",
    "    for k in range(n):\n",
    "        for i in range(n):\n",
    "            for j in range(n):\n",
    "                d[i][j] = min(d[i][j], d[i][k]+d[k][j])"
   ]
  },
  {
   "cell_type": "markdown",
   "id": "7999079c",
   "metadata": {},
   "source": [
    "#### Упражнение №1\n",
    "Вам дано число N, далее N строк по N чисел - матрица смежности взвешенного графа,\n",
    "отсутствие ребра помечено как 0. На следующих двух строках даны 2 списка: с начальными вершинами и с целевыми вершинами. Вам необходимо распечатать таблицу кратчайших расстояний, где строки - список начальных вершин, а столбцы - список целевых вершин.\n"
   ]
  },
  {
   "cell_type": "code",
   "execution_count": 3,
   "id": "0a856d1e",
   "metadata": {},
   "outputs": [
    {
     "name": "stdout",
     "output_type": "stream",
     "text": [
      "file floyd.txt is written\n"
     ]
    }
   ],
   "source": [
    "text=\"\"\"5\n",
    "0 -10 10 5 10\n",
    "20 2 10 13.4 0\n",
    "4.1 2.3 0 0 0\n",
    "0 0 0 5 3.1\n",
    "0 0 0 0 0 \n",
    "0 3 4\n",
    "4 2 3 1\"\"\"\n",
    "path=path_to_data.joinpath(\"graph/wgr/floyd.txt\")\n",
    "write_to_file(text,path)"
   ]
  },
  {
   "cell_type": "code",
   "execution_count": 5,
   "id": "dfe89ec0",
   "metadata": {
    "scrolled": true
   },
   "outputs": [
    {
     "data": {
      "text/html": [
       "<div>\n",
       "<style scoped>\n",
       "    .dataframe tbody tr th:only-of-type {\n",
       "        vertical-align: middle;\n",
       "    }\n",
       "\n",
       "    .dataframe tbody tr th {\n",
       "        vertical-align: top;\n",
       "    }\n",
       "\n",
       "    .dataframe thead th {\n",
       "        text-align: right;\n",
       "    }\n",
       "</style>\n",
       "<table border=\"1\" class=\"dataframe\">\n",
       "  <thead>\n",
       "    <tr style=\"text-align: right;\">\n",
       "      <th></th>\n",
       "      <th>4</th>\n",
       "      <th>2</th>\n",
       "      <th>3</th>\n",
       "      <th>1</th>\n",
       "    </tr>\n",
       "  </thead>\n",
       "  <tbody>\n",
       "    <tr>\n",
       "      <th>0</th>\n",
       "      <td>6.5</td>\n",
       "      <td>0.0</td>\n",
       "      <td>3.4</td>\n",
       "      <td>-10.0</td>\n",
       "    </tr>\n",
       "    <tr>\n",
       "      <th>3</th>\n",
       "      <td>3.1</td>\n",
       "      <td>NaN</td>\n",
       "      <td>5.0</td>\n",
       "      <td>NaN</td>\n",
       "    </tr>\n",
       "    <tr>\n",
       "      <th>4</th>\n",
       "      <td>NaN</td>\n",
       "      <td>NaN</td>\n",
       "      <td>NaN</td>\n",
       "      <td>NaN</td>\n",
       "    </tr>\n",
       "  </tbody>\n",
       "</table>\n",
       "</div>"
      ],
      "text/plain": [
       "     4    2    3     1\n",
       "0  6.5  0.0  3.4 -10.0\n",
       "3  3.1  NaN  5.0   NaN\n",
       "4  NaN  NaN  NaN   NaN"
      ]
     },
     "metadata": {},
     "output_type": "display_data"
    }
   ],
   "source": [
    "import pandas as pd\n",
    "def read_adj_matrix(read_line):\n",
    "    n=int(read_line())\n",
    "    F=[[None for j in range(n)] for i in range(n)]\n",
    "    for i in range(n):\n",
    "        string=read_line().split()\n",
    "        for j in range(n):\n",
    "            F[i][j]=float(string[j] if string[j]!='0' else \"inf\")      \n",
    "    return F\n",
    "\n",
    "def floyd_algo(F):\n",
    "    n=len(F)\n",
    "    for k in range(n):\n",
    "        for i in range(n):\n",
    "            for j in range(n):\n",
    "                F[i][j] = min(F[i][j], F[i][k]+F[k][j])\n",
    "                \n",
    "def get_table_min_distances(read_line):\n",
    "    F=read_adj_matrix(read_line)\n",
    "    start_vertexes=list(map(int,read_line().split()))\n",
    "    end_vertexes=list(map(int,read_line().split()))\n",
    "    floyd_algo(F)\n",
    "    data=[[F[i][j] if F[i][j]!=float(\"inf\") else None for j in end_vertexes]\n",
    "          for i in start_vertexes]\n",
    "    return pd.DataFrame(data,index=start_vertexes, columns=end_vertexes)\n",
    "\n",
    "with path.open('r') as file:\n",
    "    display(get_table_min_distances(file.readline))"
   ]
  },
  {
   "cell_type": "code",
   "execution_count": 6,
   "id": "f7c27fed",
   "metadata": {},
   "outputs": [
    {
     "data": {
      "image/png": "[encoded data removed]",
      "text/plain": [
       "<Figure size 640x480 with 1 Axes>"
      ]
     },
     "metadata": {},
     "output_type": "display_data"
    }
   ],
   "source": [
    "import networkx as nx\n",
    "import numpy as np\n",
    "from matplotlib import pyplot as plt\n",
    "#G = nx.from_numpy_matrix(np.matrix(A), create_using=nx.DiGraph)\n",
    "text1=text.split(\"\\n\")[1:6]\n",
    "adj_matrix=list(map(lambda s: list(map(float,s.split())),text1))\n",
    "G=nx.DiGraph(np.array(adj_matrix))\n",
    "layout = nx.planar_layout(G)\n",
    "left_layout={i:(xy[0]+0.1,xy[1]) for i,xy in layout.items()}\n",
    "nx.draw(G, layout,with_labels=True)\n",
    "labels = nx.get_edge_attributes(G,'weight')\n",
    "nx.draw_networkx_edge_labels(G, pos=left_layout,label_pos=0.3,edge_labels=labels,\n",
    "                             rotate= False,clip_on=False)\n",
    "plt.show()"
   ]
  },
  {
   "cell_type": "markdown",
   "id": "96ed17fe",
   "metadata": {},
   "source": [
    "### Упражнение №2\n",
    "Вам даны числа N и M, количество вершин и ребер ориентированного графа. Далее идет M строк вида u, v, w, где u и v задают начало и конец ребра, а w - его вес. В конце дано число - стартовая вершина. Посчитайте кратчайшие расстояния до всех вершин, используя алгоритм Дейкстры за O(N^2).\n"
   ]
  },
  {
   "cell_type": "code",
   "execution_count": 7,
   "id": "4b0526f9",
   "metadata": {},
   "outputs": [],
   "source": [
    "def dijkstra_min(graph,s):\n",
    "    d = [float(\"inf\")]*n  # Считаем, что n - кол-во вершин, вершины пронумерованы от 0\n",
    "    d[s] = 0  # s - стартовая вершина\n",
    "    used = [False]*n\n",
    "    while True:\n",
    "        u = -1\n",
    "        #выбираем наименьшую среди посещенных\n",
    "        for i in range(n):\n",
    "            if not used[i] and (u == -1 or d[u] > d[i]):\n",
    "                u = i\n",
    "        #если все вершины посещены стоп\n",
    "        if u == -1:\n",
    "            break\n",
    "        #помечаем посещенную\n",
    "        used[u] = True\n",
    "        # улучшаем расстояния для соседей\n",
    "        for v, w in graph[u]:\n",
    "            d[v] = min(d[v], d[u] + w)"
   ]
  },
  {
   "cell_type": "code",
   "execution_count": 8,
   "id": "e182cd0e",
   "metadata": {},
   "outputs": [],
   "source": [
    "from collections import deque\n",
    "\n",
    "def dijkstra(graph,start):\n",
    "    queue=deque([start])\n",
    "    s={start:0}\n",
    "    while queue:\n",
    "        v=queue.popleft()\n",
    "        for u in graph[v]:\n",
    "            if u not in s or s[v]+graph[v][u]<s[u]:\n",
    "                assert graph[v][u]>=0,\"weights in graph must be >=0\"\n",
    "                s[u]=s[v]+graph[v][u]\n",
    "                queue.append(u)\n",
    "    return s\n",
    "\n",
    "def find_min_path(graph,start,end,s,acc=3):\n",
    "    \"\"\"Not digraphs! you need parents if digraph\"\"\"\n",
    "    v=end\n",
    "    path=[]\n",
    "    is_path=True\n",
    "    while is_path and v!=start:\n",
    "        is_path=False\n",
    "        for u in graph[v]:\n",
    "            if round(s[v],acc)==round(graph[v][u]+s[u],acc):\n",
    "                path.append((u,v,graph[v][u]))\n",
    "                v=u\n",
    "                is_path=True\n",
    "                break\n",
    "    return path[::-1] if is_path else False"
   ]
  },
  {
   "cell_type": "code",
   "execution_count": 14,
   "id": "a2441a33",
   "metadata": {},
   "outputs": [
    {
     "name": "stdout",
     "output_type": "stream",
     "text": [
      "file dijkstra.txt exists\n"
     ]
    }
   ],
   "source": [
    "from pathlib import Path\n",
    "from input_output_func import write_to_file\n",
    "text=\"\"\"8 10\n",
    "7 3 0.1\n",
    "3 1 3\n",
    "5 2 5.3\n",
    "6 4 1.\n",
    "6 7 2.\n",
    "4 7 0.7\n",
    "1 6 3.8\n",
    "1 2 2.1\n",
    "6 5 2.1\n",
    "6 2 10\"\"\"\n",
    "path=path_to_data.joinpath(\"graph/wgr/dijkstra.txt\")\n",
    "write_to_file(text,path)"
   ]
  },
  {
   "cell_type": "code",
   "execution_count": 15,
   "id": "1c1fd43b",
   "metadata": {},
   "outputs": [],
   "source": [
    "from get_graph import get_weighted_digraph\n",
    "with path.open('r') as file:\n",
    "    graph=get_weighted_digraph(file.readline)"
   ]
  },
  {
   "cell_type": "code",
   "execution_count": 19,
   "id": "63132d98",
   "metadata": {},
   "outputs": [
    {
     "data": {
      "image/png": "[encoded data removed]",
      "text/plain": [
       "<Figure size 640x480 with 1 Axes>"
      ]
     },
     "metadata": {},
     "output_type": "display_data"
    }
   ],
   "source": [
    "graph1={v:{u:{'weight':graph[v][u]} for u in graph[v]} for v in graph}\n",
    "G=nx.Graph(graph1)\n",
    "layout = nx.planar_layout(G)\n",
    "nx.draw(G, layout,with_labels=True)\n",
    "labels = nx.get_edge_attributes(G,'weight')\n",
    "nx.draw_networkx_edge_labels(G, pos=layout,label_pos=0.5,edge_labels=labels,\n",
    "                             rotate= False,clip_on=False)\n",
    "plt.show()"
   ]
  },
  {
   "cell_type": "code",
   "execution_count": 20,
   "id": "fb6abff3",
   "metadata": {},
   "outputs": [
    {
     "data": {
      "text/plain": [
       "{6: 0, 4: 1.0, 7: 1.7, 5: 2.1, 2: 6.9, 3: 1.8, 1: 4.8}"
      ]
     },
     "execution_count": 20,
     "metadata": {},
     "output_type": "execute_result"
    }
   ],
   "source": [
    "start=6\n",
    "s=dijkstra(graph,start)\n",
    "s"
   ]
  },
  {
   "cell_type": "code",
   "execution_count": 21,
   "id": "7a143aa7",
   "metadata": {},
   "outputs": [
    {
     "data": {
      "text/plain": [
       "False"
      ]
     },
     "execution_count": 21,
     "metadata": {},
     "output_type": "execute_result"
    }
   ],
   "source": [
    "end=3\n",
    "find_min_path(graph,start,end,s,acc=10)"
   ]
  },
  {
   "cell_type": "markdown",
   "id": "b7693ad2",
   "metadata": {},
   "source": [
    "### Упражнение №3\n",
    "Теперь решите задачу из упражнения №2, реализовав алгоритм Дейкстры за O((N+M) log N).\n",
    "Когда-нибудь обязательно)"
   ]
  },
  {
   "cell_type": "code",
   "execution_count": 22,
   "id": "d4d8cec6",
   "metadata": {},
   "outputs": [],
   "source": [
    "import heapq\n",
    "def dijkstra_priority_queue(graph,start,n):\n",
    "    distances=[0 if start==i else None for i in range(n)]\n",
    "    queue=[(0,start)]\n",
    "    while queue:\n",
    "        cur_d,v=hp.heappop(queue)\n",
    "        if cur_d>distances[v]: continue\n",
    "        for u in graph[v]:\n",
    "            if  (distances[u] is None or\n",
    "                distances[v]+graph[v][u]<distances[u]):\n",
    "                distances[u]=distances[v]+graph[v][u]\n",
    "                hp.heappush(queue,(distances[u],u))\n",
    "    return distances"
   ]
  },
  {
   "cell_type": "markdown",
   "id": "48c33b28",
   "metadata": {},
   "source": [
    "### Алгоритм Форда-Беллмана\n",
    "Алгоритм Форда-Беллмана будет последним рассмотренным алгоритмом, который, как и алгоритм Дейкстры, используется для поиска кратчайшего расстояния от одной вершины до остальных. Он является типичным алгоритмом ДП. Состояния описываются двумя параметрами и означают \"длину кратчайшего пути, проходящего не более, чем по i ребрам, и заканчивающегося в вершине j\".\n",
    "\n",
    "    # считываем граф, преобразуем его в список ребер, который храним в edges\n",
    "    d = [None]*n  # Считаем, что n - кол-во вершин, вершины пронумерованы от 0\n",
    "    d[s] = 0  # s - стартовая вершина\n",
    "    # INF - заведомо большое число\n",
    "    for i in range(n-1):\n",
    "        for u, v, w in edges:\n",
    "            if d[u] is not None:\n",
    "                d[v] = min(INF if d[v] is None else d[v], d[u] + w)\n",
    "                \n",
    "Такой алгоритм работает $O(N*M)$. Заметим несколько вещей:\n",
    "\n",
    "Алгоритм работает корректно даже при наличии ребер отрицательного веса, -1 - валидное значение для расстояний, поэтому массив инициализировался с None;\n",
    "Вернувшись в вершину, пройдя по циклу, расстояние до нее не может уменьшится (циклы отрицательного веса пока не рассматриваем);\n",
    "Исходя из (2) для нахождения кратчайшего пути до всех вершин достаточно N-1 итерации, т.е. кратчайшие пути до всех вершин не содержат циклов.\n",
    "Однако утверждение (2) справедливо, только когда нет циклов отрицательного веса, т.е. цикла, в которой растояния до вершин в нем будут каждый раз уменьшаться, если мы будем по нему гулять. Таким образом нам вообще не выгодно его заканчивать, а значит мы можем счиать, что кратчайшие расстояния до этих вершин будут -∞. Таким образом N-1 итерации не хватит чтобы посчитать кратчайшие расстояния. Поэтому мы можем внешний цикл увеличить на одну итерацию. Все вершины, расстояние до которых обновится на последней итерации, можем считать имеют расстояние -∞.\n",
    "\n",
    "Отсюда можно сделать вывод, что алгоритм применяется не только для поиска кратчайших расстояний в графе, но и для поиска циклов отрицательного веса. Кроме того, алгоритм используется для поиска максимального потока минимальной стоимости.\n"
   ]
  },
  {
   "cell_type": "markdown",
   "id": "65902019",
   "metadata": {},
   "source": [
    "#### Упражнение №4\n",
    "Решите задачу из упражнения №2, используя алгоритм Форда-Беллмана. Гарантируется, что циклов отрицательного веса в графе нет."
   ]
  },
  {
   "cell_type": "code",
   "execution_count": 23,
   "id": "7418b4bd",
   "metadata": {},
   "outputs": [],
   "source": [
    "def ford(edges,start,n,parents=None):\n",
    "    inf=float(\"inf\")\n",
    "    s=[0 if i==start else None for i in range(n)]\n",
    "    for i in range(n-1):\n",
    "        for v,u,w in edges:\n",
    "            if not s[v] is None:\n",
    "                s[u]=min(inf if s[u] is None else s[u],s[v]+w)\n",
    "                if not parents is None:\n",
    "                    parents[u]=v\n",
    "    return s\n",
    "                \n",
    "def get_edges(read_line,n=None,m=None,is_directed=True):\n",
    "    if n is None or m is None:\n",
    "        n,m=map(int,read_line().split())\n",
    "    edges=[None for i in range(m)]\n",
    "    for i in range(m):\n",
    "        v,u,w=read_line().split()\n",
    "        v,u=map(int,(v,u))\n",
    "        w=float(w)\n",
    "        edges[i]=(v,u,w)\n",
    "        if not is_directed:\n",
    "            edges.append(u,v,w)\n",
    "    return n,edges\n",
    "\n",
    "#def read_line(text):\n",
    "#    for string in text.split(\"\\n\"):\n",
    "#        yield string"
   ]
  },
  {
   "cell_type": "code",
   "execution_count": 24,
   "id": "9c44ac7a",
   "metadata": {},
   "outputs": [],
   "source": [
    "#примеры перезаписаны под 5 ю задачу с отрицательными циклами\n",
    "import io\n",
    "text=\"\"\"10 14\n",
    "7 3 0.1\n",
    "3 1 3\n",
    "5 2 5.3\n",
    "6 4 1.\n",
    "6 7 2.\n",
    "4 7 0.7\n",
    "1 6 3.8\n",
    "1 2 2.1\n",
    "6 5 2.1\n",
    "6 2 10\n",
    "0 8 2\n",
    "8 2 1\n",
    "8 9 -5\n",
    "9 0 2\"\"\"\n",
    "text1=\"\"\"9 12\n",
    "7 3 0.1\n",
    "3 1 2\n",
    "5 2 -5.3\n",
    "6 4 1.\n",
    "6 7 -2.\n",
    "4 7 0.7\n",
    "1 6 -3.8\n",
    "1 2 2.1\n",
    "6 5 2.1\n",
    "6 2 10\n",
    "7 8 2\n",
    "8 7 1\"\"\""
   ]
  },
  {
   "cell_type": "code",
   "execution_count": 25,
   "id": "1adbcb0c",
   "metadata": {},
   "outputs": [
    {
     "name": "stdout",
     "output_type": "stream",
     "text": [
      "0 None\n",
      "1 -11.00\n",
      "2 -14.30\n",
      "3 -13.00\n",
      "4 -10.10\n",
      "5 -12.70\n",
      "6 -14.80\n",
      "7 -13.10\n",
      "8 -11.10\n"
     ]
    }
   ],
   "source": [
    "text_buf=io.StringIO(text1)\n",
    "n,edges=get_edges(text_buf.readline)\n",
    "start=6\n",
    "for vertex,distance in enumerate(ford(edges,start,n)):\n",
    "    print(vertex,distance if distance is None else \"{:.2f}\".format(distance))"
   ]
  },
  {
   "cell_type": "code",
   "execution_count": 26,
   "id": "9c19ee80",
   "metadata": {},
   "outputs": [
    {
     "data": {
      "image/png": "[encoded data removed]",
      "text/plain": [
       "<Figure size 640x480 with 1 Axes>"
      ]
     },
     "metadata": {},
     "output_type": "display_data"
    }
   ],
   "source": [
    "import networkx as nx\n",
    "import numpy as np\n",
    "from matplotlib import pyplot as plt\n",
    "G=nx.DiGraph()\n",
    "G.add_weighted_edges_from(edges)\n",
    "layout = nx.planar_layout(G)\n",
    "nx.draw(G, layout,with_labels=True)\n",
    "labels = nx.get_edge_attributes(G,'weight')\n",
    "nx.draw_networkx_edge_labels(G, pos=layout,label_pos=0.3,edge_labels=labels,\n",
    "                             rotate= False,clip_on=False)\n",
    "plt.show()"
   ]
  },
  {
   "cell_type": "markdown",
   "id": "a7a14eb6",
   "metadata": {},
   "source": [
    "#### Упражнение №5\n",
    "Как и в предыдущих задачах, нам задан ориентированный взвешенный граф. Но теперь в нем могут быть циклы отрицательного веса. Необходимо вывести любой из таких циклов, либо сказать, что в графе его нет.\\\n",
    "Итак после 100500 проб и ошибок взяла алгоритм с http://e-maxx.ru/algo/negative_cycle\n",
    "и несколько улучшила \\\n",
    "**Замечание.** \n",
    "* Во-первых во время одного прохода обновляются не все вершины в отрицательном цикле, поскольку это зависит от порядка прохода ребер. Вариант - сделать 2 прохода?\\\n",
    "* Во-вторых поскольку алгоритм флойда ищет расстояния для 1ой определенной вершины, то в итоге расстояния будут посчитаны для 1ой компоненты связности.\\\n",
    "Итак. алгоритм нахождения отриц цикла во всем графе\n",
    "\n",
    "      В цикле пока ребра не закончатся:\n",
    "        Выбирается произвольная стартовая вершина,\n",
    "        из вершин являющимися началом ребер\n",
    "        Считаем расстояния до нее\n",
    "        делаем еще 2 прохода по подсчету расстояний по ребрам,\n",
    "            если расстояние  изменилось -\n",
    "                записываем предка вершины\n",
    "                конечная вершина=вершина\n",
    "            если первый проход:\n",
    "                добавляем все несвязные с подграфом ребра в отдельный список\n",
    "        если существует конечная вершина -break\n",
    "        ребра= новые ребра\n",
    "\n",
    "Таким образом можно пройти по всем КС и в каждой компоненте отметить те вершины, расстояние до которых изменилось\n",
    "\n",
    "Далее восстановление цикла: \\\n",
    "отматываем от конечной вершины n parents \\\n",
    "Наша полученная вершина теперь точно в цикле \\\n",
    "от полученной вершины ищем цикл проходя по parents пока не получим ее же \\\n",
    "\n",
    "- Тут никак не определяется это положительный или отрицательный цикл по-хорошему это надо проверять например,если положительный цикл получается внутри отрицательного то можно на него попасть\\\n",
    "можно например сохранять для parents еще и веса, либо преобразовать edges в словарь\\\n",
    "и при проходе проверять суммарный вес полученного цикла, если он отрицательный- то ок, иначе ищем дальше\n",
    "- Сравнение float весов в принципе вещь такая, могут и ошибки возникать при маленьких весах\n",
    "   а ошибка-то копится будет, короче ограничения на точность веса ставить или с округлением сравнивать)\n",
    " - Че еще можно придумать - количество проходов для проверки, мм совсем не очевидная вещь\n",
    " - Может сразу в расстояния -inf записывать при проверке?\n",
    " - нужно ли parents считать сразу в алгоритме(ну я в итоге туда и засунула)\\\n",
    "Короче мне поднадоело этим заниматься просто))"
   ]
  },
  {
   "cell_type": "code",
   "execution_count": 27,
   "id": "4038d7a0",
   "metadata": {},
   "outputs": [],
   "source": [
    "def find_negative_cycle(edges,start,n):\n",
    "    inf=float(\"inf\")\n",
    "    parents=[None for i in range(n)]\n",
    "    end=None\n",
    "    while len(edges)>0:\n",
    "        start=edges[0][0]\n",
    "        s=ford(edges,start,n,parents)\n",
    "        new_edges=[]\n",
    "        for k in range(2):\n",
    "            for edge in edges:\n",
    "                v,u,w=edge\n",
    "                if not s[v] is None:\n",
    "                    assert not s[u] is None,\"weight must be calced on this step\"\n",
    "                    if s[u]>s[v]+w:\n",
    "                        s[u]=s[v]+w\n",
    "                        parents[u]=v\n",
    "                        end=u\n",
    "                elif k==1:\n",
    "                    new_edges.append(edge)\n",
    "        if not end is None: break\n",
    "        edges=new_edges[:]\n",
    "    if end is None: return 0\n",
    "    return get_cycle(parents,end,n)\n",
    "\n",
    "def get_cycle(parents,end,n):\n",
    "    for i in range(n):\n",
    "        end=parents[end]\n",
    "    start=parents[end]\n",
    "    cycle=[end]\n",
    "    while start!=end:\n",
    "        cycle.append(start)\n",
    "        start=parents[start]\n",
    "    return cycle[::-1]"
   ]
  },
  {
   "cell_type": "code",
   "execution_count": 28,
   "id": "9451c444",
   "metadata": {},
   "outputs": [
    {
     "data": {
      "text/plain": [
       "[3, 1, 6, 7]"
      ]
     },
     "execution_count": 28,
     "metadata": {},
     "output_type": "execute_result"
    }
   ],
   "source": [
    "find_negative_cycle(edges,start,n)"
   ]
  }
 ],
 "metadata": {
  "kernelspec": {
   "display_name": "Python 3 (ipykernel)",
   "language": "python",
   "name": "python3"
  },
  "language_info": {
   "codemirror_mode": {
    "name": "ipython",
    "version": 3
   },
   "file_extension": ".py",
   "mimetype": "text/x-python",
   "name": "python",
   "nbconvert_exporter": "python",
   "pygments_lexer": "ipython3",
   "version": "3.8.10"
  },
  "varInspector": {
   "cols": {
    "lenName": 16,
    "lenType": 16,
    "lenVar": 40
   },
   "kernels_config": {
    "python": {
     "delete_cmd_postfix": "",
     "delete_cmd_prefix": "del ",
     "library": "var_list.py",
     "varRefreshCmd": "print(var_dic_list())"
    },
    "r": {
     "delete_cmd_postfix": ") ",
     "delete_cmd_prefix": "rm(",
     "library": "var_list.r",
     "varRefreshCmd": "cat(var_dic_list()) "
    }
   },
   "types_to_exclude": [
    "module",
    "function",
    "builtin_function_or_method",
    "instance",
    "_Feature"
   ],
   "window_display": false
  }
 },
 "nbformat": 4,
 "nbformat_minor": 5
}
