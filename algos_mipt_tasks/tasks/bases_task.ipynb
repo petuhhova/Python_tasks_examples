{
 "cells": [
  {
   "cell_type": "markdown",
   "id": "6882e57b",
   "metadata": {},
   "source": [
    "Вычислите XOR от двух чисел.\n",
    "\n",
    "Входные данные\n",
    "\n",
    "Два целых шестнадцатеричных числа меньших FF.\n",
    "\n",
    "Выходные данные\n",
    "\n",
    "Побитовый XOR этих чисел в шестнадцетиричном виде"
   ]
  },
  {
   "cell_type": "markdown",
   "id": "b138dbee",
   "metadata": {},
   "source": [
    "x=0b1111 -bynary2  bin(x)\n",
    "y=0o0732 -octo 8   oct(x)\n",
    "z=0xfa32 -hex 16   hex(x)"
   ]
  },
  {
   "cell_type": "code",
   "execution_count": 2,
   "id": "2f770062",
   "metadata": {
    "scrolled": true
   },
   "outputs": [
    {
     "name": "stdout",
     "output_type": "stream",
     "text": [
      "abc34d f6\n",
      "abc3bb\n"
     ]
    }
   ],
   "source": [
    "x,y=map(lambda a: int(a,base=16),input().split())\n",
    "print(hex(x^y)[2:])"
   ]
  },
  {
   "cell_type": "code",
   "execution_count": null,
   "id": "5b17ddd9",
   "metadata": {},
   "outputs": [],
   "source": [
    "Сколько 1 в бинарной записи числа\n",
    "Найти, сколько единиц содержит бинарная запись числа.\n",
    "\n",
    "Входные данные\n",
    "\n",
    "Целое неотрицательное число K.\n",
    "\n",
    "Выходные данные\n",
    "\n",
    "Сколько единиц содержит бинарная запись числа.\n"
   ]
  },
  {
   "cell_type": "code",
   "execution_count": 9,
   "id": "27c55193",
   "metadata": {},
   "outputs": [
    {
     "name": "stdout",
     "output_type": "stream",
     "text": [
      "5\n",
      "2\n"
     ]
    }
   ],
   "source": [
    "x=int(input())\n",
    "\n",
    "def calc_ones_in_bynary_number(x:int):\n",
    "    assert x>=0,\"x-non-negative number\"\n",
    "    count=0\n",
    "    while x!=0:\n",
    "        count+=x%2\n",
    "        x//=2\n",
    "    return count\n",
    "\n",
    "print(calc_ones_in_bynary_number(x))"
   ]
  },
  {
   "cell_type": "markdown",
   "id": "eeb98cd2",
   "metadata": {},
   "source": [
    "На острове Буяне жили N человек, каждый из которых был либо рыцарем либо лжецом, встали в круг. Рыцари говорят только правду, лжецы всегда только лгут. Каждому человеку в кругу задали вопрос: «Кто ты и кто твой сосед слева: рыцарь или лжец?» При этом каждый человек сказал, что он – рыцарь. А ответы всех людей о левом соседе были записаны в следующем формате: 1 – рыцарь 0 – лжец. Все ответы записаны в строку через пробел. Последний спрошенный человек отвечал на вопрос о первом.\n",
    "\n",
    "Написать программу, которая по ответам жителей определяет, какое количество рыцарей заведомо присутствует в круге.\n",
    "\n",
    "Входные данные\n",
    "\n",
    "Первое число ( 1 < N ≤ 255 ) - количество жителей. Следующие N чисел (0 или 1), разделенных пробелами - ответы жителей.\n",
    "\n",
    "0  1  0  1 \n",
    "1  1  1  1\n",
    "если рыцарь-то его ответ правда: если 1 оставляем ответ следующего прибавляем 1в список если 0 меняем ответ следующего.\n",
    "если лжец меняем ответ, если ответ 1 то меняем ответ следующего иначе оставляем\n",
    "1й рыцарь\n",
    "\n",
    "tru 0 0 1 1       tru 1 1 0 0   tru 1 1 1 0 1   tru 0 0 0 1 0\n",
    "ans 0 1 0 1       ans 0 1 0 1   ans 1 1 1 0 0   ans 1 1 1 0 0\n",
    "who 1 0 0 1 xor   who 0 1 1 0   who 1 1 1 1 0   who 0 0 0 0 1"
   ]
  },
  {
   "cell_type": "code",
   "execution_count": 55,
   "id": "f26773f1",
   "metadata": {},
   "outputs": [
    {
     "name": "stdout",
     "output_type": "stream",
     "text": [
      "3\n",
      "2 3\n",
      "0\n"
     ]
    }
   ],
   "source": [
    "n=int(input())\n",
    "answers=list(map(lambda x: bool(int(x)),input().split()))\n",
    "def calc_knights(answers,n):\n",
    "    \"\"\"Calcs  min number of knits using answers about neighbors\n",
    "    0-liar\n",
    "    1-knight\n",
    "    gets answers-bool list, n-number of inhabitant, returns min number of knights\"\"\"\n",
    "    flag=first_flag=True #if 1st person is knight\n",
    "    count=0\n",
    "    if n!=len(answers):\n",
    "        return 0\n",
    "    for x in answers:\n",
    "        flag=not(flag^x)\n",
    "        if flag:\n",
    "            count+=1\n",
    "    return min(n-count,count) if first_flag==flag else 0\n",
    "print(calc_knights(answers,n))"
   ]
  },
  {
   "cell_type": "markdown",
   "id": "33f1a505",
   "metadata": {},
   "source": [
    "Студент покупает рис каждый день.\n",
    "В первую неделю рис стоит price монет.\n",
    "Каждый день (перед началом рабочего дня)?? недели) цена риса увеличивается на delta монет (price = price + delta).\n",
    "Неделя - 7 дней.\n",
    "Студент покупал рис m недель.\n",
    "\n",
    "Написать программу (с циклом while), которая вычисляет сколько денег потратил студент.\n",
    "\n",
    "Нужны переменные:\n",
    "\n",
    "day - чтобы считать дни.\n",
    "Сначала day = 1.\n",
    "Если day == 8, то это первый день новой недели day = 1\n",
    "week - чтобы считать недели. Сначала week = 1.\n",
    "Если day == 8, то началась новая неделя week = week + 1\n",
    "Входные данные\n",
    "\n",
    "price - цена риса\n",
    "\n",
    "delta - на сколько увеличивается цена\n",
    "\n",
    "m - количество недель\n",
    "\n",
    "Выходные данные\n",
    "\n",
    "Число money - сколько денег потратил студент."
   ]
  },
  {
   "cell_type": "code",
   "execution_count": 39,
   "id": "90fbb0ca",
   "metadata": {},
   "outputs": [
    {
     "name": "stdout",
     "output_type": "stream",
     "text": [
      "10 1 1\n",
      "91\n"
     ]
    }
   ],
   "source": [
    "price,delta,m=map(int,input().split())\n",
    "\n",
    "def calc_money_spent(price,delta,m):\n",
    "    \"\"\"Calcs how much money student spent\n",
    "    gets price,every week change price,number of weeks\"\"\"\n",
    "    day=week=1\n",
    "    money_spent=0\n",
    "    while(week<=m):\n",
    "        while day!=8:\n",
    "            money_spent+=price;day+=1;price+=delta\n",
    "        day=1;week+=1\n",
    "    return money_spent\n",
    "print(calc_money_spent(price,delta,m))"
   ]
  },
  {
   "cell_type": "markdown",
   "id": "9e19e85a",
   "metadata": {},
   "source": [
    "Некоторые скобочные структуры правильные, другие — неправильные. Ваша задача — определить правильная ли скобочная структура.\n",
    "\n",
    "Входные данные\n",
    "\n",
    "Слово в алфавите из двух круглых скобочек ( и ). Длина слова меньше 4001\n",
    "\n",
    "Выходные данные\n",
    "\n",
    "Либо NO, либо YES\n",
    "\n",
    "Примеры\n",
    "\n",
    "Вход Выход\n",
    "\n",
    "() YES\n",
    "\n",
    ")( NO\n",
    "\n",
    "()(())() YES"
   ]
  },
  {
   "cell_type": "code",
   "execution_count": 35,
   "id": "30105e08",
   "metadata": {},
   "outputs": [
    {
     "name": "stdout",
     "output_type": "stream",
     "text": [
      "((()))\n",
      "YES\n"
     ]
    }
   ],
   "source": [
    "brackets_str=input()\n",
    "def is_string_write(brackets_str:str):\n",
    "    \"\"\"Checks is string of brackets write \"\"\"\n",
    "    open_brackets=0\n",
    "    for char in brackets_str: \n",
    "        open_brackets+=-1 if char==')' else 1\n",
    "        if open_brackets<0:\n",
    "            return False\n",
    "    return open_brackets==0\n",
    "\n",
    "print(\"YES\" if is_string_write(brackets_str) else \"NO\")"
   ]
  },
  {
   "cell_type": "markdown",
   "id": "119cc039",
   "metadata": {},
   "source": [
    "Заданная цифра в числе\n",
    "Сколько раз цифра d входит в десятичную запись числа n?\n",
    "\n",
    "Входные данные\n",
    "\n",
    "Число 0≤d≤9. Пробел. Целое положительное число n в десятичной системе (0 ≤ n ≤ 3·10 6) .\n",
    "\n",
    "Выходные данные\n",
    "\n",
    "Сколько раз цифра d входит в запись числа n."
   ]
  },
  {
   "cell_type": "code",
   "execution_count": 51,
   "id": "5b4ccfd5",
   "metadata": {},
   "outputs": [
    {
     "name": "stdout",
     "output_type": "stream",
     "text": [
      "2 2323\n",
      "2\n"
     ]
    }
   ],
   "source": [
    "d,n=map(int,input().split())\n",
    "\n",
    "def calc_number(digit:int,num:int):\n",
    "    \"\"\"calcs count of digit in number\"\"\"\n",
    "    assert 0<=digit<=9, \"digit is 0..9\"\n",
    "    count=0\n",
    "    while num!=0:\n",
    "        last_digit=num%10\n",
    "        num//=10\n",
    "        count+=digit==last_digit\n",
    "    return count\n",
    "\n",
    "print(calc_number(d,n))"
   ]
  }
 ],
 "metadata": {
  "kernelspec": {
   "display_name": "Python 3 (ipykernel)",
   "language": "python",
   "name": "python3"
  },
  "language_info": {
   "codemirror_mode": {
    "name": "ipython",
    "version": 3
   },
   "file_extension": ".py",
   "mimetype": "text/x-python",
   "name": "python",
   "nbconvert_exporter": "python",
   "pygments_lexer": "ipython3",
   "version": "3.8.10"
  },
  "varInspector": {
   "cols": {
    "lenName": 16,
    "lenType": 16,
    "lenVar": 40
   },
   "kernels_config": {
    "python": {
     "delete_cmd_postfix": "",
     "delete_cmd_prefix": "del ",
     "library": "var_list.py",
     "varRefreshCmd": "print(var_dic_list())"
    },
    "r": {
     "delete_cmd_postfix": ") ",
     "delete_cmd_prefix": "rm(",
     "library": "var_list.r",
     "varRefreshCmd": "cat(var_dic_list()) "
    }
   },
   "types_to_exclude": [
    "module",
    "function",
    "builtin_function_or_method",
    "instance",
    "_Feature"
   ],
   "window_display": false
  }
 },
 "nbformat": 4,
 "nbformat_minor": 5
}
