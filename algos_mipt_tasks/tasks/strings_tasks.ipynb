{
 "cells": [
  {
   "cell_type": "markdown",
   "id": "9fe1ea77",
   "metadata": {},
   "source": [
    "https://judge.mipt.ru/mipt_cs_on_python3/labs/lab13.html"
   ]
  },
  {
   "cell_type": "markdown",
   "id": "b9559854",
   "metadata": {},
   "source": [
    "### Z-функция\n",
    "Материал позаимствован с сайта e-maxx.ru.\\\n",
    "\n",
    "Определение \\\n",
    "Здесь и далее строки индексируются с нуля, т.е. первый символ строки имеет номер 0\n",
    ". Также, здесь и далее s[i…j] обозначает подстроку строки s\n",
    " от i-го символа до j-го включительно.\n",
    "\n",
    "Пусть дана строка s длины n. Тогда Z(s)\n",
    " - это массив длины n, i-ый элемент которого равен наибольшему числу символов, начиная с позиции i, совпадающих с первыми символами строки s. \n",
    "\n",
    "Иными словами, z[i]\n",
    " — это длина наибольшего общего префикса (строки s и её i-го суффикса). \\\n",
    " iй суффикс обязательно начинается с iго символа и не обязан заканчиваться в конце строки\n",
    "\n",
    "Первый элемент Z\n",
    "-функции, z[0]\n",
    ", обычно считают неопределённым. В данной статье мы будем считать, что он равен нулю (хотя ни в алгоритме, ни в приведённой реализации это ничего не меняет).\n",
    "\n",
    "Далее будет привиден алгоритм вычисления Z\n",
    "-функции за время O(n)\n",
    ", а также различные применения этого алгоритма."
   ]
  },
  {
   "cell_type": "markdown",
   "id": "a0f2a7a3",
   "metadata": {},
   "source": [
    "##### Примеры\n",
    "Приведём для примера подсчитанную Z-функцию для нескольких строк: \\\n",
    "\"aaaaa\": \\\n",
    "z[0] = 0, \\\n",
    "z[1] = 4, \\\n",
    "z[2] = 3, \\\n",
    "z[3] = 2, \\\n",
    "z[4] = 1. \\\n",
    "\"aaabaab\": \\\n",
    "z[0] = 0, по определению \\\n",
    "z[1] = 2, \"aaabaab\", 1a2a совпадает с 0а1а \\\n",
    "z[2] = 1, 2a совпадает с 0а \\\n",
    "z[3] = 0, 3b не совпадает с 0a \\\n",
    "z[4] = 2, 4a5a == 0a1a\\\n",
    "z[5] = 1, 5a==0a\\\n",
    "z[6] = 0. 6b!=0a\\\n",
    "\"abacaba\": \\\n",
    "z[0] = 0, \\\n",
    "z[1] = 0, \\\n",
    "z[2] = 1, \\\n",
    "z[3] = 0, \\\n",
    "z[4] = 3, \\\n",
    "z[5] = 0, \\\n",
    "z[6] = 1. \n"
   ]
  },
  {
   "cell_type": "markdown",
   "id": "54c65969",
   "metadata": {},
   "source": [
    "##### Тривиальный алгоритм\n",
    "Формальное определение можно представить в виде следующей элементарной реализации за O(n2)\n",
    "Мы просто для каждой позиции i\n",
    " перебираем ответ для неё z[i]\n",
    ", начиная с нуля, и до тех пор, пока мы не обнаружим несовпадение или не дойдём до конца строки.\n",
    "\n",
    "Разумеется, эта реализация слишком неэффективна, перейдём теперь к построению эффективного алгоритма.\n",
    "\n",
    "\n"
   ]
  },
  {
   "cell_type": "code",
   "execution_count": null,
   "id": "d9b6dbf8",
   "metadata": {},
   "outputs": [],
   "source": [
    "def z_func_triv(s:str, n):\n",
    "    z = [0] * n\n",
    "    for i in range(1, n):\n",
    "        while i + z[i] < n and s[z[i]] == s[i + z[i]]:\n",
    "            z[i] += 1\n",
    "    return z\n",
    "print(z_func_triv(\"abacaba\",7))\n",
    "z_func_triv(\"abcabc\",6)"
   ]
  },
  {
   "cell_type": "markdown",
   "id": "a5b15ccd",
   "metadata": {},
   "source": [
    "#### Эффективный алгоритм вычисления Z-функции O(N)\n",
    "Чтобы получить эффективный алгоритм, будем вычислять значения z[i] по очереди — от i=1 до n−1 \\\n",
    "и при этом постараемся при вычислении очередного значения z[i] максимально использовать уже вычисленные значения. \\\n",
    "\n",
    "Назовём для краткости подстроку, совпадающую с префиксом строки s, **отрезком совпадения**. Например, значение искомой Z-функции z[i] — это длина длиннейшего отрезок совпадения, начинающийся в позиции i (и заканчиваться он будет в позиции i+z[i]−1).\n",
    "\n",
    "Для этого будем поддерживать **координаты [l;r] самого правого отрезка совпадения**, т.е. из всех обнаруженных отрезков будем хранить тот, который оканчивается правее всего. В некотором смысле, индекс r — это такая граница, до которой наша строка уже была просканирована алгоритмом, а всё остальное — пока ещё не известно.\n",
    "\n",
    "Тогда если текущий индекс, для которого мы хотим посчитать очередное значение Z-функции, — это i, мы имеем один из двух вариантов: \n",
    "1) i>r — т.е. текущая позиция лежит **за пределами** того, что мы уже успели обработать.\n",
    "\n",
    "Тогда будем искать z[i] **тривиальным алгоритмом**, т.е. просто пробуя значения z[i]=0, z[i]=1\n",
    ", и т.д. \\\n",
    "Заметим, что в итоге, если z[i] окажется >0, то мы будем обязаны **обновить координаты самого правого отрезка [l;r]** — т.к. i+z[i]−1 гарантированно окажется больше r \n",
    "\n",
    "2) i≤r\n",
    " — т.е. текущая позиция лежит **внутри** отрезка совпадения [l;r]\n",
    ".\n",
    "Тогда мы можем использовать уже подсчитанные **предыдущие** значения Z-функции, чтобы проинициализировать значение z[i] не нулём, а каким-то возможно бОльшим числом.\n",
    "\n",
    "Для этого заметим, что подстроки s[l…r] и s[0…r−l] **совпадают**. Это означает, что в качестве **начального приближения** для z[i] можно взять соответствующее ему значение из отрезка s[0…r−l], а именно, значение z[i−l].\n",
    "\n",
    "Однако значение z[i−l] могло оказаться **слишком большим**: таким, что при применении его к позиции i оно \"вылезет\" за пределы границы r. Этого допустить нельзя, т.к. про символы правее r мы ничего не знаем, и они могут отличаться от требуемых.\n",
    "\n",
    "###### Приведём пример такой ситуации, на примере строки \"aaaabaa\".\n",
    "0a1a2a3a4b5a6a\\\n",
    "i=1 \\\n",
    "1й случай \\\n",
    "lr=[00] \\\n",
    "Итого z[1]=3 \\\n",
    "s[lr]=aaa=s[1,3] \\\n",
    "i=2 \\\n",
    "2й случай \\ i<r==3\n",
    "0а1а2а=s[0…r−l]=1а2а3а=s[lr] \\\n",
    "z[i−l]=z[1]=3 \\\n",
    "i+3>r-не подходит \\\n",
    "$ z0[i]=min(r−i+1,z[i−l])$\n",
    "z0[i]=2\n",
    "короче кусочек 2а3а совпадает с 1а2а  \\\n",
    "z[2]=2 \\\n",
    "Когда мы дойдём до последней позиции (i=6), текущим самым правым отрезком будет [l;r]=[5;6]. \\ Позиции 6 с учётом этого отрезка будет соответствовать позиция 6−5=1, ответ в которой равен z[1]=3. Очевидно, что таким значением инициализировать z[6] нельзя, оно совершенно некорректно. Максимум, каким значением мы могли проинициализировать — это 1\n",
    ", поскольку это наибольшее значение, которое не вылезает за пределы отрезка [l;r]\n",
    "Таким образом, в качестве начального приближения для z[i] безопасно брать только такое выражение:\n",
    "\n",
    "$ z0[i]=min(r−i+1,z[i−l])$. \n",
    "\n",
    "Проинициализировав z[i] таким значением z0[i], мы снова дальше действуем тривиальным алгоритмом — потому что после границы r, вообще говоря, могло обнаружиться продолжение отрезка совпадение, предугадать которое одними лишь предыдущими значениями Z-функции мы не можем.\n",
    "\n",
    "Таким образом, весь алгоритм представляет из себя два случая, которые фактически различаются только начальным значением z[i]\n",
    ": в первом случае оно полагается равным нулю, а во втором — определяется по предыдущим значениям по указанной формуле. После этого обе ветки алгоритма сводятся к выполнению тривиального алгоритма, стартующего сразу с указанного начального значения.\n",
    "\n",
    "Алгоритм получился весьма простым. Несмотря на то, что при каждом i\n",
    " в нём так или иначе выполняется тривиальный алгоритм — мы достигли существенного прогресса, получив алгоритм, работающий за линейное время (действительно, на каждый символ мы \"посмотрим\", т.е. сравним его с каким-либо предыдущим всего один раз)."
   ]
  },
  {
   "cell_type": "markdown",
   "id": "10ecb55f",
   "metadata": {},
   "source": [
    "Упражнение №1: Z-функция\n",
    "Напишите Z-функцию. Пусть заголовком ее будет def z_func(s, n):"
   ]
  },
  {
   "cell_type": "code",
   "execution_count": 1,
   "id": "65a700ff",
   "metadata": {
    "scrolled": true
   },
   "outputs": [
    {
     "name": "stdout",
     "output_type": "stream",
     "text": [
      "Ok aaaaa [0, 4, 3, 2, 1]\n",
      "Ok aaabaab [0, 2, 1, 0, 2, 1, 0]\n",
      "Ok abacaba [0, 0, 1, 0, 3, 0, 1]\n",
      "Ok aaaabaa [0, 3, 2, 1, 0, 2, 1]\n",
      "Ok abcafabcabcaf [0, 0, 0, 1, 0, 4, 0, 0, 5, 0, 0, 1, 0]\n"
     ]
    },
    {
     "data": {
      "text/plain": [
       "[0, 0, 0, 3, 0, 0]"
      ]
     },
     "execution_count": 1,
     "metadata": {},
     "output_type": "execute_result"
    }
   ],
   "source": [
    "def z_func(s:str, n:int):\n",
    "    \"\"\"s-строка,n-длина строки\"\"\"\n",
    "    l=r=0\n",
    "    z=[0]*n\n",
    "    for i in range(1,n):\n",
    "        if i<=r:\n",
    "            z[i]= min(r-i+1,z[i-l])#инициализируем начальное приближение\n",
    "        while i+z[i]<n and s[z[i]]==s[i+z[i]]:\n",
    "            z[i]+=1\n",
    "        if z[i]>0:\n",
    "            l=i\n",
    "            r=i+z[i]-1\n",
    "    return z\n",
    "\n",
    "def test_z_func(z_func):\n",
    "    strings=[\"aaaaa\",\"aaabaab\",\"abacaba\",\"aaaabaa\",\"abcafabcabcaf\"]\n",
    "    answers=[[0,4,3,2,1],[0,2,1,0,2,1,0],[0,0,1,0,3,0,1],[0,3,2,1,0,2,1],[0,0,0,1,0,4,0,0,5,0,0,1,0]]\n",
    "    for i in range(len(strings)):\n",
    "        res=z_func(strings[i],len(strings[i]))\n",
    "        print(\"Ok\" if res==answers[i] else \"Fail\",strings[i],res)\n",
    "test_z_func(z_func)\n",
    "z_func(\"abcabc\",6)"
   ]
  },
  {
   "cell_type": "markdown",
   "id": "7b901d39",
   "metadata": {},
   "source": [
    "Упражнение №2: Поиск подстроки\n",
    "Пусть даны две строки. Найти все вхождения второй строки в первую."
   ]
  },
  {
   "cell_type": "code",
   "execution_count": 2,
   "id": "d557c419",
   "metadata": {},
   "outputs": [],
   "source": [
    "import string\n",
    "def search_substr(s,sub_s):\n",
    "    \"\"\"Search substring in string s, returns list of entering indexes\"\"\"\n",
    "    search_s=sub_s+s\n",
    "    n=len(search_s)\n",
    "    z=z_func(search_s,n)\n",
    "    index=[]\n",
    "    sub_s_len=len(sub_s)\n",
    "    for i in range(sub_s_len,n):\n",
    "        if sub_s_len<=z[i]:\n",
    "            index.append(i-sub_s_len)\n",
    "    return index\n",
    "\n",
    "def get_connected_symbol(s:str):\n",
    "    \"\"\"Finds a symbol wich isn't in string\"\"\"\n",
    "    charlist=['#','$','*','&','^']\n",
    "    for char in charlist:\n",
    "        if not char in s:\n",
    "            return char\n",
    "    for char in string.printable: # string.printable:\n",
    "        if not char in s:\n",
    "            return char\n",
    "    return -1\n",
    "\n",
    "def search_substr_symbol(s,sub_s): #O(N)\n",
    "    \"\"\"Search substring in string s, returns list of entering indexes,\n",
    "    uses a symbol wich isn't in string\"\"\"\n",
    "    char=get_connected_symbol(sub_s+s)\n",
    "    search_s=sub_s+char+s\n",
    "    print(search_s)\n",
    "    n=len(search_s)\n",
    "    z=z_func(search_s,n)\n",
    "    index=[]\n",
    "    sub_s_len=len(sub_s)+len(char)\n",
    "    for i in range(sub_s_len,n):\n",
    "        if z[i]==len(sub_s):\n",
    "            index.append(i-sub_s_len)\n",
    "    return index\n",
    "\n",
    "def test_search_substr(search_substr):\n",
    "    sub_s=[\"aba\",\"bab\",\"a#$^&*\",\"a#$^*\"]\n",
    "    s=[\"cabafabaab\",\"babbabfbababf\",\"ba#$^&*\",\"ba#$^*\"]\n",
    "    answer=[[1,5],[0,3,7,9],[1],[1]]\n",
    "    for i in range(len(sub_s)):\n",
    "        res=search_substr(s[i],sub_s[i])\n",
    "        print(\"Ok\" if res==answer[i] else \"Fail\",sub_s[i],s[i],res)"
   ]
  },
  {
   "cell_type": "code",
   "execution_count": 3,
   "id": "3441e939",
   "metadata": {},
   "outputs": [
    {
     "name": "stdout",
     "output_type": "stream",
     "text": [
      "Ok aba cabafabaab [1, 5]\n",
      "Ok bab babbabfbababf [0, 3, 7, 9]\n",
      "Ok a#$^&* ba#$^&* [1]\n",
      "Ok a#$^* ba#$^* [1]\n",
      "aba#cabafabaab\n",
      "Ok aba cabafabaab [1, 5]\n",
      "bab#babbabfbababf\n",
      "Ok bab babbabfbababf [0, 3, 7, 9]\n",
      "a#$^&*0ba#$^&*\n",
      "Ok a#$^&* ba#$^&* [1]\n",
      "a#$^*&ba#$^*\n",
      "Ok a#$^* ba#$^* [1]\n"
     ]
    }
   ],
   "source": [
    "test_search_substr(search_substr)\n",
    "test_search_substr(search_substr_symbol)"
   ]
  },
  {
   "cell_type": "markdown",
   "id": "4b995275",
   "metadata": {},
   "source": [
    "Упражнение №3: Количество разных подстрок\n",
    "Найти число всех различных подстрок входящих в данную."
   ]
  },
  {
   "cell_type": "markdown",
   "id": "f9e0b9d0",
   "metadata": {},
   "source": [
    "Количество различных подстрок в строке\n",
    "Дана строка s длины n. Требуется посчитать количество её различных подстрок.\n",
    "\n",
    "Будем решать эту задачу итеративно. А именно, научимся, зная текущее количество различных подстрок, пересчитывать это количество при добавлении в конец одного символа.\n",
    "\n",
    "Итак, пусть k — текущее количество различных подстрок строки s, и мы добавляем в конец символ c. Очевидно, в результате могли появиться некоторые новые подстроки, оканчивавшиеся на этом новом символе c (а именно, все подстроки, оканчивающиеся на этом символе, но не встречавшиеся раньше).\n",
    "\n",
    "Возьмём строку t=s+c и инвертируем её (запишем символы в обратном порядке). Наша задача — посчитать, сколько у строки t таких префиксов, которые не встречаются в ней более нигде. Но если мы посчитаем для строки t Z-функцию и найдём её максимальное значение $z_{\\rm max}$, то, очевидно, в строке t встречается (не в начале) её префикс длины $z_{\\rm max}$, но не большей длины. Понятно, префиксы меньшей длины уже точно встречаются в ней.\n",
    "\n",
    "Итак, мы получили, что число новых подстрок, появляющихся при дописывании символа c, равно $len - z_{\\rm max}$, где len — текущая длина строки после приписывания символа c.\n",
    "\n",
    "Следовательно, асимптотика решения для строки длины n составляет O (n^2).\n",
    "\n",
    "Стоит заметить, что совершенно аналогично можно пересчитывать за O (n) количество различных подстрок и при дописывании символа в начало, а также при удалении символа с конца или с начала."
   ]
  },
  {
   "cell_type": "code",
   "execution_count": 4,
   "id": "8581e454",
   "metadata": {},
   "outputs": [],
   "source": [
    "def count_substrings(s:str):\n",
    "    \"\"\"Counts number of different substrings in string\"\"\"\n",
    "    n=len(s)\n",
    "    not_count=[0]*n\n",
    "    i=0\n",
    "    while len(s)>1:\n",
    "        z=z_func(s,len(s))\n",
    "        for j in range(i,n):\n",
    "            not_count[j]=max(z[j-i],not_count[j])\n",
    "        s=s[1:]#remove first char\n",
    "        i+=1\n",
    "    count=sum(range(2,n+1))-sum(not_count)#if subs is string from 1\n",
    "    return count"
   ]
  },
  {
   "cell_type": "code",
   "execution_count": 5,
   "id": "36b64270",
   "metadata": {},
   "outputs": [],
   "source": [
    "def count_substrings_2(s:str):\n",
    "    \"\"\"Принципиально не отличается, будем дописывать символы в конец строки\n",
    "    и идти по возрастанию строки,не нужно искать max префикс среди всех,\n",
    "    для каждого дописанного символа отдельно\"\"\"\n",
    "    n=len(s)\n",
    "    i=0\n",
    "    count=0 #для строки с единственным символом\n",
    "    for i in range(1,n):\n",
    "        s_new=s[i::-1]\n",
    "        z=z_func(s_new,len(s_new))\n",
    "        count+=len(s_new)-max(z)\n",
    "    return count\n",
    "        "
   ]
  },
  {
   "cell_type": "code",
   "execution_count": 6,
   "id": "25355405",
   "metadata": {},
   "outputs": [],
   "source": [
    "def test_count_substr(count_substrings):\n",
    "    s=[\"aaaaa\",\"aaabaab\",\"abacaba\",\"aaaabaa\",\"abcafabcabcaf\"]\n",
    "    answer=[4,18,20,18,65]\n",
    "    for i in range(len(s)):\n",
    "        res=count_substrings(s[i])\n",
    "        print(\"Ok\" if res==answer[i] else \"Fail\",s[i],res)"
   ]
  },
  {
   "cell_type": "code",
   "execution_count": 7,
   "id": "3cf98948",
   "metadata": {},
   "outputs": [
    {
     "name": "stdout",
     "output_type": "stream",
     "text": [
      "Ok aaaaa 4\n",
      "Ok aaabaab 18\n",
      "Ok abacaba 20\n",
      "Ok aaaabaa 18\n",
      "Ok abcafabcabcaf 65\n"
     ]
    }
   ],
   "source": [
    "test_count_substr(count_substrings_2)"
   ]
  },
  {
   "cell_type": "markdown",
   "id": "fd6c0e38",
   "metadata": {},
   "source": [
    "Упражнение №4: Период строки\n",
    "Для данной строки s найти строку p минимальной длины, такую что s можно предстваить как конкатенацию одной или нескольких копий p. \\\n",
    "s=\"abababab\" p=\"ab\" \\\n",
    "Пусть s=p+...+p ,k раз \\\n",
    "Тогда len(s)=k*len(p) \\\n",
    "Тогда $z(s)=[0,...(k-1)*len(p)....(k-2)*len(p)...len(p)...]$ \\\n",
    "для индексов $i=[0..len(p)+1...2*len(p)+1...(k-1)*len(p) ]$ \\\n",
    "причем  $(k-1)*len(p)=max(z[i]), i=len(p)$ - отсюда находим i и k и проверяем структуру\\\n",
    "p=s[:len(p)+1]"
   ]
  },
  {
   "cell_type": "code",
   "execution_count": 8,
   "id": "6356b542",
   "metadata": {},
   "outputs": [],
   "source": [
    "def find_string_period(s:str):\n",
    "    \"\"\"Finds min period of string p: p*k=s, k=1,2...\"\"\"\n",
    "    n=len(s)\n",
    "    z=z_func(s,n)\n",
    "    max_z=0\n",
    "    len_p=0\n",
    "    #find max z\n",
    "    for i in range(n):\n",
    "        if z[i]>max_z:\n",
    "            max_z=z[i]\n",
    "            len_p=i\n",
    "    # find k\n",
    "    if max_z+len_p==n:#максимальный совпадающий префикс идет до конца строки\n",
    "        return len_p\n",
    "    return n"
   ]
  },
  {
   "cell_type": "code",
   "execution_count": 9,
   "id": "c77aa768",
   "metadata": {},
   "outputs": [],
   "source": [
    "def test_find_period(find_period):\n",
    "    s=[\"ababab\",\"aaaaa\",\"abcabc\",\"abc\",\"\",\"abababcd\"]\n",
    "    answer=[2,1,3,3,0,8]\n",
    "    for i in range(len(s)):\n",
    "        res=find_period(s[i])\n",
    "        print(\"Ok\" if res==answer[i] else \"Fail\",res,s[i])"
   ]
  },
  {
   "cell_type": "code",
   "execution_count": 10,
   "id": "a436599b",
   "metadata": {},
   "outputs": [
    {
     "name": "stdout",
     "output_type": "stream",
     "text": [
      "Ok 2 ababab\n",
      "Ok 1 aaaaa\n",
      "Ok 3 abcabc\n",
      "Ok 3 abc\n",
      "Ok 0 \n",
      "Ok 8 abababcd\n"
     ]
    }
   ],
   "source": [
    "test_find_period(find_string_period)"
   ]
  },
  {
   "cell_type": "markdown",
   "id": "b91a19f2",
   "metadata": {},
   "source": [
    "##### Префикс-функция. Определение\n",
    "Пусть дана строка s длины n. Тогда π(s) - это массив длины n, i-ый элемент которого (π[i]\n",
    ") определяется следующим образом: \\\n",
    "это длина наибольшего собственного суффикса подстроки s[0…i], совпадающего с её префиксом (собственный суффикс — значит не совпадающий со всей строкой). В частности, значение π[0] полагается равным нулю. \\\n",
    "Суффикс обязательно заканчивается на iм элементе \\\n",
    "\n",
    "Примечение: вообще говоря, в теории множеств собственным считается не пустое подмножество, не совпдающее с самим множеством. В данной статье, для простоты суффикс и префикс нулевой длины также считаются собственными.\n",
    "\n",
    "Математически определение префикс-функции можно записать следующим образом:\n",
    "\n",
    "$π[i]=maxk=0…i{k:s[0…k−1]=s[i−k+1…i]}$. \\\n",
    "Например, для строки \"abcabcd\" префикс-функция равна: [0,0,0,1,2,3,0]\n",
    ", что означает: \\\n",
    "у строки \"a\" нет нетривиального префикса, совпадающего с суффиксом; \\\n",
    "у строки \"ab\" нет нетривиального префикса, совпадающего с суффиксом; \\\n",
    "у строки \"abc\" нет нетривиального префикса, совпадающего с суффиксом; \\\n",
    "у строки \"abca\" префикс длины 1 совпадает с суффиксом; \\\n",
    "у строки \"abcab\" префикс длины 2 совпадает с суффиксом; \\\n",
    "у строки \"abcabc\" префикс длины 3 совпадает с суффиксом; \\\n",
    "у строки \"abcabcd\" нет нетривиального префикса, совпадающего с суффиксом. \\\n",
    "Другой пример — для строки \"aabaaab\" она равна: [0,1,0,1,2,2,3] \\\n"
   ]
  },
  {
   "cell_type": "markdown",
   "id": "a254ec2e",
   "metadata": {},
   "source": [
    "##### Тривиальный алгоритм\n",
    "Непосредственно следуя определению, можно написать такой алгоритм вычисления префикс-функции:\n",
    "Как нетрудно заметить, работать он будет за O(n3) , что слишком медленно."
   ]
  },
  {
   "cell_type": "code",
   "execution_count": 11,
   "id": "2ff68559",
   "metadata": {},
   "outputs": [],
   "source": [
    "def prefix_func_triv(s, n):\n",
    "    pi = [0] * n\n",
    "    for i in range(n - 1):\n",
    "        for k in range(1, i + 1):\n",
    "            equal = True\n",
    "            for j in range(k):\n",
    "                if s[j] != s[i - k  + 1 + j]:\n",
    "                    equal = False\n",
    "                    break\n",
    "            if equal:\n",
    "                pi[i] = k\n",
    "    return pi"
   ]
  },
  {
   "cell_type": "markdown",
   "id": "d5d1e0ca",
   "metadata": {},
   "source": [
    "#### Эффективный алгоритм Пи-функции (см лекции)\n",
    "$\\pi=$[0 для всех i], \\\n",
    "для всех i строки s: \\\n",
    "$ \\;\\;\\;\\;  p=\\pi_{s_{i-1}}$  #пи-функции строки без последнего символа \\\n",
    "$ \\;\\;\\;\\;$ пока p>0 и $s_i!=s_{p+1}$ # сравниваем последний эл-т строки si с эл-том после префикса \\\n",
    "$ \\;\\;\\;\\;\\;\\;\\;\\; p=\\pi_{s_p} $  # берем меньший префик(префик префикса) \\\n",
    "$ \\;\\;\\;\\;$ Если $ s_i==s_{p+1}$,то элемент совпал\\\n",
    "$ \\;\\;\\;\\;\\;\\;\\;\\; p+=1 $ \\\n",
    "$ \\;\\;\\;\\; \\pi_i=p $ "
   ]
  },
  {
   "cell_type": "markdown",
   "id": "d1f1de43",
   "metadata": {},
   "source": [
    "Упражнение №5: Префикс-функция\n",
    "Напишите префикс-функцию. Пусть заголовком ее будет def p_func(s, n):"
   ]
  },
  {
   "cell_type": "code",
   "execution_count": 12,
   "id": "574c5c8f",
   "metadata": {},
   "outputs": [],
   "source": [
    "def p_func(s,n):\n",
    "    Pi=[0 for i in range(n)]\n",
    "    for i in range(1,n):\n",
    "        p=Pi[i-1]\n",
    "        while p>0 and s[i]!=s[p]:\n",
    "            p=Pi[p-1]\n",
    "        if s[i]==s[p]:\n",
    "            p+=1\n",
    "        Pi[i]=p\n",
    "    return Pi"
   ]
  },
  {
   "cell_type": "code",
   "execution_count": 13,
   "id": "8a31583a",
   "metadata": {},
   "outputs": [
    {
     "name": "stdout",
     "output_type": "stream",
     "text": [
      "Ok aaaaa [0, 1, 2, 3, 4]\n",
      "Ok aaabaab [0, 1, 2, 0, 1, 2, 0]\n",
      "Ok abacaba [0, 0, 1, 0, 1, 2, 3]\n",
      "Ok aabaaab [0, 1, 0, 1, 2, 2, 3]\n"
     ]
    }
   ],
   "source": [
    "def test_p_func(p_func):\n",
    "    strings=[\"aaaaa\",\"aaabaab\",\"abacaba\",\"aabaaab\"]\n",
    "    answers=[[0,1,2,3,4],[0,1,2,0,1,2,0],[0,0,1,0,1,2,3], [0,1,0,1,2,2,3]]\n",
    "    for i in range(len(strings)):\n",
    "        res=p_func(strings[i],len(strings[i]))\n",
    "        print(\"Ok\" if res==answers[i] else \"Fail\",strings[i],res)\n",
    "test_p_func(p_func)"
   ]
  },
  {
   "cell_type": "markdown",
   "id": "91bf4c0e",
   "metadata": {},
   "source": [
    "Упражнение №6: Поиск подстроки\n",
    "Пусть даны две строки. Найти все вхождения второй строки в первую с помощью алгоритма Кнута-Морриса-Пратта.\n"
   ]
  },
  {
   "cell_type": "markdown",
   "id": "c546ee01",
   "metadata": {},
   "source": [
    "Эта задача является классическим применением префикс-функции (и, собственно, она и была открыта в связи с этим).\n",
    "\n",
    "Дан текст t\n",
    " и строка s\n",
    ", требуется найти и вывести позиции всех вхождений строки s\n",
    " в текст t\n",
    ".\n",
    "\n",
    "Обозначим для удобства через n\n",
    " длину строки s\n",
    ", а через m\n",
    " — длину текста t\n",
    ".\n",
    "\n",
    "Образуем строку s+#+t\n",
    ", где символ #\n",
    " — это разделитель, который не должен нигде более встречаться. Посчитаем для этой строки префикс-функцию. Теперь рассмотрим её значения, кроме первых n+1\n",
    " (которые, как видно, относятся к строке s\n",
    " и разделителю). По определению, значение π[i]\n",
    " показывает наидлиннейшую длину подстроки, оканчивающейся в позиции i\n",
    " и совпадающего с префиксом. Но в нашем случае это π[i]\n",
    " — фактически длина наибольшего блока совпадения со строкой s\n",
    " и оканчивающегося в позиции i\n",
    ". Больше, чем n\n",
    ", эта длина быть не может, за счёт разделителя. А вот равенство π[i]=n\n",
    " (там, где оно достигается), означает, что в позиции i\n",
    " оканчивается искомое вхождение строки s\n",
    " (только не надо забывать, что все позиции отсчитываются в склеенной строке s+#+t\n",
    ").\n",
    "\n",
    "Таким образом, если в какой-то позиции i\n",
    " оказалось π[i]=n\n",
    ", то в позиции i−(n+1)−n+1=i−2n\n",
    " строки t\n",
    " начинается очередное вхождение строки s\n",
    " в строку t\n",
    ".\n",
    "\n",
    "Как уже упоминалось при описании алгоритма вычисления префикс-функции, если известно, что значения префикс-функции не будут превышать некоторой величины, то достаточно хранить не всю строку и префикс-функцию, а только её начало. В нашем случае это означает, что нужно хранить в памяти лишь строку s+# и значение префикс-функции (Pi) на ней, а потом уже считывать по одному символу строку t и пересчитывать текущее значение префикс-функции(p) \\\n",
    "Изначально почитанное Pi не меняем!!!\n",
    "\n",
    "Итак, алгоритм Кнута-Морриса-Пратта решает эту задачу за O(n+m)\n",
    " времени и O(n)\n",
    " памяти."
   ]
  },
  {
   "cell_type": "code",
   "execution_count": 14,
   "id": "8ae53edf",
   "metadata": {},
   "outputs": [],
   "source": [
    "def seach_substr_KMP_easy(s,sub_s,sep=\"#\"):\n",
    "    \"\"\" врямя O(N+M) память O(N+M)\"\"\"\n",
    "    s=sub_s+sep+s\n",
    "    Pi=p_func(s,len(s))\n",
    "    index=[]\n",
    "    for i in range(len(sub_s)+len(sep),len(Pi)):\n",
    "        if Pi[i]==len(sub_s):\n",
    "            index.append(i-2*len(sub_s)-len(sep)+1)\n",
    "    return index"
   ]
  },
  {
   "cell_type": "code",
   "execution_count": 15,
   "id": "8c7f77ed",
   "metadata": {},
   "outputs": [],
   "source": [
    "def seach_substr_KMP(s,sub_s,sep=\"#\"):\n",
    "    \"\"\"Classic KMP time - O(N+M), memory O(M)\"\"\"\n",
    "    sub_s_sep=sub_s+sep\n",
    "    m=len(sub_s_sep)\n",
    "    n=len(s)\n",
    "    index=[]\n",
    "    Pi=p_func(sub_s_sep,m)\n",
    "    p=0\n",
    "    for i in range(n):\n",
    "        #print(p)\n",
    "        while p>0 and s[i]!=sub_s_sep[p]:\n",
    "            p=Pi[p-1]\n",
    "        if s[i]==sub_s[p]:\n",
    "            p+=1\n",
    "        if p==len(sub_s):\n",
    "            index.append(i-len(sub_s)+1)\n",
    "    return index\n",
    "    \n",
    "    "
   ]
  },
  {
   "cell_type": "code",
   "execution_count": 16,
   "id": "15c34f53",
   "metadata": {},
   "outputs": [
    {
     "name": "stdout",
     "output_type": "stream",
     "text": [
      "Ok aba cabafabaab [1, 5]\n",
      "Ok bab babbabfbababf [0, 3, 7, 9]\n",
      "Ok a#$^&* ba#$^&* [1]\n",
      "Ok a#$^* ba#$^* [1]\n",
      "Ok aba cabafabaab [1, 5]\n",
      "Ok bab babbabfbababf [0, 3, 7, 9]\n",
      "Ok a#$^&* ba#$^&* [1]\n",
      "Ok a#$^* ba#$^* [1]\n"
     ]
    },
    {
     "data": {
      "text/plain": [
       "[1, 2, 3]"
      ]
     },
     "execution_count": 16,
     "metadata": {},
     "output_type": "execute_result"
    }
   ],
   "source": [
    "test_search_substr(seach_substr_KMP_easy)\n",
    "test_search_substr(seach_substr_KMP)\n",
    "seach_substr_KMP(\"baaaaa\",\"aaa\")"
   ]
  },
  {
   "cell_type": "markdown",
   "id": "41751d61",
   "metadata": {},
   "source": [
    "Упражнение №7: Поиск подстроки онлайн\n",
    "В первой строке ввода - число n\n",
    ", количество букв в паттерне. Во второй строке - паттерн, строка которую нужно искать в тексте. В каждой из последующих строк - символы текста, по одному в каждой строке. Необходимо вывести позиции вхождений паттерна в текст. Длина текста заранее не известна, он может быть очень большим.\n",
    "Для простоты будем считывать из файла"
   ]
  },
  {
   "cell_type": "code",
   "execution_count": 17,
   "id": "14d93b14",
   "metadata": {},
   "outputs": [],
   "source": [
    "def search_substr_online(sub_s,n,file_name):\n",
    "    file = open(file_name, 'r')\n",
    "    if not file or sub_s==\"\":\n",
    "        return []\n",
    "    Pi=p_func(sub_s,len(sub_s))\n",
    "    i=p=0\n",
    "    index=[]\n",
    "    while True: \n",
    "    # read by character\n",
    "        char = file.read(1)\n",
    "        if not char:\n",
    "            file.close()\n",
    "            break\n",
    "        while p>0 and char!=sub_s[p]:\n",
    "            p=Pi[p-1]\n",
    "        if char==sub_s[p]:\n",
    "            p+=1\n",
    "        if p==len(sub_s):\n",
    "            p=Pi[p-1]\n",
    "            index.append(i-len(sub_s)+1)\n",
    "        i+=1\n",
    "    return index"
   ]
  },
  {
   "cell_type": "code",
   "execution_count": 18,
   "id": "cca47b0f",
   "metadata": {},
   "outputs": [],
   "source": [
    "from pathlib import Path\n",
    "path_to_data=Path(\"../data\")\n",
    "def test_search_subs_online():\n",
    "    path=path_to_data.joinpath(\"test_KMP.txt\")\n",
    "    f=open(path,\"r\")\n",
    "    print(f.read())\n",
    "    f.close()\n",
    "    sub_s=[\"Hello\",\"o\",\"world\",\"Python\",\"\"]\n",
    "    for s in sub_s:\n",
    "        res=search_substr_online(s,len(s),path)\n",
    "        print(s,res)"
   ]
  },
  {
   "cell_type": "code",
   "execution_count": 19,
   "id": "34b3fe5d",
   "metadata": {},
   "outputs": [
    {
     "name": "stdout",
     "output_type": "stream",
     "text": [
      "Hello, world!\n",
      "Hello, Python!\n",
      "It's Python world!\n",
      "\n",
      "Hello [0, 14]\n",
      "o [4, 8, 18, 25, 38, 42]\n",
      "world [7, 41]\n",
      "Python [21, 34]\n",
      " []\n"
     ]
    }
   ],
   "source": [
    "test_search_subs_online()"
   ]
  },
  {
   "cell_type": "markdown",
   "id": "6d80acd4",
   "metadata": {},
   "source": [
    "Упражнение №8: Количество разных подстрок\n",
    "Найти число всех различных подстрок входящих в данную с помощью префикс-функции."
   ]
  },
  {
   "cell_type": "code",
   "execution_count": 20,
   "id": "fa363327",
   "metadata": {},
   "outputs": [],
   "source": [
    "def count_substr_pi_func(s):\n",
    "    \"\"\"Counst number of different substrings in string using Pi-function\"\"\"\n",
    "    n=len(s)\n",
    "    count=0\n",
    "    for i in range(1,n):\n",
    "        sub_s=s[i::-1]\n",
    "        count+=len(sub_s)-max(p_func(sub_s,len(sub_s)))\n",
    "    return count"
   ]
  },
  {
   "cell_type": "code",
   "execution_count": 21,
   "id": "dac61654",
   "metadata": {},
   "outputs": [
    {
     "name": "stdout",
     "output_type": "stream",
     "text": [
      "Ok aaaaa 4\n",
      "Ok aaabaab 18\n",
      "Ok abacaba 20\n",
      "Ok aaaabaa 18\n",
      "Ok abcafabcabcaf 65\n"
     ]
    }
   ],
   "source": [
    "test_count_substr(count_substr_pi_func)"
   ]
  },
  {
   "cell_type": "markdown",
   "id": "39553c23",
   "metadata": {},
   "source": [
    "Упражнение №9: Период строки\n",
    "Для данной строки s найти строку p минимальной длины, такую что s можно предстваить как конкатенацию одной или нескольких копий p\n",
    ". Используйте префикс-функцию."
   ]
  },
  {
   "cell_type": "code",
   "execution_count": 22,
   "id": "f46df965",
   "metadata": {},
   "outputs": [],
   "source": [
    "def find_string_period_pi(s:str):\n",
    "    \"\"\"Finds min period of string p: p*k=s, k=1,2...using Pi-function\"\"\"\n",
    "    if s==\"\":\n",
    "        return s\n",
    "    n=len(s)\n",
    "    #if s=p*k pk_1=(k-1)p\n",
    "    p_max=p_func(s,n)[n-1]\n",
    "    len_p=n-p_max\n",
    "    if p_max%len_p==0:\n",
    "        return s[:len_p]\n",
    "    return s"
   ]
  },
  {
   "cell_type": "code",
   "execution_count": 23,
   "id": "15612c5e",
   "metadata": {},
   "outputs": [],
   "source": [
    "def test_find_period_2(find_period):\n",
    "    s=[\"ababab\",\"aaaaa\",\"abcabc\",\"abc\",\"\",\"abababcd\"]\n",
    "    #answer=[2,1,3,3,0,8]\n",
    "    answer=[\"ab\",\"a\",\"abc\",\"abc\",\"\",\"abababcd\"]\n",
    "    for i in range(len(s)):\n",
    "        res=find_period(s[i])\n",
    "        print(\"Ok\" if res==answer[i] else \"Fail\",res,s[i])"
   ]
  },
  {
   "cell_type": "code",
   "execution_count": 24,
   "id": "72116b1c",
   "metadata": {},
   "outputs": [
    {
     "name": "stdout",
     "output_type": "stream",
     "text": [
      "Ok ab ababab\n",
      "Ok a aaaaa\n",
      "Ok abc abcabc\n",
      "Ok abc abc\n",
      "Ok  \n",
      "Ok abababcd abababcd\n"
     ]
    }
   ],
   "source": [
    "test_find_period_2(find_string_period_pi)"
   ]
  }
 ],
 "metadata": {
  "kernelspec": {
   "display_name": "Python 3 (ipykernel)",
   "language": "python",
   "name": "python3"
  },
  "language_info": {
   "codemirror_mode": {
    "name": "ipython",
    "version": 3
   },
   "file_extension": ".py",
   "mimetype": "text/x-python",
   "name": "python",
   "nbconvert_exporter": "python",
   "pygments_lexer": "ipython3",
   "version": "3.8.10"
  },
  "varInspector": {
   "cols": {
    "lenName": 16,
    "lenType": 16,
    "lenVar": 40
   },
   "kernels_config": {
    "python": {
     "delete_cmd_postfix": "",
     "delete_cmd_prefix": "del ",
     "library": "var_list.py",
     "varRefreshCmd": "print(var_dic_list())"
    },
    "r": {
     "delete_cmd_postfix": ") ",
     "delete_cmd_prefix": "rm(",
     "library": "var_list.r",
     "varRefreshCmd": "cat(var_dic_list()) "
    }
   },
   "types_to_exclude": [
    "module",
    "function",
    "builtin_function_or_method",
    "instance",
    "_Feature"
   ],
   "window_display": false
  }
 },
 "nbformat": 4,
 "nbformat_minor": 5
}
