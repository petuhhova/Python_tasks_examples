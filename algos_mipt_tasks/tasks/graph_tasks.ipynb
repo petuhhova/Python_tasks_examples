{
 "cells": [
  {
   "cell_type": "code",
   "execution_count": 3,
   "id": "9c294d16",
   "metadata": {},
   "outputs": [],
   "source": [
    "import sys\n",
    "sys.path.append(\"../lib\")\n",
    "from pathlib import Path\n",
    "import input_output_func as in_out\n",
    "path_to_data=Path(\"../data\")"
   ]
  },
  {
   "cell_type": "code",
   "execution_count": 4,
   "id": "ae9c1485",
   "metadata": {},
   "outputs": [],
   "source": [
    "import numpy as np\n",
    "import matplotlib.pyplot as plt\n",
    "import networkx as nx"
   ]
  },
  {
   "cell_type": "markdown",
   "id": "4f583bef",
   "metadata": {},
   "source": [
    "#### A-Подсчет количества ребер неориентированного графа\n",
    "Простой неориентированный граф задан матрицей смежности. Найдите количество ребер в графе.\n",
    "\n",
    "Формат входных данных\n",
    "На вход программы поступает число n ( 1 <= n <= 100) – количество вершин в графе, а затем n строк по n чисел, каждое из которых равно 0 или 1, – его матрица смежности.\n",
    "\n",
    "Формат выходных данных\n",
    "Выведите одно число – количество ребер заданного графа."
   ]
  },
  {
   "cell_type": "code",
   "execution_count": 6,
   "id": "fa937ef6",
   "metadata": {},
   "outputs": [
    {
     "name": "stdout",
     "output_type": "stream",
     "text": [
      "file A.txt is written\n"
     ]
    }
   ],
   "source": [
    "text=\"\"\"5\n",
    "0 1 0 0 0\n",
    "1 0 1 0 0\n",
    "0 1 0 0 1\n",
    "0 0 0 0 0\n",
    "0 0 1 0 0\"\"\"\n",
    "path=path_to_data.joinpath(\"graph/A.txt\")\n",
    "in_out.write_to_file(text,path)\n",
    "adj_matrix=in_out.input_numbers(n_type=int,first_is_str_count=True,file_name=str(path))\n"
   ]
  },
  {
   "cell_type": "code",
   "execution_count": 9,
   "id": "b38c0b47",
   "metadata": {},
   "outputs": [
    {
     "name": "stdout",
     "output_type": "stream",
     "text": [
      "3\n"
     ]
    }
   ],
   "source": [
    "def count_edges(read_line):\n",
    "    n=int(read_line())\n",
    "    m=0\n",
    "    for i in range(n):\n",
    "        m+=sum(map(int,read_line().split()))\n",
    "    return (m//2)\n",
    "with path.open('r') as f:\n",
    "    print(count_edges(f.readline))"
   ]
  },
  {
   "cell_type": "code",
   "execution_count": 10,
   "id": "41beae80",
   "metadata": {},
   "outputs": [
    {
     "name": "stdout",
     "output_type": "stream",
     "text": [
      "3\n"
     ]
    },
    {
     "data": {
      "image/png": "[encoded data removed]",
      "text/plain": [
       "<Figure size 640x480 with 1 Axes>"
      ]
     },
     "metadata": {},
     "output_type": "display_data"
    }
   ],
   "source": [
    "G=nx.Graph(np.matrix(adj_matrix))\n",
    "nx.draw(G,with_labels=True)\n",
    "print(G.number_of_edges())\n",
    "plt.show()"
   ]
  },
  {
   "cell_type": "markdown",
   "id": "c1d3ec8d",
   "metadata": {},
   "source": [
    "#### B-Проверка матрицы смежности\n",
    "\n",
    "По заданной квадратной матрице n×n из нулей и единиц определите, может ли данная матрица быть матрицей смежности простого неориентированного графа.\n",
    "\n",
    "Формат входных данных\n",
    "На вход программы поступает число n ( 1 <= n <= 100) – размер матрицы, а затем n строк по n чисел, каждое из которых равно 0 или 1, – сама матрица.\n",
    "\n",
    "Формат выходных данных\n",
    "Выведите «YES», если приведенная матрица может быть матрицей смежности простого неориентированного графа, и «NO» в противном случае.\n",
    "\n"
   ]
  },
  {
   "cell_type": "code",
   "execution_count": 11,
   "id": "ebe58ba3",
   "metadata": {},
   "outputs": [
    {
     "name": "stdout",
     "output_type": "stream",
     "text": [
      "3\n",
      "1 0 1\n",
      "0 0 0\n",
      "1 0 0\n",
      "NO\n"
     ]
    }
   ],
   "source": [
    "def is_graph_simple_not_directed(adj_matrix,n):   \n",
    "    for i in range(n):\n",
    "        if adj_matrix[i][i]==1:\n",
    "            return False\n",
    "        for j in range(n//2+1):\n",
    "            if adj_matrix[i][j]!=adj_matrix[j][i]:\n",
    "                return False\n",
    "    return True\n",
    "\n",
    "n=int(input())\n",
    "adj_matrix=[0]*n\n",
    "for i in range(n):\n",
    "    adj_matrix[i]=tuple(map(int,input().split()))\n",
    "    \n",
    "print(\"YES\" if is_graph_simple_not_directed(adj_matrix,n) else \"NO\")"
   ]
  },
  {
   "cell_type": "code",
   "execution_count": 13,
   "id": "de9e9e9a",
   "metadata": {},
   "outputs": [
    {
     "name": "stdout",
     "output_type": "stream",
     "text": [
      "NO\n"
     ]
    },
    {
     "data": {
      "image/png": "[encoded data removed]",
      "text/plain": [
       "<Figure size 640x480 with 1 Axes>"
      ]
     },
     "metadata": {},
     "output_type": "display_data"
    }
   ],
   "source": [
    "#adj_matrix=np.array([[random.randrange(2) for j in range(n)] for i in range(n)])\n",
    "G=nx.Graph(np.array(adj_matrix))\n",
    "nx.draw(G,with_labels=True)\n",
    "print(\"Yes\" if not( G.is_directed() or nx.number_of_selfloops(G)) else \"NO\")\n",
    "plt.show()"
   ]
  },
  {
   "cell_type": "markdown",
   "id": "5a3d962f",
   "metadata": {},
   "source": [
    "### C-Разноцветные холмы\n",
    "\n",
    "В Банановой республике очень много холмов, соединенных мостами. На химическом заводе произошла авария, в результате чего испарилось экспериментальное удобрение \"зован\". На следующий день выпал цветной дождь, причем он прошел только над холмами. В некоторых местах падали красные капли, в некоторых – синие, а в остальных – зеленые, в результате чего холмы стали соответствующего цвета. Президенту Банановой республики это понравилось, но ему захотелось покрасить мосты между вершинами холмов так, чтобы мосты были покрашены в цвет холмов, которые они соединяют. К сожалению, если холмы разного цвета, то покрасить мост таким образом не удастся. Посчитайте количество таких \"плохих\" мостов.\n",
    "\n",
    "Формат входных данных\n",
    "В первой строке входных данных содержится число N (0 < N ≤ 100) – количество холмов. Далее идет матрица смежности, описывающая наличие мостов между холмами (1 – мост есть, 0 – нет). После матрицы смежности идёт пустая строка , и в последней строке записано N чисел, обозначающих цвет холмов: 1 – красный; 2 – синий; 3 – зеленый.\n",
    "\n",
    "Формат выходных данных\n",
    "Выведите одно число – количество \"плохих\" мостов.\n",
    "\n",
    "Примеры\n",
    "-> 7 -> 0 1 0 0 0 1 1 -> 1 0 1 0 0 0 0 -> 0 1 0 0 1 1 0 -> 0 0 0 0 0 0 0 -> 0 0 1 0 0 1 0 -> 1 0 1 0 1 0 0 -> 1 0 0 0 0 0 0 -> -> 1 1 1 1 1 3 3 -- <- 4"
   ]
  },
  {
   "cell_type": "code",
   "execution_count": 31,
   "id": "81d41769",
   "metadata": {},
   "outputs": [
    {
     "name": "stdout",
     "output_type": "stream",
     "text": [
      "file C.txt exists\n"
     ]
    }
   ],
   "source": [
    "text=\"7 -> 0 1 0 0 0 1 1 -> 1 0 1 0 0 0 0 -> 0 1 0 0 1 1 0 -> 0 0 0 0 0 0 0 -> 0 0 1 0 0 1 0 -> 1 0 1 0 1 0 0 -> 1 0 0 0 0 0 0 ->  -> 1 1 1 1 1 3 3\"\n",
    "text=text.replace(\" -> \",\"\\n\")\n",
    "path=path_to_data.joinpath(\"graph/C.txt\")\n",
    "in_out.write_to_file(text,path)"
   ]
  },
  {
   "cell_type": "code",
   "execution_count": 33,
   "id": "2bdb0a31",
   "metadata": {},
   "outputs": [
    {
     "name": "stdout",
     "output_type": "stream",
     "text": [
      "4\n"
     ]
    }
   ],
   "source": [
    "def get_data(read_line):\n",
    "    hills_number=int(read_line())\n",
    "    banana_map=get_banana_map(hills_number,read_line)\n",
    "    read_line()\n",
    "    hill_colors=dict(enumerate(read_line().split()))\n",
    "    return banana_map,hill_colors\n",
    "    \n",
    "def get_banana_map(hills_number,read_line):\n",
    "    banana_map={}\n",
    "    for hill in range(hills_number):\n",
    "        s=read_line()\n",
    "        neighbours_hills=set()\n",
    "        for hill_id,is_bridge in enumerate(s.split()):\n",
    "            if is_bridge==\"1\":\n",
    "                neighbours_hills.add(hill_id)\n",
    "        banana_map[hill]=neighbours_hills\n",
    "    return banana_map\n",
    "\n",
    "def count_bad_bridges(banana_map,hill_colors):\n",
    "    bad_bridges_count=0\n",
    "    for hill,neighbours_hills in banana_map.items():\n",
    "        for nb_hill in neighbours_hills:\n",
    "            if hill_colors[hill]!=hill_colors[nb_hill]:\n",
    "                bad_bridges_count+=1\n",
    "    return bad_bridges_count//2\n",
    "\n",
    "with path.open('r') as f:\n",
    "    banana_map,hill_colors=get_data(f.readline)\n",
    "bad_bridges=count_bad_bridges(banana_map,hill_colors)\n",
    "print(bad_bridges)"
   ]
  },
  {
   "cell_type": "code",
   "execution_count": 34,
   "id": "00a2ba15",
   "metadata": {},
   "outputs": [
    {
     "name": "stdout",
     "output_type": "stream",
     "text": [
      "Bad bridges: 4\n"
     ]
    },
    {
     "data": {
      "image/png": "[encoded data removed]",
      "text/plain": [
       "<Figure size 640x480 with 1 Axes>"
      ]
     },
     "metadata": {},
     "output_type": "display_data"
    }
   ],
   "source": [
    "matrix=in_out.input_numbers(n_type=int,first_is_str_count=True,file_name=str(path))\n",
    "G=nx.Graph(np.array(matrix))\n",
    "\n",
    "colors_str=\"1 1 1 1 1 3 3\"\n",
    "colors_dict={1:\"red\",2:\"blue\", 3:\"green\",0:\"grey\"}\n",
    "node_colors=[int(i) for i in colors_str.split()]\n",
    "edge_colors=[]\n",
    "nx.set_node_attributes(G,dict(enumerate(node_colors)),name=\"color\")\n",
    "G.edges.data(\"color\",0)\n",
    "\n",
    "non_colored_edges=0\n",
    "for node1,node2 in G.edges():\n",
    "    if G.nodes[node1][\"color\"]==G.nodes[node2][\"color\"]:\n",
    "        G[node1][node2][\"color\"]=G.nodes[node1][\"color\"]\n",
    "    else:\n",
    "        G[node1][node2][\"color\"]=0\n",
    "        non_colored_edges+=1\n",
    "    edge_colors.append(G[node1][node2]['color'])\n",
    "node_colors=[colors_dict[i] for i in node_colors]\n",
    "edge_colors=[colors_dict[i] for i in edge_colors]\n",
    "nx.draw(G,with_labels=True,node_color=node_colors,edge_color=edge_colors)\n",
    "print(\"Bad bridges:\",non_colored_edges)\n",
    "plt.show()"
   ]
  },
  {
   "cell_type": "markdown",
   "id": "3bd22440",
   "metadata": {},
   "source": [
    "Сдать решение задачи D-Полуполный граф\n",
    "\n",
    "Ориентированный граф называется полуполным, если между любой парой его различных вершин есть хотя бы одно ребро. Для заданного списком ребер графа проверьте, является ли он полуполным.\n",
    "\n",
    "Формат входных данных\n",
    "Сначала вводятся числа n ( 1 <= n <= 100) – количество вершин в графе и m ( 1 <= m <= n(n - 1)) – количество ребер. Затем следует m пар чисел – ребра графа. Номера вершин начинаются с 0.\n",
    "\n",
    "Формат выходных данных\n",
    "Выведите «YES», если граф является полуполным, и «NO» в противном случае.\n",
    "\n",
    "Примеры\n",
    "Ввод\tВывод\n",
    "2 1\n",
    "1 0\n",
    "YES\n"
   ]
  },
  {
   "cell_type": "code",
   "execution_count": 35,
   "id": "8d59799f",
   "metadata": {},
   "outputs": [
    {
     "name": "stdout",
     "output_type": "stream",
     "text": [
      "2 1\n",
      "1 0\n",
      "YES\n"
     ]
    }
   ],
   "source": [
    "def get_graph(edge_number):\n",
    "    graph={}\n",
    "    for _ in range(edge_number):\n",
    "        v,u = map(int,input().split())\n",
    "        if v in graph:\n",
    "            graph[v].add(u)\n",
    "        else:\n",
    "            graph[v]={u}\n",
    "    return graph\n",
    "\n",
    "def is_semicomplete(graph,v_number):\n",
    "    for v in range(v_number):\n",
    "        for u in range(v_number//2):\n",
    "            if v==u:continue\n",
    "            if not(v in graph and u in graph[v] or(u in graph and v in graph[u])):\n",
    "              return False\n",
    "    return True\n",
    "\n",
    "n,m=map(int,input().split())\n",
    "print(\"YES\" if is_semicomplete(get_graph(m),n) else \"NO\")"
   ]
  }
 ],
 "metadata": {
  "kernelspec": {
   "display_name": "Python 3 (ipykernel)",
   "language": "python",
   "name": "python3"
  },
  "language_info": {
   "codemirror_mode": {
    "name": "ipython",
    "version": 3
   },
   "file_extension": ".py",
   "mimetype": "text/x-python",
   "name": "python",
   "nbconvert_exporter": "python",
   "pygments_lexer": "ipython3",
   "version": "3.8.10"
  },
  "varInspector": {
   "cols": {
    "lenName": 16,
    "lenType": 16,
    "lenVar": 40
   },
   "kernels_config": {
    "python": {
     "delete_cmd_postfix": "",
     "delete_cmd_prefix": "del ",
     "library": "var_list.py",
     "varRefreshCmd": "print(var_dic_list())"
    },
    "r": {
     "delete_cmd_postfix": ") ",
     "delete_cmd_prefix": "rm(",
     "library": "var_list.r",
     "varRefreshCmd": "cat(var_dic_list()) "
    }
   },
   "types_to_exclude": [
    "module",
    "function",
    "builtin_function_or_method",
    "instance",
    "_Feature"
   ],
   "window_display": false
  }
 },
 "nbformat": 4,
 "nbformat_minor": 5
}
