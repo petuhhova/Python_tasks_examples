{
 "cells": [
  {
   "cell_type": "markdown",
   "id": "c62c2279",
   "metadata": {},
   "source": [
    "Вы - водитель грузовика с открытым кузовом. В кузове два груза: пианино и холодильник. \n",
    "    Пианино необходимо доставить в институт, холодильник в общежитие. В каждое из этих мест ведет отдельная дорога,начинающаяся от перекрестка, на котором Вы стоите, других дорог в мире нет.\n",
    "    Известно, что по дороге в институт есть мост, на котором действует ограничение максимальной допустимой массы\n",
    "    автомобиля с грузом, а по дороге в общежитие есть туннель с ограничением высоты.\n",
    "    Требуется определить, возможно ли доставить грузы или нет (разумеется, сгружать их, где попало, Вам запрещено).\n",
    "\n",
    "Формат входных данных\n",
    "На вход подается 8 чисел натуральных чисел (каждое < 100),каждое в новой строке, в следующем порядке:\n",
    "вес грузовика без груза, высота платформы кузова (на которой стоят грузы), вес пианино, высота пианино,\n",
    "вес холодильника, высота холодильника, максимальный допустимый вес на мосту, максимальная допустимая высота в туннеле\n",
    "\n",
    "Примечание: пианино и холодильник заведомо возвышаются над кабиной грузовика, т.е. высоту кабины можно в расчет не принимать.\n",
    "\n",
    "Формат выходных данных\n",
    "Вывести YES если доставка возможна и NO в противном случае."
   ]
  },
  {
   "cell_type": "code",
   "execution_count": 1,
   "id": "7b11e606",
   "metadata": {},
   "outputs": [
    {
     "name": "stdout",
     "output_type": "stream",
     "text": [
      "1\n",
      "1\n",
      "6\n",
      "10\n",
      "5\n",
      "7\n",
      "11\n",
      "10\n",
      "NO\n"
     ]
    }
   ],
   "source": [
    "weight_truck=int(input())\n",
    "height_truck=int(input())\n",
    "weight_piano=int(input())\n",
    "height_piano=int(input())\n",
    "weight_fridge=int(input())\n",
    "height_fridge=int(input())\n",
    "max_weight=int(input())\n",
    "max_height=int(input())\n",
    "\n",
    "\n",
    "def check_weight(wmax,w1,w2,w3=0):\n",
    "    if w1+w2+w3<=wmax:\n",
    "        return True\n",
    "    else:\n",
    "        return False\n",
    "def check_height(hmax,htruck,h2,h3=0):\n",
    "    if (htruck+h2)<=hmax and(htruck+h3)<=hmax:\n",
    "        return True\n",
    "    else:\n",
    "        return False\n",
    "ok=False\n",
    "if check_weight(max_weight,weight_truck,weight_piano,weight_fridge):\n",
    "    #go to institute - piano\n",
    "    if check_height(max_height,height_truck,height_fridge):\n",
    "        #go to campus -fridge\n",
    "        ok=True\n",
    "elif check_height(max_height,height_truck,height_fridge,height_piano):\n",
    "    #go to campus -fridge\n",
    "    if check_weight(max_weight,weight_truck,weight_piano):\n",
    "        #go to institute\n",
    "        ok=True\n",
    "if ok:\n",
    "    print(\"YES\")\n",
    "else:\n",
    "    print(\"NO\")"
   ]
  },
  {
   "cell_type": "code",
   "execution_count": 2,
   "id": "e292e413",
   "metadata": {},
   "outputs": [],
   "source": [
    "\"\"\"1\n",
    "1\n",
    "6\n",
    "10\n",
    "5\n",
    "7\n",
    "11\n",
    "10\"\"\"\n",
    "ans='NO'"
   ]
  },
  {
   "cell_type": "markdown",
   "id": "a533c222",
   "metadata": {},
   "source": [
    "Определите тип треугольника (остроугольный, тупоугольный, прямоугольный) с данными сторонами.\n",
    "\n",
    "Формат входных данных\n",
    "Даны три натуральных числа – стороны треугольника. Каждое число вводится с новой строки.\n",
    "\n",
    "Формат выходных данных\n",
    "Необходимо вывести одно из слов: right для прямоугольного треугольника, acute для остроугольного треугольника, obtuse для тупоугольного треугольника или impossible, треугольника с такими сторонами не существует."
   ]
  },
  {
   "cell_type": "code",
   "execution_count": 3,
   "id": "e3d297a8",
   "metadata": {},
   "outputs": [
    {
     "name": "stdout",
     "output_type": "stream",
     "text": [
      "100\n",
      "10\n",
      "20\n",
      "impossible\n"
     ]
    }
   ],
   "source": [
    "a=int(input())\n",
    "b=int(input())\n",
    "c=int(input())\n",
    "\n",
    "def check_exist(a,b,c):\n",
    "    if(a+b>c) and b+c>a and (c+a>b):\n",
    "        return True\n",
    "    else:\n",
    "        print(\"impossible\")\n",
    "        return False\n",
    "\n",
    "if check_exist(a,b,c):\n",
    "    a2,b2,c2=map(lambda x: x**2,sorted([a,b,c]))\n",
    "    if (c2>a2+b2):\n",
    "        print('obtuse')\n",
    "    elif (c2<a2+b2):\n",
    "        print('acute')\n",
    "    else:\n",
    "        print('right')\n"
   ]
  },
  {
   "cell_type": "markdown",
   "id": "f141b5a6",
   "metadata": {},
   "source": [
    "На вход программе подается последовательность чисел, заканчивающихся нулем. Сам ноль не входит в последовательность. Найти среднее значение последовательности. Для округления использовать функцию round(x, n). Где x - число, n - количество знаков после запятой.\n",
    "\n",
    "Формат входных данных\n",
    "Последовательность чисел, заканчивающихся нулем. Одно число в строку.\n",
    "\n",
    "Формат выходных данных\n",
    "Одно число — среднее значение. Округлить до двух цифр после запятой.\n",
    "\n"
   ]
  },
  {
   "cell_type": "code",
   "execution_count": 4,
   "id": "7d89f98b",
   "metadata": {},
   "outputs": [
    {
     "name": "stdout",
     "output_type": "stream",
     "text": [
      "1\n",
      "2\n",
      "3\n",
      "4\n",
      "5\n",
      "0\n",
      "3.0\n"
     ]
    }
   ],
   "source": [
    "x=int(input())\n",
    "sum_=0\n",
    "count=0\n",
    "while x!=0:\n",
    "    sum_+=x\n",
    "    count+=1\n",
    "    x=int(input())\n",
    "print(round(sum_/count,2))"
   ]
  },
  {
   "cell_type": "markdown",
   "id": "f9a05b6c",
   "metadata": {},
   "source": [
    "Последовательность состоит из натуральных чисел и завершается числом 0. Определите значение наибольшего четного элемента последовательности. Числа, следующие за нулем, считывать не нужно.\n",
    "\n",
    "Формат входных данных\n",
    "Последовательность целых чисел, оканчивающаяся числом 0 (само число 0 в последовательность не входит). Каждое число на новой строке.\n",
    "\n",
    "Формат выходных данных\n",
    "Одно число — максимальное четное число в последовательности, если четные числа в ней присутствуют, иначе - 0."
   ]
  },
  {
   "cell_type": "code",
   "execution_count": 6,
   "id": "5a446b23",
   "metadata": {
    "scrolled": true
   },
   "outputs": [
    {
     "name": "stdout",
     "output_type": "stream",
     "text": [
      "7\n",
      "6\n",
      "8\n",
      "5\n",
      "8\n",
      "0\n",
      "8\n"
     ]
    }
   ],
   "source": [
    "x=int(input())\n",
    "max_=0\n",
    "while x!=0:\n",
    "    if x%2==0 and x>max_:\n",
    "        max_=x\n",
    "    x=int(input())\n",
    "print(max_)"
   ]
  },
  {
   "cell_type": "markdown",
   "id": "74e63884",
   "metadata": {},
   "source": [
    "Числа трибоначчи - последовательность целых чисел {t n }, заданная с помощью рекуррентного соотношения: t 0 = 0, t 1 = 0, t 2 = 1 , t n+3 = t n + t n+1 + t n+2 Нужно найти номер первого числа трибоначчи, превосходящего заданное. Нумерация начинается с 0 .\n",
    "\n",
    "Формат входных данных\n",
    "Одно целое число.\n",
    "\n",
    "Формат выходных данных\n",
    "Одно число — номер первого числа трибоначчи, превосходящее заданное во входных данных число"
   ]
  },
  {
   "cell_type": "code",
   "execution_count": 7,
   "id": "83f34085",
   "metadata": {},
   "outputs": [
    {
     "name": "stdout",
     "output_type": "stream",
     "text": [
      "5\n",
      "6\n"
     ]
    }
   ],
   "source": [
    "value=int(input())\n",
    "def tribonachi(t:list):\n",
    "    sum_=sum(t)\n",
    "    t[0]=t[1]\n",
    "    t[1]=t[2]\n",
    "    t[2]=sum_\n",
    "    return t\n",
    "\n",
    "def find_tribonachi_number(value:int):\n",
    "    count=2\n",
    "    t=[0,0,1]\n",
    "    if value<0:\n",
    "        return 0\n",
    "    while t[2]<=value:\n",
    "        t=tribonachi(t)\n",
    "        count+=1\n",
    "    return count\n",
    "print(find_tribonachi_number(value))"
   ]
  },
  {
   "cell_type": "markdown",
   "id": "f450f251",
   "metadata": {},
   "source": [
    "Необходимо найти НОД двух чисел, используя алгоритм Евклида.\n",
    "\n",
    "Формат входных данных\n",
    "На вход подаются два натуральных числа, по числу в новой строке.\n",
    "\n",
    "Формат выходных данных\n",
    "Одно число - НОД входных чисел."
   ]
  },
  {
   "cell_type": "code",
   "execution_count": 8,
   "id": "e2b240dd",
   "metadata": {},
   "outputs": [
    {
     "name": "stdout",
     "output_type": "stream",
     "text": [
      "27\n",
      "18\n",
      "9\n"
     ]
    }
   ],
   "source": [
    "a=int(input())\n",
    "b=int(input())\n",
    "\n",
    "def nod(a,b):\n",
    "    r=a%b\n",
    "    while r!=0:\n",
    "        a,b=b,r\n",
    "        r=a%b\n",
    "    return b\n",
    "\n",
    "print(nod(a,b))"
   ]
  },
  {
   "cell_type": "markdown",
   "id": "1cc587a8",
   "metadata": {},
   "source": [
    "На вход программе подается массив чисел.Необходимо найти число, которое чаще всего встречается в массиве. Гарантируется, что такое число одно.\n",
    "\n",
    "Формат входных данных\n",
    "В первой строке задается число N , длина массива, далее идут N чисел -- элементы массива. Все числа больше 0 и меньше 100. Каждое число вводится с новой строки.\n",
    "\n",
    "Формат выходных данных\n",
    "Одно число, которое встречается наибольшее количество раз."
   ]
  },
  {
   "cell_type": "code",
   "execution_count": 9,
   "id": "94f16ae2",
   "metadata": {},
   "outputs": [
    {
     "name": "stdout",
     "output_type": "stream",
     "text": [
      "10\n",
      "23\n",
      "32\n",
      "23\n",
      "32\n",
      "32\n",
      "56\n",
      "45\n",
      "45\n",
      "45\n",
      "45\n",
      "45\n"
     ]
    }
   ],
   "source": [
    "n=int(input())\n",
    "def find_freq_num(n:int):\n",
    "    m=[0]*n\n",
    "    max_count=0\n",
    "    value=0\n",
    "    for i in range(n):\n",
    "        m[i]=int(input())\n",
    "    for i in range(n):\n",
    "        count=m.count(m[i])\n",
    "        if count>max_count:\n",
    "            max_count=count\n",
    "            value=m[i]\n",
    "    return value\n",
    "print(find_freq_num(n))"
   ]
  },
  {
   "cell_type": "markdown",
   "id": "05621b0b",
   "metadata": {},
   "source": [
    "Одной из важнейших операций в линейной алгебре, аналитической геометрии, математическом анализе, анализе данных, искуственном интеллекте, компьютерной графике и в огромном количестве других областей математики и информатики является вычисление скалярного произведения двух векторов.\n",
    "\n",
    "Вычисляется скалярное произведение, как сумма произведений соответствующих компонент векторов.\n",
    "\n",
    "В данной задаче вам необходимо написать функцию dot_product(N, vector1, vector2) , вычисляющую скалярное произведение для двух заданных векторов одинаковой размерности N .\n",
    "\n",
    "Обратите внимание: в решении должно быть только объяевление одной функции dot_product и никакого другого кода.\n",
    "\n",
    "Аргументы функции\n",
    "Функция принимает в качестве аргументов размерность пространства N и 2 вектора. Гарантируется, что размерности векторов совпадают. Векторы заданы списками длины N .\n",
    "\n",
    "Возвращаемое значение\n",
    "Функция должна возвращать одно число -- скалярное произведение заданных векторов."
   ]
  },
  {
   "cell_type": "code",
   "execution_count": 10,
   "id": "9b16e913",
   "metadata": {},
   "outputs": [],
   "source": [
    "def dot_product(N, vector1, vector2):\n",
    "    dp=0\n",
    "    for i in range(N):\n",
    "        dp+=vector1[i]*vector2[i]\n",
    "    return dp"
   ]
  },
  {
   "cell_type": "code",
   "execution_count": 11,
   "id": "bdade0f5",
   "metadata": {},
   "outputs": [
    {
     "data": {
      "text/plain": [
       "32"
      ]
     },
     "execution_count": 11,
     "metadata": {},
     "output_type": "execute_result"
    }
   ],
   "source": [
    "v1=[1,2,3]\n",
    "v2=[4,5,6]\n",
    "dot_product(3,v1,v2)"
   ]
  },
  {
   "cell_type": "markdown",
   "id": "bdddd8e6",
   "metadata": {},
   "source": [
    "В некотором физическом эксперименте показания прибора снимались с частотой 5 измерений в секунду. Эксперимент проводился в течение довольно большого времени, и в результате накопилось очень много данных. Ученых, которые проводили данный эксперимент, очень интересует, какое максимальное значение измеряемой величины достигалось во время измерения. Но вот беда: на остановку установки также требуется секунда времени, и в течение этого времени с установки могут приходить совершенно любые значения величины. В связи с этим, показания последних 5 измерений учитывать при поиске максимального значения не следует.\n",
    "\n",
    "Вам необходимо написать программу, которая в данном потоке чисел заранее неизвестной длины находит максимальное значение, отбрасывая при этом последние 5 измерений.\n",
    "\n",
    "Формат входных данных\n",
    "На вход вашей программе передается последовательность натуральных чисел -- результаты измерений. Каждое новое число передается с новой строки. Гарантируется, что длина входной последовательности не меньше 6 и не превосходит 10 9 . На конце последовательности передается число 0.\n",
    "\n",
    "Формат выходных данных\n",
    "Программа должна вывести на экран одно число -- максимальное значение входной последовательности за исключением последних 5 элементов."
   ]
  },
  {
   "cell_type": "code",
   "execution_count": 12,
   "id": "331019a7",
   "metadata": {},
   "outputs": [
    {
     "name": "stdout",
     "output_type": "stream",
     "text": [
      "1\n",
      "2\n",
      "5\n",
      "7\n",
      "8\n",
      "7\n",
      "7\n",
      "7\n",
      "0\n",
      "5\n"
     ]
    }
   ],
   "source": [
    "def shift_last5(x:int,last5:list):\n",
    "    for i in range(4):\n",
    "        last5[i]=last5[i+1]\n",
    "    last5[4]=x\n",
    "    return last5\n",
    "\n",
    "def find_max():\n",
    "    last5=[0]*5\n",
    "    max_=0\n",
    "    x=0\n",
    "    for i in range(5):\n",
    "        x=int(input())\n",
    "        last5[i]=x\n",
    "    x=int(input())\n",
    "    while x!=0:\n",
    "        if last5[0]>max_:\n",
    "            max_=last5[0]\n",
    "        last5=shift_last5(x,last5)\n",
    "        x=int(input())\n",
    "    return max_\n",
    "\n",
    "print(find_max())\n",
    "        "
   ]
  },
  {
   "cell_type": "markdown",
   "id": "aca95d63",
   "metadata": {},
   "source": [
    "Напротив Васиного дома поставили забор, состоящий из 10 9 дощечек. Каждый день, выгдядывая в окно, он видел, что часть забора с дощечки l i до дощечки r i красят в цвет c i . При этом он записывал, какой отрезок забора в какой цвет красили. Эти данные он предоставил Вам и просил ответить на вопрос: в какой цвет будут выкрашены интересующие Васю дощечки через N дней? Изначально все дощечки были цвета 0.\n",
    "\n",
    "Формат входных данных\n",
    "На первой строке вводится число 0 <= N <= 100 - количество дней. Далее на 3*N строках идут тройки чисел (каждое в новой строке): 1 <= l i <= r i <= 10 9 и 0 <= c i <= 10 6 . Далее идет число 0 < M <= 100 - число интересующих Васю дощечек. Далее на M строках номера дощечек.\n",
    "\n",
    "Формат выходных данных\n",
    "Вывести M чисел, разделенных пробелами - цвета дощечек."
   ]
  },
  {
   "cell_type": "code",
   "execution_count": 13,
   "id": "896e0473",
   "metadata": {},
   "outputs": [
    {
     "name": "stdout",
     "output_type": "stream",
     "text": [
      "3\n",
      "4\n",
      "6\n",
      "2\n",
      "7\n",
      "19\n",
      "6\n",
      "13\n",
      "15\n",
      "1\n",
      "2\n",
      "5\n",
      "14\n",
      "2 1\n"
     ]
    }
   ],
   "source": [
    "n=int(input())\n",
    "l=[0]*n\n",
    "r=[0]*n\n",
    "c=[0]*n\n",
    "for i in range(n):\n",
    "    l[i]=int(input())\n",
    "    r[i]=int(input())\n",
    "    c[i]=int(input())\n",
    "m=int(input())\n",
    "numbers=[0]*m\n",
    "for i in range(m):\n",
    "    numbers[i]=int(input())\n",
    "\n",
    "def find_last_color(num,l,r,c,n):\n",
    "    for i in range(n-1,-1,-1):\n",
    "        if l[i]<num<r[i]:\n",
    "            return c[i]\n",
    "    return 0\n",
    "\n",
    "def find_colors(l,r,c,numbers,n,m):\n",
    "    colors=[0]*m\n",
    "    for i in range(m):\n",
    "        colors[i]=find_last_color(numbers[i],l,r,c,n)\n",
    "    return colors\n",
    "print(\" \".join(map(str,find_colors(l,r,c,numbers,n,m))))"
   ]
  },
  {
   "cell_type": "code",
   "execution_count": 14,
   "id": "5355f0ca",
   "metadata": {},
   "outputs": [],
   "source": [
    "\"\"\"3\n",
    "4\n",
    "6\n",
    "2\n",
    "7\n",
    "19\n",
    "6\n",
    "13\n",
    "15\n",
    "1\n",
    "2\n",
    "5\n",
    "14\"\"\"\n",
    "ans=\"2 1\""
   ]
  }
 ],
 "metadata": {
  "kernelspec": {
   "display_name": "Python 3 (ipykernel)",
   "language": "python",
   "name": "python3"
  },
  "language_info": {
   "codemirror_mode": {
    "name": "ipython",
    "version": 3
   },
   "file_extension": ".py",
   "mimetype": "text/x-python",
   "name": "python",
   "nbconvert_exporter": "python",
   "pygments_lexer": "ipython3",
   "version": "3.8.10"
  },
  "varInspector": {
   "cols": {
    "lenName": 16,
    "lenType": 16,
    "lenVar": 40
   },
   "kernels_config": {
    "python": {
     "delete_cmd_postfix": "",
     "delete_cmd_prefix": "del ",
     "library": "var_list.py",
     "varRefreshCmd": "print(var_dic_list())"
    },
    "r": {
     "delete_cmd_postfix": ") ",
     "delete_cmd_prefix": "rm(",
     "library": "var_list.r",
     "varRefreshCmd": "cat(var_dic_list()) "
    }
   },
   "types_to_exclude": [
    "module",
    "function",
    "builtin_function_or_method",
    "instance",
    "_Feature"
   ],
   "window_display": false
  }
 },
 "nbformat": 4,
 "nbformat_minor": 5
}
