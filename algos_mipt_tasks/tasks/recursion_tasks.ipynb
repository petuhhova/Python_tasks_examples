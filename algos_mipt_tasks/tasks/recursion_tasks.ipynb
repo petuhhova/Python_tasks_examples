{
 "cells": [
  {
   "cell_type": "markdown",
   "id": "abbdba99",
   "metadata": {},
   "source": [
    "### Рекурсия"
   ]
  },
  {
   "cell_type": "code",
   "execution_count": 1,
   "id": "c9b62664",
   "metadata": {
    "scrolled": true
   },
   "outputs": [],
   "source": [
    " def fac(n):\n",
    "    if n == 0:\n",
    "        return 1\n",
    "    else:\n",
    "        return n * fac(n - 1)\n",
    "fac(5)"
   ]
  },
  {
   "cell_type": "code",
   "execution_count": 2,
   "id": "2aab5e81",
   "metadata": {},
   "outputs": [],
   "source": [
    "def fac2(n):\n",
    "...     f = 1\n",
    "...     x = 2\n",
    "...     while x <= n:\n",
    "...         f *= x\n",
    "...         x += 1\n",
    "...\n",
    "...     return f\n",
    "...\n",
    "fac2(5)"
   ]
  },
  {
   "cell_type": "markdown",
   "id": "b030f2d0",
   "metadata": {},
   "source": [
    "Отличие этих двух программ кроется в подходе к их построению. Первая написана в декларативном стиле, то есть для вычисления факториала используются его свойства, а именно n! = n*(n-1)! и 0!=1. Второй же подход использует императивный стиль: мы явно описываем, что представляет из себя факториал: n! = 1*2*…*n. В большинстве случаев один и тот же алгорит может быть легко записан, как в рекурсивной форме, так и в нерекурсивной, но существует ряд задач, для которых построение нерекурсивного алгоритма представляется весьма трудозатратным.\n",
    "\n",
    "Количество вложенных рекурсивных вызовов называется глубиной рекурсии. В силу ограниченности вычислительных ресурсов рекурсия в компьютерных программах не бывает бесконечной — программист должен явно следить за тем, чтобы глубина рекурсивных вызовов не превышала заранее известного числа. Если программист об этом не позаботился (или же сделал это некорректно), операционная система (или интерпретатор) аварийно завершит программу по исчерпанию доступых ресурсов. Чтобы убедиться в этом, попробуйте вычислить (-5)! при помощи рассмотренного ранее примера рекурсивного алгоритма вычисления факториала.\n",
    "\n",
    "Модуль sys обеспечивает доступ к некоторым переменным и функциям, взаимодействующим с интерпретатором python и операционной системой."
   ]
  },
  {
   "cell_type": "markdown",
   "id": "b7295cdd",
   "metadata": {},
   "source": [
    "Упражнение №1: длина рекурсии\n",
    "С помощью функции fac(n) определите текущую установленную глубину рекурсии и сравните ваш результат с возвращаемым значением функции sys.getrecursionlimit(). Учтите, что sys.getrecursionlimit() возвращает максимальную глубину стека вызовов, а не максимальную глубину рекурсии для какой-либо функции.\n"
   ]
  },
  {
   "cell_type": "code",
   "execution_count": 3,
   "id": "e948c807",
   "metadata": {},
   "outputs": [],
   "source": [
    "import sys\n",
    "max_deep=sys.getrecursionlimit()\n",
    "print(\"System:\",max_deep)\n",
    "while True:\n",
    "    try:\n",
    "        fac(max_deep)\n",
    "    except RecursionError:\n",
    "        max_deep-=1\n",
    "    else:\n",
    "        break\n",
    "print(\"Recursion deep:\", max_deep)"
   ]
  },
  {
   "cell_type": "markdown",
   "id": "3cdbaccf",
   "metadata": {},
   "source": [
    "Упражнение №2: числа Фибоначчи\n",
    "Напишите программу, вычисляющую n-ное число Фибоначчи. Используйте рекурсивные вызовы функций. Пример 7 13\n",
    "0 1 1 2"
   ]
  },
  {
   "cell_type": "code",
   "execution_count": 4,
   "id": "da8adfb7",
   "metadata": {},
   "outputs": [],
   "source": [
    "def fibonachi(n:int):\n",
    "    \"\"\"Считает n-е число фибоначчи\n",
    "    n>0\"\"\"\n",
    "    assert n>=0, \"порядковый номер начинается с 0\"\n",
    "    if n==0:## n<=1 return n\n",
    "        return 0\n",
    "    elif n==1:\n",
    "        return 1\n",
    "    return fibonachi(n-1)+fibonachi(n-2)"
   ]
  },
  {
   "cell_type": "code",
   "execution_count": 5,
   "id": "da08314d",
   "metadata": {},
   "outputs": [],
   "source": [
    "fibonachi(4)"
   ]
  },
  {
   "cell_type": "markdown",
   "id": "47d29533",
   "metadata": {},
   "source": [
    "Нарисуйте кривую Коха. Процесс её построения выглядит следующим образом: берём единичный отрезок, разделяем на три равные части и заменяем средний интервал равносторонним треугольником без этого сегмента. В результате образуется ломаная, состоящая из четырёх звеньев длины 1/3. На следующем шаге повторяем операцию для каждого из четырёх получившихся звеньев и т. д… Предельная кривая и есть кривая Коха.\n",
    "\n",
    "Пример работы алгоритма при разной глубине рекурсии:\n",
    "\n",
    "   \n",
    "Для ускорения рисования используйте:\n",
    "\n",
    "turtle.speed('fastest')"
   ]
  },
  {
   "cell_type": "code",
   "execution_count": 1,
   "id": "85e0c091",
   "metadata": {},
   "outputs": [],
   "source": [
    "import turtle"
   ]
  },
  {
   "cell_type": "code",
   "execution_count": 4,
   "id": "316c0a9e",
   "metadata": {},
   "outputs": [],
   "source": [
    "#turtle.speed('fastest')\n",
    "def draw_koh(length=800.,deep=3):\n",
    "    \"\"\"Draws koh curve _/\\_, a fractal with deep \"\"\"\n",
    "    assert deep<5,\"deep<5,else is too long drawing\"\n",
    "    if deep==0:\n",
    "        x=length/3\n",
    "        turtle.forward(x)\n",
    "        turtle.left(60)\n",
    "        turtle.forward(x)\n",
    "        turtle.right(120)\n",
    "        turtle.forward(x)\n",
    "        turtle.left(60)\n",
    "        turtle.forward(x)\n",
    "        return\n",
    "    x=length/3\n",
    "    draw_koh(x,deep-1)\n",
    "    turtle.left(60)\n",
    "    draw_koh(x,deep-1)\n",
    "    turtle.right(120)\n",
    "    draw_koh(x,deep-1)\n",
    "    turtle.left(60)\n",
    "    draw_koh(x,deep-1)"
   ]
  },
  {
   "cell_type": "code",
   "execution_count": 5,
   "id": "34918e49",
   "metadata": {},
   "outputs": [],
   "source": [
    "if(turtle):\n",
    "    turtle.reset()\n",
    "turtle.speed('fastest')\n",
    "turtle.penup()\n",
    "length=800\n",
    "turtle.goto(-length/2,-length/4/3)\n",
    "turtle.pendown()\n",
    "draw_koh(length,4)"
   ]
  },
  {
   "cell_type": "code",
   "execution_count": 6,
   "id": "0937b6d6",
   "metadata": {},
   "outputs": [],
   "source": [
    "turtle.bye()"
   ]
  },
  {
   "cell_type": "markdown",
   "id": "380918a8",
   "metadata": {},
   "source": [
    "Три копии кривой Коха, построенные (остриями наружу) на сторонах правильного треугольника, образуют замкнутую кривую бесконечной длины, называемую снежинкой Коха. Нарисуйте ee.\n",
    "\n",
    "Пример работы алгоритма при разной глубине рекурсии:"
   ]
  },
  {
   "cell_type": "code",
   "execution_count": 9,
   "id": "c31c0843",
   "metadata": {},
   "outputs": [],
   "source": [
    "def draw_koh_snowflake(length=600,deep=3):\n",
    "    \"\"\"Draws Koh snowflake,a fractal\n",
    "    gets lenght of 1 side and deep\"\"\"\n",
    "    assert deep<5,\"deep<5,else is too long drawing\"\n",
    "    turtle.penup()\n",
    "    turtle.goto(-length/2,length/4)\n",
    "    turtle.pendown()\n",
    "    draw_koh(length,deep)\n",
    "    turtle.right(120)\n",
    "    draw_koh(length,deep)\n",
    "    turtle.right(120)\n",
    "    draw_koh(length,deep)"
   ]
  },
  {
   "cell_type": "code",
   "execution_count": 10,
   "id": "7da85574",
   "metadata": {},
   "outputs": [],
   "source": [
    "turtle.left(0)\n",
    "turtle.reset()\n",
    "turtle.speed('fastest')\n",
    "draw_koh_snowflake(deep=3)"
   ]
  },
  {
   "cell_type": "code",
   "execution_count": null,
   "id": "57cd07f8",
   "metadata": {},
   "outputs": [],
   "source": [
    "turtle.bye()"
   ]
  },
  {
   "cell_type": "markdown",
   "id": "0fd65735",
   "metadata": {},
   "source": [
    "Нарисуйте кривую Минковского. Кривая Минковского нулевого порядка - горизонтальный отрезок. Затем на каждом шаге каждый из отрезков заменяется на ломанную, состоящую из 8 звеньев.\n",
    "\n",
    "Пример работы алгоритма при разной глубине рекурсии:"
   ]
  },
  {
   "cell_type": "code",
   "execution_count": 11,
   "id": "34ca7be6",
   "metadata": {},
   "outputs": [],
   "source": [
    "def draw_Minkovskiy_curve(length=800,deep=2):\n",
    "    \"\"\"Draws Minkovskiy curve, a fractal\n",
    "    gets length and deep\n",
    "      _\n",
    "    _| |  _\n",
    "       |_|\"\"\"\n",
    "    assert deep<4,\"deep<4,else too long drawing\"\n",
    "    if deep==0:\n",
    "        x=length/4\n",
    "        turtle.forward(x)\n",
    "        turtle.left(90)\n",
    "        turtle.forward(x)\n",
    "        turtle.right(90)\n",
    "        turtle.forward(x)\n",
    "        turtle.right(90)\n",
    "        turtle.forward(2*x)\n",
    "        turtle.left(90)\n",
    "        turtle.forward(x)\n",
    "        turtle.left(90)\n",
    "        turtle.forward(x)\n",
    "        turtle.right(90)\n",
    "        turtle.forward(x)\n",
    "        return\n",
    "    x=length/4\n",
    "    draw_Minkovskiy_curve(x,deep-1)\n",
    "    turtle.left(90)\n",
    "    draw_Minkovskiy_curve(x,deep-1)\n",
    "    turtle.right(90)\n",
    "    draw_Minkovskiy_curve(x,deep-1)\n",
    "    turtle.right(90)\n",
    "    draw_Minkovskiy_curve(x,deep-1)\n",
    "    draw_Minkovskiy_curve(x,deep-1)\n",
    "    turtle.left(90)\n",
    "    draw_Minkovskiy_curve(x,deep-1)\n",
    "    turtle.left(90)\n",
    "    draw_Minkovskiy_curve(x,deep-1)\n",
    "    turtle.right(90)\n",
    "    draw_Minkovskiy_curve(x,deep-1)\n",
    "    "
   ]
  },
  {
   "cell_type": "code",
   "execution_count": 19,
   "id": "53092003",
   "metadata": {},
   "outputs": [],
   "source": [
    "def turtle_create(x,y,reset=True):\n",
    "    \"\"\"Creates a new fast turtle at coordinates x,y,\n",
    "    resets all previos\"\"\"\n",
    "    turtle.penup()\n",
    "    turtle.reset() if reset else turtle.home()\n",
    "    turtle.penup()\n",
    "    turtle.goto(x,y)\n",
    "    turtle.pendown()\n",
    "    turtle.speed('fastest')"
   ]
  },
  {
   "cell_type": "code",
   "execution_count": 20,
   "id": "8856f488",
   "metadata": {},
   "outputs": [],
   "source": [
    "lenght=400\n",
    "turtle_create(-lenght/2,0)\n",
    "draw_Minkovskiy_curve(lenght,1)"
   ]
  },
  {
   "cell_type": "markdown",
   "id": "1ddd6209",
   "metadata": {},
   "source": [
    "Нарисуйте кривую Леви. Она получается, если взять половину квадрата вида /\\, а затем каждую сторону заменить таким же фрагментом и так далее.\n",
    "\n",
    "Пример работы алгоритма при разной глубине рекурсии:"
   ]
  },
  {
   "cell_type": "code",
   "execution_count": 21,
   "id": "8fe38dea",
   "metadata": {},
   "outputs": [],
   "source": [
    "def draw_Levi_curve(lenght=400,deep=3):\n",
    "    assert deep<10,\"deep<10,else too long drawing\"\n",
    "    if deep==0:\n",
    "        x=lenght*2**0.5/2\n",
    "        turtle.left(45)\n",
    "        turtle.forward(x)\n",
    "        turtle.right(90)\n",
    "        turtle.forward(x)\n",
    "        turtle.left(45)\n",
    "        return\n",
    "    x=lenght*2**0.5/2\n",
    "    turtle.left(45)\n",
    "    draw_Levi_curve(x,deep-1)\n",
    "    turtle.right(90)\n",
    "    draw_Levi_curve(x,deep-1)\n",
    "    turtle.left(45)"
   ]
  },
  {
   "cell_type": "code",
   "execution_count": 24,
   "id": "6bb1114e",
   "metadata": {},
   "outputs": [],
   "source": [
    "lenght=400\n",
    "turtle_create(-lenght/2,-lenght/4)\n",
    "draw_Levi_curve(lenght=400,deep=5)"
   ]
  },
  {
   "cell_type": "code",
   "execution_count": 25,
   "id": "2ce73940",
   "metadata": {},
   "outputs": [],
   "source": [
    "def dragons_curve(length=400,deep=3,turn=\"right\"):\n",
    "    if deep==0:\n",
    "        turtle.forward(length)\n",
    "        return\n",
    "    x=length/2**0.5\n",
    "    if turn=='right':\n",
    "        turtle.right(45)\n",
    "        dragons_curve(x,deep-1,turn=\"right\")\n",
    "        turtle.left(90)\n",
    "        dragons_curve(x,deep-1,turn=\"left\")\n",
    "        #turtle.right(45)\n",
    "    elif turn=='left':\n",
    "        #turtle.left(45)\n",
    "        dragons_curve(x,deep-1,turn=\"right\")\n",
    "        turtle.right(90)\n",
    "        dragons_curve(x,deep-1,turn=\"left\")\n",
    "        turtle.left(45)"
   ]
  },
  {
   "cell_type": "code",
   "execution_count": 27,
   "id": "15e925c4",
   "metadata": {},
   "outputs": [],
   "source": [
    "length=300\n",
    "turtle_create(-length/2,0)\n",
    "dragons_curve(length,8)\n",
    "#turtle_create(-length/2,0,reset=False)\n",
    "#turtle.color('green')\n",
    "#dragons_curve(length,2)"
   ]
  },
  {
   "cell_type": "markdown",
   "id": "14b3309c",
   "metadata": {},
   "source": [
    "Упражнение №8: Канторово множество\n",
    "Нарисуйте Канторово множество. Канторово множество нулевого порядка - горизонтальный отрезок. Удалив среднюю треть получим множество первого порядка. Повторяя данную процедуру получим остальные множества.\n",
    "\n"
   ]
  },
  {
   "cell_type": "code",
   "execution_count": 28,
   "id": "4cc43bf1",
   "metadata": {},
   "outputs": [],
   "source": [
    "def draw_Cantor_set(length=500,deep=5,width=20):\n",
    "    \"\"\"Draws Cantor set\n",
    "    gets lenght,deep, width-distanse between two lines\n",
    "    _________\n",
    "    ___   ___\n",
    "    _ _   _ _\"\"\"\n",
    "    if deep==0:\n",
    "        turtle.forward(length)\n",
    "        return\n",
    "    turtle.forward(length)\n",
    "    x,y=turtle.pos()#the end of our drawn line \n",
    "    turtle.penup()\n",
    "    turtle.goto(x-length,y-width)\n",
    "    turtle.pendown()\n",
    "    \n",
    "    l=length/3\n",
    "    draw_Cantor_set(l,deep-1,width)\n",
    "    turtle.penup()\n",
    "    turtle.goto(x-l,y-width)\n",
    "    turtle.pendown()\n",
    "    draw_Cantor_set(length/3,deep-1,width)"
   ]
  },
  {
   "cell_type": "code",
   "execution_count": 29,
   "id": "8774e77c",
   "metadata": {},
   "outputs": [],
   "source": [
    "length=500\n",
    "n=5\n",
    "width=length/n/2\n",
    "turtle_create(-length/2,0)\n",
    "draw_Cantor_set(length,n,width)"
   ]
  },
  {
   "cell_type": "code",
   "execution_count": 30,
   "id": "026bec3b",
   "metadata": {},
   "outputs": [],
   "source": [
    "turtle.bye()"
   ]
  }
 ],
 "metadata": {
  "kernelspec": {
   "display_name": "Python 3 (ipykernel)",
   "language": "python",
   "name": "python3"
  },
  "language_info": {
   "codemirror_mode": {
    "name": "ipython",
    "version": 3
   },
   "file_extension": ".py",
   "mimetype": "text/x-python",
   "name": "python",
   "nbconvert_exporter": "python",
   "pygments_lexer": "ipython3",
   "version": "3.8.10"
  },
  "varInspector": {
   "cols": {
    "lenName": 16,
    "lenType": 16,
    "lenVar": 40
   },
   "kernels_config": {
    "python": {
     "delete_cmd_postfix": "",
     "delete_cmd_prefix": "del ",
     "library": "var_list.py",
     "varRefreshCmd": "print(var_dic_list())"
    },
    "r": {
     "delete_cmd_postfix": ") ",
     "delete_cmd_prefix": "rm(",
     "library": "var_list.r",
     "varRefreshCmd": "cat(var_dic_list()) "
    }
   },
   "types_to_exclude": [
    "module",
    "function",
    "builtin_function_or_method",
    "instance",
    "_Feature"
   ],
   "window_display": false
  }
 },
 "nbformat": 4,
 "nbformat_minor": 5
}
